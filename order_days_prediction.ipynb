{
 "cells": [
  {
   "cell_type": "markdown",
   "metadata": {},
   "source": [
    "# **ORDER DAYS PREDICTION**"
   ]
  },
  {
   "cell_type": "markdown",
   "metadata": {},
   "source": [
    "## DATA SCIENCE"
   ]
  },
  {
   "cell_type": "markdown",
   "metadata": {},
   "source": [
    "### 1. Problem Definition"
   ]
  },
  {
   "cell_type": "markdown",
   "metadata": {},
   "source": [
    "The logistics department needs to improve our delivery system by smartly **allocating delivery resources.** "
   ]
  },
  {
   "cell_type": "markdown",
   "metadata": {},
   "source": [
    "#### 1.1 Problem to be Solved\n",
    "Predict the number of order days in the month for each user, it is needed to be able to perform this prediction at every point of the month.\n",
    "\n",
    "**Since our output should be the number of order days, we can state that this is a regression problem**.\n",
    "\n",
    " With this, there are some algorithms that could be more usefull, such as: linear regression, XGBRegression, SVR, etc. In addition, metrics like MAE, MSE, RMSE, etc. should be used. BUT, the main metric **we'll be using to evaluate the model is going to be the MAE (Mean Absolute Error)**, the reason for this is MAE measures the mean error in real unities and, with this, we could check how many missing days we are making in a month, in addition it doesn't penalizes extreme errors (outliers) like RMSE. RMSE could also be used depending in our results of our historical dataset regarding outliers.\n",
    " \n",
    "All this informations will be confirmed through the analysis."
   ]
  },
  {
   "cell_type": "markdown",
   "metadata": {},
   "source": [
    "#### 1.2 Objectives\n",
    "The main objective of this project is to:\n",
    "  * Forecast the number of order days\n",
    "  * Allow real time prediction\n"
   ]
  },
  {
   "cell_type": "markdown",
   "metadata": {},
   "source": [
    "### 2. Exploratory Data Analysis (EDA) - *Part 1*"
   ]
  },
  {
   "cell_type": "markdown",
   "metadata": {},
   "source": [
    "In this first part of the EDA, we'll understand the current data structure of our datasets."
   ]
  },
  {
   "cell_type": "code",
   "execution_count": 8,
   "metadata": {},
   "outputs": [],
   "source": [
    "# Data Manipulation\n",
    "import pandas as pd\n",
    "import numpy as np\n",
    "import itertools\n",
    "\n",
    "# Data Visualization\n",
    "import matplotlib.pyplot as plt\n",
    "import seaborn as sns\n",
    "\n",
    "# Machine Learning\n",
    "import xgboost as xgb\n",
    "from sklearn.model_selection import *\n",
    "from sklearn.metrics import *\n",
    "from sklearn.preprocessing import StandardScaler\n",
    "from sklearn.linear_model import PoissonRegressor\n",
    "from sklearn.model_selection import RandomizedSearchCV\n",
    "from xgboost import XGBRegressor\n",
    "from sklearn.model_selection import TimeSeriesSplit\n",
    "from sklearn.feature_selection import RFE\n",
    "from sklearn.ensemble import RandomForestRegressor\n",
    "from lightgbm import LGBMRegressor\n",
    "from sklearn.ensemble import StackingRegressor\n",
    "from sklearn.linear_model import LinearRegression\n",
    "\n",
    "# Statistics\n",
    "import statsmodels.api as sm\n",
    "from statsmodels import *\n",
    "from scipy.stats import *\n",
    "import math\n",
    "from scikit_posthocs import posthoc_dunn\n",
    "\n",
    "# Warnings\n",
    "import warnings\n",
    "warnings.filterwarnings('ignore')"
   ]
  },
  {
   "cell_type": "markdown",
   "metadata": {},
   "source": [
    "#### 2.1 Data Collection\n",
    "First, let's collect our data that are stored in `parquet`."
   ]
  },
  {
   "cell_type": "code",
   "execution_count": 13,
   "metadata": {},
   "outputs": [],
   "source": [
    "# Importing DataFrames\n",
    "historical_orders_df = pd.read_parquet(r\"D:\\Bruno Serra PC\\Documents\\Bruno\\Visual Studio\\AB Inbev - Data Test\\historical_orders.parquet\", engine='pyarrow')\n",
    "august_total_sales_df = pd.read_parquet(r\"D:\\Bruno Serra PC\\Documents\\Bruno\\Visual Studio\\AB Inbev - Data Test\\august_total_sales.parquet\", engine='pyarrow')\n",
    "august_missing_order_days_df = pd.read_parquet(r\"D:\\Bruno Serra PC\\Documents\\Bruno\\Visual Studio\\AB Inbev - Data Test\\august_with_missing_order_days.parquet\", engine='pyarrow')"
   ]
  },
  {
   "cell_type": "markdown",
   "metadata": {},
   "source": [
    "The `historical_orders` will be used as the test sample for our model, the `august_total_sales` for input data and **`august_with_missing_order_days` as an extra feature, combined with our model.**\n",
    "\n",
    "It is also important to point out that the august_with_missing_order_days should be similuar to our test sample."
   ]
  },
  {
   "cell_type": "markdown",
   "metadata": {},
   "source": [
    "#### 2.2 Data Structure"
   ]
  },
  {
   "cell_type": "markdown",
   "metadata": {},
   "source": [
    "##### 2.2.1 Shape"
   ]
  },
  {
   "cell_type": "code",
   "execution_count": 3,
   "metadata": {},
   "outputs": [
    {
     "name": "stdout",
     "output_type": "stream",
     "text": [
      "august_missing_order_days_df - Shape: (317735, 3)\n",
      "historical_orders_df - Shape: (8596877, 3)\n",
      "august_total_sales_df - Shape: (32944, 2)\n"
     ]
    }
   ],
   "source": [
    "# Lists for each Dataframe\n",
    "datasets = [august_missing_order_days_df, historical_orders_df, august_total_sales_df]\n",
    "datasets_names = ['august_missing_order_days_df', 'historical_orders_df', 'august_total_sales_df']\n",
    "\n",
    "# Iterating and printing the shapes (dimensions)\n",
    "for i, table in enumerate(datasets, start = 0):\n",
    "    print(f\"{datasets_names[i]} - Shape: {table.shape}\")"
   ]
  },
  {
   "cell_type": "markdown",
   "metadata": {},
   "source": [
    "##### 2.2.2 Data Type"
   ]
  },
  {
   "cell_type": "code",
   "execution_count": 4,
   "metadata": {},
   "outputs": [
    {
     "name": "stdout",
     "output_type": "stream",
     "text": [
      "Dataset 1: august_missing_order_days_df\n",
      "account_id             object\n",
      "order_date             object\n",
      "transaction_amount    float64\n",
      "dtype: object\n",
      "\n",
      "Dataset 2: historical_orders_df\n",
      "account_id             object\n",
      "order_date             object\n",
      "transaction_amount    float64\n",
      "dtype: object\n",
      "\n",
      "Dataset 3: august_total_sales_df\n",
      "account_id                          object\n",
      "total_transaction_amount_august    float64\n",
      "dtype: object\n",
      "\n"
     ]
    }
   ],
   "source": [
    "# Itarating the previous lists for types\n",
    "for i, table in enumerate(datasets, start=0):\n",
    "    print(f\"Dataset {i+1}: {datasets_names[i]}\")\n",
    "    print(table.dtypes)\n",
    "    print()"
   ]
  },
  {
   "cell_type": "markdown",
   "metadata": {},
   "source": [
    "According to the data types, we'll need to transform our order_date to `Date Time`."
   ]
  },
  {
   "cell_type": "markdown",
   "metadata": {},
   "source": [
    "##### 2.2.3 Outlier Identification"
   ]
  },
  {
   "cell_type": "code",
   "execution_count": 5,
   "metadata": {},
   "outputs": [
    {
     "data": {
      "image/png": "[encoded data removed]",
      "text/plain": [
       "<Figure size 1000x600 with 1 Axes>"
      ]
     },
     "metadata": {},
     "output_type": "display_data"
    }
   ],
   "source": [
    "# Select only columns of type float64 or int64\n",
    "numeric_cols = historical_orders_df.select_dtypes(include=['float64', 'int64'])\n",
    "\n",
    "# Prepare a list to store outliers for each column\n",
    "outliers_list = []\n",
    "\n",
    "# Iterate over the numeric columns\n",
    "for col in numeric_cols.columns:\n",
    "    # Calculate the IQR of the column\n",
    "    Q1 = numeric_cols[col].quantile(0.25)\n",
    "    Q3 = numeric_cols[col].quantile(0.75)\n",
    "    IQR = Q3 - Q1\n",
    "\n",
    "    # Define the lower and upper bounds\n",
    "    lower_bound = Q1 - 1.5 * IQR\n",
    "    upper_bound = Q3 + 1.5 * IQR\n",
    "\n",
    "    # Identify outliers\n",
    "    outliers = numeric_cols[(numeric_cols[col] < lower_bound) | (numeric_cols[col] > upper_bound)]\n",
    "\n",
    "    # Add the values of the outliers found to the list\n",
    "    outliers_list.append(outliers[col].values)\n",
    "\n",
    "# Plot boxplots for each column with outliers\n",
    "plt.figure(figsize=(10, 6))\n",
    "plt.boxplot(outliers_list, labels=numeric_cols.columns, vert=False)\n",
    "plt.title('Boxplot of Outliers per Column')\n",
    "plt.xlabel('Values')\n",
    "plt.ylabel('Columns')\n",
    "plt.show()"
   ]
  },
  {
   "cell_type": "markdown",
   "metadata": {},
   "source": [
    "##### 2.2.4 Number of Unique Users"
   ]
  },
  {
   "cell_type": "code",
   "execution_count": 6,
   "metadata": {},
   "outputs": [
    {
     "name": "stdout",
     "output_type": "stream",
     "text": [
      "The number of unique account IDs in august_missing_order_days_df is 32944\n",
      "The number of unique account IDs in historical_orders_df is 47899\n",
      "The number of unique account IDs in august_total_sales_df is 32944\n"
     ]
    }
   ],
   "source": [
    "# Count Unique Users\n",
    "for index, df in enumerate(datasets):\n",
    "    count_unique_users = df['account_id'].nunique()\n",
    "    \n",
    "    # Print \n",
    "    print(f\"The number of unique account IDs in {datasets_names[index]} is {count_unique_users}\")"
   ]
  },
  {
   "cell_type": "markdown",
   "metadata": {},
   "source": [
    "The unique users from the three datasets is different, but, according to our statement, we must consider all users. So, we'll consider the 47899 users available in `historical_orders_df`."
   ]
  },
  {
   "cell_type": "markdown",
   "metadata": {},
   "source": [
    "##### 2.2.5 Null, Nans and Zeros"
   ]
  },
  {
   "cell_type": "code",
   "execution_count": 7,
   "metadata": {},
   "outputs": [
    {
     "name": "stdout",
     "output_type": "stream",
     "text": [
      "Null counts in dataset august_missing_order_days_df:\n",
      "account_id                0\n",
      "order_date            13438\n",
      "transaction_amount    13438\n",
      "dtype: int64\n",
      "\n",
      "\n",
      "Null counts in dataset historical_orders_df:\n",
      "account_id            0\n",
      "order_date            0\n",
      "transaction_amount    0\n",
      "dtype: int64\n",
      "\n",
      "\n",
      "Null counts in dataset august_total_sales_df:\n",
      "account_id                         0\n",
      "total_transaction_amount_august    0\n",
      "dtype: int64\n",
      "\n",
      "\n"
     ]
    }
   ],
   "source": [
    "for index, df in enumerate(datasets):\n",
    "    null_counts = df.isnull().sum()\n",
    "    \n",
    "    # Check result\n",
    "    print(f\"Null counts in dataset {datasets_names[index]}:\")\n",
    "    print(null_counts)\n",
    "    print(\"\\n\") "
   ]
  },
  {
   "cell_type": "markdown",
   "metadata": {},
   "source": [
    "There is no nulls in our historical and august sales datasets, only in our missing orders, which was already expected."
   ]
  },
  {
   "cell_type": "markdown",
   "metadata": {},
   "source": [
    "#### 2.3 Descriptive Statistics"
   ]
  },
  {
   "cell_type": "markdown",
   "metadata": {},
   "source": [
    "##### 2.3.1 First and Last Rows\n",
    "First let's go for the first rows."
   ]
  },
  {
   "cell_type": "code",
   "execution_count": 8,
   "metadata": {},
   "outputs": [
    {
     "name": "stdout",
     "output_type": "stream",
     "text": [
      "First few rows of dataset 'august_missing_order_days_df':\n"
     ]
    },
    {
     "data": {
      "text/html": [
       "<div>\n",
       "<style scoped>\n",
       "    .dataframe tbody tr th:only-of-type {\n",
       "        vertical-align: middle;\n",
       "    }\n",
       "\n",
       "    .dataframe tbody tr th {\n",
       "        vertical-align: top;\n",
       "    }\n",
       "\n",
       "    .dataframe thead th {\n",
       "        text-align: right;\n",
       "    }\n",
       "</style>\n",
       "<table border=\"1\" class=\"dataframe\">\n",
       "  <thead>\n",
       "    <tr style=\"text-align: right;\">\n",
       "      <th></th>\n",
       "      <th>account_id</th>\n",
       "      <th>order_date</th>\n",
       "      <th>transaction_amount</th>\n",
       "    </tr>\n",
       "  </thead>\n",
       "  <tbody>\n",
       "    <tr>\n",
       "      <th>0</th>\n",
       "      <td>BR_09532176632</td>\n",
       "      <td>2022-08-03</td>\n",
       "      <td>11.16</td>\n",
       "    </tr>\n",
       "    <tr>\n",
       "      <th>1</th>\n",
       "      <td>BR_09532176632</td>\n",
       "      <td>2022-08-03</td>\n",
       "      <td>32.52</td>\n",
       "    </tr>\n",
       "    <tr>\n",
       "      <th>2</th>\n",
       "      <td>BR_09532176632</td>\n",
       "      <td>2022-08-03</td>\n",
       "      <td>24.90</td>\n",
       "    </tr>\n",
       "    <tr>\n",
       "      <th>3</th>\n",
       "      <td>BR_09532176632</td>\n",
       "      <td>2022-08-03</td>\n",
       "      <td>28.50</td>\n",
       "    </tr>\n",
       "    <tr>\n",
       "      <th>4</th>\n",
       "      <td>BR_09532176632</td>\n",
       "      <td>2022-08-03</td>\n",
       "      <td>11.16</td>\n",
       "    </tr>\n",
       "  </tbody>\n",
       "</table>\n",
       "</div>"
      ],
      "text/plain": [
       "       account_id  order_date  transaction_amount\n",
       "0  BR_09532176632  2022-08-03               11.16\n",
       "1  BR_09532176632  2022-08-03               32.52\n",
       "2  BR_09532176632  2022-08-03               24.90\n",
       "3  BR_09532176632  2022-08-03               28.50\n",
       "4  BR_09532176632  2022-08-03               11.16"
      ]
     },
     "metadata": {},
     "output_type": "display_data"
    },
    {
     "name": "stdout",
     "output_type": "stream",
     "text": [
      "\n",
      "\n",
      "First few rows of dataset 'historical_orders_df':\n"
     ]
    },
    {
     "data": {
      "text/html": [
       "<div>\n",
       "<style scoped>\n",
       "    .dataframe tbody tr th:only-of-type {\n",
       "        vertical-align: middle;\n",
       "    }\n",
       "\n",
       "    .dataframe tbody tr th {\n",
       "        vertical-align: top;\n",
       "    }\n",
       "\n",
       "    .dataframe thead th {\n",
       "        text-align: right;\n",
       "    }\n",
       "</style>\n",
       "<table border=\"1\" class=\"dataframe\">\n",
       "  <thead>\n",
       "    <tr style=\"text-align: right;\">\n",
       "      <th></th>\n",
       "      <th>account_id</th>\n",
       "      <th>order_date</th>\n",
       "      <th>transaction_amount</th>\n",
       "    </tr>\n",
       "  </thead>\n",
       "  <tbody>\n",
       "    <tr>\n",
       "      <th>0</th>\n",
       "      <td>BR_09607801000194</td>\n",
       "      <td>2021-08-28</td>\n",
       "      <td>11011.2</td>\n",
       "    </tr>\n",
       "    <tr>\n",
       "      <th>1</th>\n",
       "      <td>BR_09607801000194</td>\n",
       "      <td>2021-08-28</td>\n",
       "      <td>13764.0</td>\n",
       "    </tr>\n",
       "    <tr>\n",
       "      <th>2</th>\n",
       "      <td>BR_09607801000194</td>\n",
       "      <td>2021-08-28</td>\n",
       "      <td>11011.2</td>\n",
       "    </tr>\n",
       "    <tr>\n",
       "      <th>3</th>\n",
       "      <td>BR_09607801000194</td>\n",
       "      <td>2021-08-28</td>\n",
       "      <td>11011.2</td>\n",
       "    </tr>\n",
       "    <tr>\n",
       "      <th>4</th>\n",
       "      <td>BR_09607801000194</td>\n",
       "      <td>2021-08-28</td>\n",
       "      <td>13764.0</td>\n",
       "    </tr>\n",
       "  </tbody>\n",
       "</table>\n",
       "</div>"
      ],
      "text/plain": [
       "          account_id  order_date  transaction_amount\n",
       "0  BR_09607801000194  2021-08-28             11011.2\n",
       "1  BR_09607801000194  2021-08-28             13764.0\n",
       "2  BR_09607801000194  2021-08-28             11011.2\n",
       "3  BR_09607801000194  2021-08-28             11011.2\n",
       "4  BR_09607801000194  2021-08-28             13764.0"
      ]
     },
     "metadata": {},
     "output_type": "display_data"
    },
    {
     "name": "stdout",
     "output_type": "stream",
     "text": [
      "\n",
      "\n",
      "First few rows of dataset 'august_total_sales_df':\n"
     ]
    },
    {
     "data": {
      "text/html": [
       "<div>\n",
       "<style scoped>\n",
       "    .dataframe tbody tr th:only-of-type {\n",
       "        vertical-align: middle;\n",
       "    }\n",
       "\n",
       "    .dataframe tbody tr th {\n",
       "        vertical-align: top;\n",
       "    }\n",
       "\n",
       "    .dataframe thead th {\n",
       "        text-align: right;\n",
       "    }\n",
       "</style>\n",
       "<table border=\"1\" class=\"dataframe\">\n",
       "  <thead>\n",
       "    <tr style=\"text-align: right;\">\n",
       "      <th></th>\n",
       "      <th>account_id</th>\n",
       "      <th>total_transaction_amount_august</th>\n",
       "    </tr>\n",
       "  </thead>\n",
       "  <tbody>\n",
       "    <tr>\n",
       "      <th>0</th>\n",
       "      <td>BR_00000343803</td>\n",
       "      <td>309.99</td>\n",
       "    </tr>\n",
       "    <tr>\n",
       "      <th>1</th>\n",
       "      <td>BR_00001415930</td>\n",
       "      <td>874.98</td>\n",
       "    </tr>\n",
       "    <tr>\n",
       "      <th>2</th>\n",
       "      <td>BR_00001760106</td>\n",
       "      <td>11976.70</td>\n",
       "    </tr>\n",
       "    <tr>\n",
       "      <th>3</th>\n",
       "      <td>BR_00002485176</td>\n",
       "      <td>511.48</td>\n",
       "    </tr>\n",
       "    <tr>\n",
       "      <th>4</th>\n",
       "      <td>BR_00002536340</td>\n",
       "      <td>7081.14</td>\n",
       "    </tr>\n",
       "  </tbody>\n",
       "</table>\n",
       "</div>"
      ],
      "text/plain": [
       "       account_id  total_transaction_amount_august\n",
       "0  BR_00000343803                           309.99\n",
       "1  BR_00001415930                           874.98\n",
       "2  BR_00001760106                         11976.70\n",
       "3  BR_00002485176                           511.48\n",
       "4  BR_00002536340                          7081.14"
      ]
     },
     "metadata": {},
     "output_type": "display_data"
    },
    {
     "name": "stdout",
     "output_type": "stream",
     "text": [
      "\n",
      "\n"
     ]
    }
   ],
   "source": [
    "for index, dataset in enumerate(datasets):\n",
    "    print(f\"First few rows of dataset '{datasets_names[index]}':\")\n",
    "    display(dataset.head())\n",
    "    print(\"\\n\") "
   ]
  },
  {
   "cell_type": "markdown",
   "metadata": {},
   "source": [
    "Now, let's go for the last rows."
   ]
  },
  {
   "cell_type": "code",
   "execution_count": 9,
   "metadata": {},
   "outputs": [
    {
     "name": "stdout",
     "output_type": "stream",
     "text": [
      "Last few rows of dataset 'august_missing_order_days_df':\n"
     ]
    },
    {
     "data": {
      "text/html": [
       "<div>\n",
       "<style scoped>\n",
       "    .dataframe tbody tr th:only-of-type {\n",
       "        vertical-align: middle;\n",
       "    }\n",
       "\n",
       "    .dataframe tbody tr th {\n",
       "        vertical-align: top;\n",
       "    }\n",
       "\n",
       "    .dataframe thead th {\n",
       "        text-align: right;\n",
       "    }\n",
       "</style>\n",
       "<table border=\"1\" class=\"dataframe\">\n",
       "  <thead>\n",
       "    <tr style=\"text-align: right;\">\n",
       "      <th></th>\n",
       "      <th>account_id</th>\n",
       "      <th>order_date</th>\n",
       "      <th>transaction_amount</th>\n",
       "    </tr>\n",
       "  </thead>\n",
       "  <tbody>\n",
       "    <tr>\n",
       "      <th>317730</th>\n",
       "      <td>BR_30398656000175</td>\n",
       "      <td>None</td>\n",
       "      <td>NaN</td>\n",
       "    </tr>\n",
       "    <tr>\n",
       "      <th>317731</th>\n",
       "      <td>BR_01248390377</td>\n",
       "      <td>None</td>\n",
       "      <td>NaN</td>\n",
       "    </tr>\n",
       "    <tr>\n",
       "      <th>317732</th>\n",
       "      <td>BR_03803067863</td>\n",
       "      <td>None</td>\n",
       "      <td>NaN</td>\n",
       "    </tr>\n",
       "    <tr>\n",
       "      <th>317733</th>\n",
       "      <td>BR_49558358487</td>\n",
       "      <td>None</td>\n",
       "      <td>NaN</td>\n",
       "    </tr>\n",
       "    <tr>\n",
       "      <th>317734</th>\n",
       "      <td>BR_82856567649</td>\n",
       "      <td>None</td>\n",
       "      <td>NaN</td>\n",
       "    </tr>\n",
       "  </tbody>\n",
       "</table>\n",
       "</div>"
      ],
      "text/plain": [
       "               account_id order_date  transaction_amount\n",
       "317730  BR_30398656000175       None                 NaN\n",
       "317731     BR_01248390377       None                 NaN\n",
       "317732     BR_03803067863       None                 NaN\n",
       "317733     BR_49558358487       None                 NaN\n",
       "317734     BR_82856567649       None                 NaN"
      ]
     },
     "metadata": {},
     "output_type": "display_data"
    },
    {
     "name": "stdout",
     "output_type": "stream",
     "text": [
      "\n",
      "\n",
      "Last few rows of dataset 'historical_orders_df':\n"
     ]
    },
    {
     "data": {
      "text/html": [
       "<div>\n",
       "<style scoped>\n",
       "    .dataframe tbody tr th:only-of-type {\n",
       "        vertical-align: middle;\n",
       "    }\n",
       "\n",
       "    .dataframe tbody tr th {\n",
       "        vertical-align: top;\n",
       "    }\n",
       "\n",
       "    .dataframe thead th {\n",
       "        text-align: right;\n",
       "    }\n",
       "</style>\n",
       "<table border=\"1\" class=\"dataframe\">\n",
       "  <thead>\n",
       "    <tr style=\"text-align: right;\">\n",
       "      <th></th>\n",
       "      <th>account_id</th>\n",
       "      <th>order_date</th>\n",
       "      <th>transaction_amount</th>\n",
       "    </tr>\n",
       "  </thead>\n",
       "  <tbody>\n",
       "    <tr>\n",
       "      <th>9397109</th>\n",
       "      <td>BR_07543270000198</td>\n",
       "      <td>2022-04-07</td>\n",
       "      <td>463.0</td>\n",
       "    </tr>\n",
       "    <tr>\n",
       "      <th>9397110</th>\n",
       "      <td>BR_11366636000178</td>\n",
       "      <td>2022-04-07</td>\n",
       "      <td>378.0</td>\n",
       "    </tr>\n",
       "    <tr>\n",
       "      <th>9397111</th>\n",
       "      <td>BR_80376890000170</td>\n",
       "      <td>2022-04-07</td>\n",
       "      <td>448.2</td>\n",
       "    </tr>\n",
       "    <tr>\n",
       "      <th>9397112</th>\n",
       "      <td>BR_09010853403</td>\n",
       "      <td>2022-04-07</td>\n",
       "      <td>407.4</td>\n",
       "    </tr>\n",
       "    <tr>\n",
       "      <th>9397113</th>\n",
       "      <td>BR_07309527000141</td>\n",
       "      <td>2022-04-06</td>\n",
       "      <td>1048.5</td>\n",
       "    </tr>\n",
       "  </tbody>\n",
       "</table>\n",
       "</div>"
      ],
      "text/plain": [
       "                account_id  order_date  transaction_amount\n",
       "9397109  BR_07543270000198  2022-04-07               463.0\n",
       "9397110  BR_11366636000178  2022-04-07               378.0\n",
       "9397111  BR_80376890000170  2022-04-07               448.2\n",
       "9397112     BR_09010853403  2022-04-07               407.4\n",
       "9397113  BR_07309527000141  2022-04-06              1048.5"
      ]
     },
     "metadata": {},
     "output_type": "display_data"
    },
    {
     "name": "stdout",
     "output_type": "stream",
     "text": [
      "\n",
      "\n",
      "Last few rows of dataset 'august_total_sales_df':\n"
     ]
    },
    {
     "data": {
      "text/html": [
       "<div>\n",
       "<style scoped>\n",
       "    .dataframe tbody tr th:only-of-type {\n",
       "        vertical-align: middle;\n",
       "    }\n",
       "\n",
       "    .dataframe tbody tr th {\n",
       "        vertical-align: top;\n",
       "    }\n",
       "\n",
       "    .dataframe thead th {\n",
       "        text-align: right;\n",
       "    }\n",
       "</style>\n",
       "<table border=\"1\" class=\"dataframe\">\n",
       "  <thead>\n",
       "    <tr style=\"text-align: right;\">\n",
       "      <th></th>\n",
       "      <th>account_id</th>\n",
       "      <th>total_transaction_amount_august</th>\n",
       "    </tr>\n",
       "  </thead>\n",
       "  <tbody>\n",
       "    <tr>\n",
       "      <th>32939</th>\n",
       "      <td>BR_99904403791</td>\n",
       "      <td>2996.69</td>\n",
       "    </tr>\n",
       "    <tr>\n",
       "      <th>32940</th>\n",
       "      <td>BR_99910241587</td>\n",
       "      <td>4225.98</td>\n",
       "    </tr>\n",
       "    <tr>\n",
       "      <th>32941</th>\n",
       "      <td>BR_99936259300</td>\n",
       "      <td>646.44</td>\n",
       "    </tr>\n",
       "    <tr>\n",
       "      <th>32942</th>\n",
       "      <td>BR_99946866587</td>\n",
       "      <td>494.36</td>\n",
       "    </tr>\n",
       "    <tr>\n",
       "      <th>32943</th>\n",
       "      <td>BR_99959577104</td>\n",
       "      <td>87.80</td>\n",
       "    </tr>\n",
       "  </tbody>\n",
       "</table>\n",
       "</div>"
      ],
      "text/plain": [
       "           account_id  total_transaction_amount_august\n",
       "32939  BR_99904403791                          2996.69\n",
       "32940  BR_99910241587                          4225.98\n",
       "32941  BR_99936259300                           646.44\n",
       "32942  BR_99946866587                           494.36\n",
       "32943  BR_99959577104                            87.80"
      ]
     },
     "metadata": {},
     "output_type": "display_data"
    },
    {
     "name": "stdout",
     "output_type": "stream",
     "text": [
      "\n",
      "\n"
     ]
    }
   ],
   "source": [
    "for index, dataset in enumerate(datasets):\n",
    "    print(f\"Last few rows of dataset '{datasets_names[index]}':\")\n",
    "    display(dataset.tail())\n",
    "    print(\"\\n\") "
   ]
  },
  {
   "cell_type": "markdown",
   "metadata": {},
   "source": [
    "##### 2.3.2 General Statistics"
   ]
  },
  {
   "cell_type": "code",
   "execution_count": 10,
   "metadata": {},
   "outputs": [
    {
     "name": "stdout",
     "output_type": "stream",
     "text": [
      "august_missing_order_days_df:\n"
     ]
    },
    {
     "data": {
      "text/html": [
       "<div>\n",
       "<style scoped>\n",
       "    .dataframe tbody tr th:only-of-type {\n",
       "        vertical-align: middle;\n",
       "    }\n",
       "\n",
       "    .dataframe tbody tr th {\n",
       "        vertical-align: top;\n",
       "    }\n",
       "\n",
       "    .dataframe thead th {\n",
       "        text-align: right;\n",
       "    }\n",
       "</style>\n",
       "<table border=\"1\" class=\"dataframe\">\n",
       "  <thead>\n",
       "    <tr style=\"text-align: right;\">\n",
       "      <th></th>\n",
       "      <th>transaction_amount</th>\n",
       "    </tr>\n",
       "  </thead>\n",
       "  <tbody>\n",
       "    <tr>\n",
       "      <th>count</th>\n",
       "      <td>304297.000000</td>\n",
       "    </tr>\n",
       "    <tr>\n",
       "      <th>mean</th>\n",
       "      <td>281.339536</td>\n",
       "    </tr>\n",
       "    <tr>\n",
       "      <th>std</th>\n",
       "      <td>1251.632794</td>\n",
       "    </tr>\n",
       "    <tr>\n",
       "      <th>min</th>\n",
       "      <td>-99.000000</td>\n",
       "    </tr>\n",
       "    <tr>\n",
       "      <th>25%</th>\n",
       "      <td>34.930000</td>\n",
       "    </tr>\n",
       "    <tr>\n",
       "      <th>50%</th>\n",
       "      <td>84.000000</td>\n",
       "    </tr>\n",
       "    <tr>\n",
       "      <th>75%</th>\n",
       "      <td>205.250000</td>\n",
       "    </tr>\n",
       "    <tr>\n",
       "      <th>max</th>\n",
       "      <td>171325.440000</td>\n",
       "    </tr>\n",
       "  </tbody>\n",
       "</table>\n",
       "</div>"
      ],
      "text/plain": [
       "       transaction_amount\n",
       "count       304297.000000\n",
       "mean           281.339536\n",
       "std           1251.632794\n",
       "min            -99.000000\n",
       "25%             34.930000\n",
       "50%             84.000000\n",
       "75%            205.250000\n",
       "max         171325.440000"
      ]
     },
     "metadata": {},
     "output_type": "display_data"
    },
    {
     "name": "stdout",
     "output_type": "stream",
     "text": [
      "historical_orders_df:\n"
     ]
    },
    {
     "data": {
      "text/html": [
       "<div>\n",
       "<style scoped>\n",
       "    .dataframe tbody tr th:only-of-type {\n",
       "        vertical-align: middle;\n",
       "    }\n",
       "\n",
       "    .dataframe tbody tr th {\n",
       "        vertical-align: top;\n",
       "    }\n",
       "\n",
       "    .dataframe thead th {\n",
       "        text-align: right;\n",
       "    }\n",
       "</style>\n",
       "<table border=\"1\" class=\"dataframe\">\n",
       "  <thead>\n",
       "    <tr style=\"text-align: right;\">\n",
       "      <th></th>\n",
       "      <th>transaction_amount</th>\n",
       "    </tr>\n",
       "  </thead>\n",
       "  <tbody>\n",
       "    <tr>\n",
       "      <th>count</th>\n",
       "      <td>8.596877e+06</td>\n",
       "    </tr>\n",
       "    <tr>\n",
       "      <th>mean</th>\n",
       "      <td>2.755161e+02</td>\n",
       "    </tr>\n",
       "    <tr>\n",
       "      <th>std</th>\n",
       "      <td>1.269133e+03</td>\n",
       "    </tr>\n",
       "    <tr>\n",
       "      <th>min</th>\n",
       "      <td>-6.075000e+02</td>\n",
       "    </tr>\n",
       "    <tr>\n",
       "      <th>25%</th>\n",
       "      <td>3.294000e+01</td>\n",
       "    </tr>\n",
       "    <tr>\n",
       "      <th>50%</th>\n",
       "      <td>8.070000e+01</td>\n",
       "    </tr>\n",
       "    <tr>\n",
       "      <th>75%</th>\n",
       "      <td>1.964400e+02</td>\n",
       "    </tr>\n",
       "    <tr>\n",
       "      <th>max</th>\n",
       "      <td>4.185789e+05</td>\n",
       "    </tr>\n",
       "  </tbody>\n",
       "</table>\n",
       "</div>"
      ],
      "text/plain": [
       "       transaction_amount\n",
       "count        8.596877e+06\n",
       "mean         2.755161e+02\n",
       "std          1.269133e+03\n",
       "min         -6.075000e+02\n",
       "25%          3.294000e+01\n",
       "50%          8.070000e+01\n",
       "75%          1.964400e+02\n",
       "max          4.185789e+05"
      ]
     },
     "metadata": {},
     "output_type": "display_data"
    },
    {
     "name": "stdout",
     "output_type": "stream",
     "text": [
      "august_total_sales_df:\n"
     ]
    },
    {
     "data": {
      "text/html": [
       "<div>\n",
       "<style scoped>\n",
       "    .dataframe tbody tr th:only-of-type {\n",
       "        vertical-align: middle;\n",
       "    }\n",
       "\n",
       "    .dataframe tbody tr th {\n",
       "        vertical-align: top;\n",
       "    }\n",
       "\n",
       "    .dataframe thead th {\n",
       "        text-align: right;\n",
       "    }\n",
       "</style>\n",
       "<table border=\"1\" class=\"dataframe\">\n",
       "  <thead>\n",
       "    <tr style=\"text-align: right;\">\n",
       "      <th></th>\n",
       "      <th>total_transaction_amount_august</th>\n",
       "    </tr>\n",
       "  </thead>\n",
       "  <tbody>\n",
       "    <tr>\n",
       "      <th>count</th>\n",
       "      <td>3.294400e+04</td>\n",
       "    </tr>\n",
       "    <tr>\n",
       "      <th>mean</th>\n",
       "      <td>6.413068e+03</td>\n",
       "    </tr>\n",
       "    <tr>\n",
       "      <th>std</th>\n",
       "      <td>3.953953e+04</td>\n",
       "    </tr>\n",
       "    <tr>\n",
       "      <th>min</th>\n",
       "      <td>-9.108000e+03</td>\n",
       "    </tr>\n",
       "    <tr>\n",
       "      <th>25%</th>\n",
       "      <td>5.700300e+02</td>\n",
       "    </tr>\n",
       "    <tr>\n",
       "      <th>50%</th>\n",
       "      <td>1.638605e+03</td>\n",
       "    </tr>\n",
       "    <tr>\n",
       "      <th>75%</th>\n",
       "      <td>4.558312e+03</td>\n",
       "    </tr>\n",
       "    <tr>\n",
       "      <th>max</th>\n",
       "      <td>2.638720e+06</td>\n",
       "    </tr>\n",
       "  </tbody>\n",
       "</table>\n",
       "</div>"
      ],
      "text/plain": [
       "       total_transaction_amount_august\n",
       "count                     3.294400e+04\n",
       "mean                      6.413068e+03\n",
       "std                       3.953953e+04\n",
       "min                      -9.108000e+03\n",
       "25%                       5.700300e+02\n",
       "50%                       1.638605e+03\n",
       "75%                       4.558312e+03\n",
       "max                       2.638720e+06"
      ]
     },
     "metadata": {},
     "output_type": "display_data"
    }
   ],
   "source": [
    "# General statistics\n",
    "for index, dataset in enumerate(datasets):\n",
    "    print(f\"{datasets_names[index]}:\")\n",
    "    display(dataset.describe())"
   ]
  },
  {
   "cell_type": "markdown",
   "metadata": {},
   "source": [
    "According to our first part of EDA, we'll already could assume some next steps for the pre processing:\n",
    "\n",
    "    - Transform the attributes to the proper data types\n",
    "    - Create two new attributes for year and month\n",
    "    - Group the users in order to find the orders days (quantity of order days per user per month)\n",
    "    - Perform a crossjoin with the dates with account_id in order to have all users in all months (it is important to measure when a user did not have any order day)\n",
    "    - Create possible attributes in order to improve the model prediction"
   ]
  },
  {
   "cell_type": "markdown",
   "metadata": {},
   "source": [
    "### 3. Pre Processing"
   ]
  },
  {
   "cell_type": "markdown",
   "metadata": {},
   "source": [
    "In this session we'll perform the pre processing of our dataset according to the first part of the EDA."
   ]
  },
  {
   "cell_type": "markdown",
   "metadata": {},
   "source": [
    "#### 3.1 Data Type Transforming\n",
    "In the first pre processing, let's transform our data to the correct format."
   ]
  },
  {
   "cell_type": "code",
   "execution_count": 11,
   "metadata": {},
   "outputs": [
    {
     "data": {
      "text/html": [
       "<div>\n",
       "<style scoped>\n",
       "    .dataframe tbody tr th:only-of-type {\n",
       "        vertical-align: middle;\n",
       "    }\n",
       "\n",
       "    .dataframe tbody tr th {\n",
       "        vertical-align: top;\n",
       "    }\n",
       "\n",
       "    .dataframe thead th {\n",
       "        text-align: right;\n",
       "    }\n",
       "</style>\n",
       "<table border=\"1\" class=\"dataframe\">\n",
       "  <thead>\n",
       "    <tr style=\"text-align: right;\">\n",
       "      <th></th>\n",
       "      <th>account_id</th>\n",
       "      <th>order_date</th>\n",
       "      <th>transaction_amount</th>\n",
       "    </tr>\n",
       "  </thead>\n",
       "  <tbody>\n",
       "    <tr>\n",
       "      <th>0</th>\n",
       "      <td>BR_09607801000194</td>\n",
       "      <td>2021-08-28</td>\n",
       "      <td>11011.2</td>\n",
       "    </tr>\n",
       "    <tr>\n",
       "      <th>1</th>\n",
       "      <td>BR_09607801000194</td>\n",
       "      <td>2021-08-28</td>\n",
       "      <td>13764.0</td>\n",
       "    </tr>\n",
       "    <tr>\n",
       "      <th>2</th>\n",
       "      <td>BR_09607801000194</td>\n",
       "      <td>2021-08-28</td>\n",
       "      <td>11011.2</td>\n",
       "    </tr>\n",
       "    <tr>\n",
       "      <th>3</th>\n",
       "      <td>BR_09607801000194</td>\n",
       "      <td>2021-08-28</td>\n",
       "      <td>11011.2</td>\n",
       "    </tr>\n",
       "    <tr>\n",
       "      <th>4</th>\n",
       "      <td>BR_09607801000194</td>\n",
       "      <td>2021-08-28</td>\n",
       "      <td>13764.0</td>\n",
       "    </tr>\n",
       "  </tbody>\n",
       "</table>\n",
       "</div>"
      ],
      "text/plain": [
       "          account_id order_date  transaction_amount\n",
       "0  BR_09607801000194 2021-08-28             11011.2\n",
       "1  BR_09607801000194 2021-08-28             13764.0\n",
       "2  BR_09607801000194 2021-08-28             11011.2\n",
       "3  BR_09607801000194 2021-08-28             11011.2\n",
       "4  BR_09607801000194 2021-08-28             13764.0"
      ]
     },
     "execution_count": 11,
     "metadata": {},
     "output_type": "execute_result"
    }
   ],
   "source": [
    "# Copy\n",
    "historical_orders_dated_df = historical_orders_df.copy()\n",
    "\n",
    "# Converting the data attributes\n",
    "historical_orders_dated_df['order_date'] = pd.to_datetime(historical_orders_dated_df['order_date'])\n",
    "\n",
    "# Print\n",
    "historical_orders_dated_df.head()"
   ]
  },
  {
   "cell_type": "markdown",
   "metadata": {},
   "source": [
    "#### 3.2 Grouping in Order Days\n",
    "In order to have the same format as our output, we'll create a new column with the quantity of order days per month per user."
   ]
  },
  {
   "cell_type": "code",
   "execution_count": 12,
   "metadata": {},
   "outputs": [
    {
     "data": {
      "text/html": [
       "<div>\n",
       "<style scoped>\n",
       "    .dataframe tbody tr th:only-of-type {\n",
       "        vertical-align: middle;\n",
       "    }\n",
       "\n",
       "    .dataframe tbody tr th {\n",
       "        vertical-align: top;\n",
       "    }\n",
       "\n",
       "    .dataframe thead th {\n",
       "        text-align: right;\n",
       "    }\n",
       "</style>\n",
       "<table border=\"1\" class=\"dataframe\">\n",
       "  <thead>\n",
       "    <tr style=\"text-align: right;\">\n",
       "      <th></th>\n",
       "      <th>account_id</th>\n",
       "      <th>month_year</th>\n",
       "      <th>transaction_amount</th>\n",
       "      <th>order_days</th>\n",
       "    </tr>\n",
       "  </thead>\n",
       "  <tbody>\n",
       "    <tr>\n",
       "      <th>0</th>\n",
       "      <td>BR_00000343803</td>\n",
       "      <td>2021-01</td>\n",
       "      <td>814.92</td>\n",
       "      <td>4</td>\n",
       "    </tr>\n",
       "    <tr>\n",
       "      <th>1</th>\n",
       "      <td>BR_00000343803</td>\n",
       "      <td>2021-02</td>\n",
       "      <td>484.76</td>\n",
       "      <td>2</td>\n",
       "    </tr>\n",
       "    <tr>\n",
       "      <th>2</th>\n",
       "      <td>BR_00000343803</td>\n",
       "      <td>2021-03</td>\n",
       "      <td>661.68</td>\n",
       "      <td>3</td>\n",
       "    </tr>\n",
       "    <tr>\n",
       "      <th>3</th>\n",
       "      <td>BR_00000343803</td>\n",
       "      <td>2021-04</td>\n",
       "      <td>575.08</td>\n",
       "      <td>1</td>\n",
       "    </tr>\n",
       "    <tr>\n",
       "      <th>4</th>\n",
       "      <td>BR_00000343803</td>\n",
       "      <td>2021-05</td>\n",
       "      <td>859.12</td>\n",
       "      <td>3</td>\n",
       "    </tr>\n",
       "  </tbody>\n",
       "</table>\n",
       "</div>"
      ],
      "text/plain": [
       "       account_id month_year  transaction_amount  order_days\n",
       "0  BR_00000343803    2021-01              814.92           4\n",
       "1  BR_00000343803    2021-02              484.76           2\n",
       "2  BR_00000343803    2021-03              661.68           3\n",
       "3  BR_00000343803    2021-04              575.08           1\n",
       "4  BR_00000343803    2021-05              859.12           3"
      ]
     },
     "execution_count": 12,
     "metadata": {},
     "output_type": "execute_result"
    }
   ],
   "source": [
    "# Copy\n",
    "historical_grouped_df = historical_orders_dated_df.copy()\n",
    "\n",
    "# Grouping by account_id and order_date\n",
    "historical_grouped_df = historical_grouped_df.groupby(['account_id', 'order_date']).agg(transaction_amount = ('transaction_amount', 'sum')).reset_index()\n",
    "historical_grouped_df['month_year'] = historical_grouped_df['order_date'].dt.to_period('M')\n",
    "historical_grouped_df = historical_grouped_df.groupby(['account_id', 'month_year']).agg(transaction_amount=('transaction_amount', 'sum'), order_days=('transaction_amount', 'count')).reset_index()\n",
    "\n",
    "# Print\n",
    "historical_grouped_df.head()"
   ]
  },
  {
   "cell_type": "markdown",
   "metadata": {},
   "source": [
    "#### 3.3 Cross Join in Test Sample\n",
    "Create a new column with the quantity of order days per month per user. We'll **create a new dataset with all users in the `historical_data` in every month, but, for the users that didn't buy, we'll fill the values with 0 for transaction_amount and order_days.**"
   ]
  },
  {
   "cell_type": "code",
   "execution_count": 13,
   "metadata": {},
   "outputs": [
    {
     "name": "stdout",
     "output_type": "stream",
     "text": [
      " The number of accounts is 47899.\n"
     ]
    }
   ],
   "source": [
    "# Creating an array with all accounts and months\n",
    "all_accounts = historical_grouped_df['account_id'].unique()\n",
    "all_months = historical_grouped_df['month_year'].unique()\n",
    "\n",
    "# Print number of accounts / users\n",
    "print(f\" The number of accounts is {historical_grouped_df['account_id'].nunique()}.\")"
   ]
  },
  {
   "cell_type": "markdown",
   "metadata": {},
   "source": [
    "Now, let's perform the cartesian product between the two arrays and fill with 0 in the users that didn't buy in a month (in order to don't have NaNs)."
   ]
  },
  {
   "cell_type": "code",
   "execution_count": 14,
   "metadata": {},
   "outputs": [
    {
     "data": {
      "text/html": [
       "<div>\n",
       "<style scoped>\n",
       "    .dataframe tbody tr th:only-of-type {\n",
       "        vertical-align: middle;\n",
       "    }\n",
       "\n",
       "    .dataframe tbody tr th {\n",
       "        vertical-align: top;\n",
       "    }\n",
       "\n",
       "    .dataframe thead th {\n",
       "        text-align: right;\n",
       "    }\n",
       "</style>\n",
       "<table border=\"1\" class=\"dataframe\">\n",
       "  <thead>\n",
       "    <tr style=\"text-align: right;\">\n",
       "      <th></th>\n",
       "      <th>account_id</th>\n",
       "      <th>month_year</th>\n",
       "      <th>transaction_amount</th>\n",
       "      <th>order_days</th>\n",
       "    </tr>\n",
       "  </thead>\n",
       "  <tbody>\n",
       "    <tr>\n",
       "      <th>0</th>\n",
       "      <td>BR_00000343803</td>\n",
       "      <td>2021-01</td>\n",
       "      <td>814.92</td>\n",
       "      <td>4</td>\n",
       "    </tr>\n",
       "    <tr>\n",
       "      <th>1</th>\n",
       "      <td>BR_00000343803</td>\n",
       "      <td>2021-02</td>\n",
       "      <td>484.76</td>\n",
       "      <td>2</td>\n",
       "    </tr>\n",
       "    <tr>\n",
       "      <th>2</th>\n",
       "      <td>BR_00000343803</td>\n",
       "      <td>2021-03</td>\n",
       "      <td>661.68</td>\n",
       "      <td>3</td>\n",
       "    </tr>\n",
       "    <tr>\n",
       "      <th>3</th>\n",
       "      <td>BR_00000343803</td>\n",
       "      <td>2021-04</td>\n",
       "      <td>575.08</td>\n",
       "      <td>1</td>\n",
       "    </tr>\n",
       "    <tr>\n",
       "      <th>4</th>\n",
       "      <td>BR_00000343803</td>\n",
       "      <td>2021-05</td>\n",
       "      <td>859.12</td>\n",
       "      <td>3</td>\n",
       "    </tr>\n",
       "  </tbody>\n",
       "</table>\n",
       "</div>"
      ],
      "text/plain": [
       "       account_id month_year  transaction_amount  order_days\n",
       "0  BR_00000343803    2021-01              814.92           4\n",
       "1  BR_00000343803    2021-02              484.76           2\n",
       "2  BR_00000343803    2021-03              661.68           3\n",
       "3  BR_00000343803    2021-04              575.08           1\n",
       "4  BR_00000343803    2021-05              859.12           3"
      ]
     },
     "execution_count": 14,
     "metadata": {},
     "output_type": "execute_result"
    }
   ],
   "source": [
    "# Creating a combination with all accounts and months\n",
    "all_combinations = pd.MultiIndex.from_product([all_accounts, all_months], names=['account_id', 'month_year']).to_frame(index=False)\n",
    "\n",
    "# Left join the historical_grouped_df with the all_combinations dataframe\n",
    "historical_orders_crossed = all_combinations.merge(historical_grouped_df, on=['account_id', 'month_year'], how='left')\n",
    "\n",
    "# Filling the NaNs with 0\n",
    "historical_orders_crossed['transaction_amount'] = historical_orders_crossed['transaction_amount'].fillna(0)\n",
    "historical_orders_crossed['order_days'] = historical_orders_crossed['order_days'].fillna(0).astype(int)\n",
    "\n",
    "# Print\n",
    "historical_orders_crossed.head(5)"
   ]
  },
  {
   "cell_type": "markdown",
   "metadata": {},
   "source": [
    "Performing a quick Q.A. (Quality Assurance) in order to check if the values are correct. For this, we'll sum the transaction_amount and order_days. If both values are the same, the dataset is correct.a\n"
   ]
  },
  {
   "cell_type": "code",
   "execution_count": 15,
   "metadata": {},
   "outputs": [
    {
     "name": "stdout",
     "output_type": "stream",
     "text": [
      "Original Dataframe\n",
      "Total transaction: 2368577736.03\n",
      "Total order days: 1428384\n",
      "\n",
      "\n",
      "New Dataframe\n",
      "Total transaction: 2368577736.03\n",
      "Total order days: 1428384\n",
      "\n",
      "The totals are the same for both DataFrames.\n"
     ]
    }
   ],
   "source": [
    "# Summing values\n",
    "total_transaction_original = np.sum(historical_orders_df['transaction_amount']).round(2)\n",
    "total_order_days_original = np.sum(historical_grouped_df['order_days']).round(2)\n",
    "total_transaction_new = np.sum(historical_orders_crossed['transaction_amount']).round(2)\n",
    "total_order_days_new = np.sum(historical_orders_crossed['order_days']).round(2)\n",
    "\n",
    "# Print\n",
    "print(\"Original Dataframe\")\n",
    "print(f\"Total transaction: {total_transaction_original}\")\n",
    "print(f\"Total order days: {total_order_days_original}\")\n",
    "print(\"\\n\")\n",
    "print(\"New Dataframe\")\n",
    "print(f\"Total transaction: {total_transaction_new}\")\n",
    "print(f\"Total order days: {total_order_days_new}\")\n",
    "\n",
    "# Check if the totals are the same\n",
    "if (total_transaction_original == total_transaction_new) and (total_order_days_original == total_order_days_new):\n",
    "    print(\"\\nThe totals are the same for both DataFrames.\")\n",
    "else:\n",
    "    print(\"\\nThe totals differ between the original and new DataFrames.\")"
   ]
  },
  {
   "cell_type": "markdown",
   "metadata": {},
   "source": [
    "#### 3.4 Splitting Date Attribute\n",
    "**For now, we have one account_id for each month, if the user didn't buy, we placed 0**. The next step is to create columns with month and year."
   ]
  },
  {
   "cell_type": "code",
   "execution_count": 16,
   "metadata": {},
   "outputs": [
    {
     "data": {
      "text/html": [
       "<div>\n",
       "<style scoped>\n",
       "    .dataframe tbody tr th:only-of-type {\n",
       "        vertical-align: middle;\n",
       "    }\n",
       "\n",
       "    .dataframe tbody tr th {\n",
       "        vertical-align: top;\n",
       "    }\n",
       "\n",
       "    .dataframe thead th {\n",
       "        text-align: right;\n",
       "    }\n",
       "</style>\n",
       "<table border=\"1\" class=\"dataframe\">\n",
       "  <thead>\n",
       "    <tr style=\"text-align: right;\">\n",
       "      <th></th>\n",
       "      <th>account_id</th>\n",
       "      <th>month_year</th>\n",
       "      <th>year</th>\n",
       "      <th>month</th>\n",
       "      <th>order_days</th>\n",
       "      <th>transaction_amount</th>\n",
       "    </tr>\n",
       "  </thead>\n",
       "  <tbody>\n",
       "    <tr>\n",
       "      <th>0</th>\n",
       "      <td>BR_00000343803</td>\n",
       "      <td>2021-01</td>\n",
       "      <td>2021</td>\n",
       "      <td>1</td>\n",
       "      <td>4</td>\n",
       "      <td>814.92</td>\n",
       "    </tr>\n",
       "    <tr>\n",
       "      <th>1</th>\n",
       "      <td>BR_00000343803</td>\n",
       "      <td>2021-02</td>\n",
       "      <td>2021</td>\n",
       "      <td>2</td>\n",
       "      <td>2</td>\n",
       "      <td>484.76</td>\n",
       "    </tr>\n",
       "    <tr>\n",
       "      <th>2</th>\n",
       "      <td>BR_00000343803</td>\n",
       "      <td>2021-03</td>\n",
       "      <td>2021</td>\n",
       "      <td>3</td>\n",
       "      <td>3</td>\n",
       "      <td>661.68</td>\n",
       "    </tr>\n",
       "    <tr>\n",
       "      <th>3</th>\n",
       "      <td>BR_00000343803</td>\n",
       "      <td>2021-04</td>\n",
       "      <td>2021</td>\n",
       "      <td>4</td>\n",
       "      <td>1</td>\n",
       "      <td>575.08</td>\n",
       "    </tr>\n",
       "    <tr>\n",
       "      <th>4</th>\n",
       "      <td>BR_00000343803</td>\n",
       "      <td>2021-05</td>\n",
       "      <td>2021</td>\n",
       "      <td>5</td>\n",
       "      <td>3</td>\n",
       "      <td>859.12</td>\n",
       "    </tr>\n",
       "  </tbody>\n",
       "</table>\n",
       "</div>"
      ],
      "text/plain": [
       "       account_id month_year  year  month  order_days  transaction_amount\n",
       "0  BR_00000343803    2021-01  2021      1           4              814.92\n",
       "1  BR_00000343803    2021-02  2021      2           2              484.76\n",
       "2  BR_00000343803    2021-03  2021      3           3              661.68\n",
       "3  BR_00000343803    2021-04  2021      4           1              575.08\n",
       "4  BR_00000343803    2021-05  2021      5           3              859.12"
      ]
     },
     "execution_count": 16,
     "metadata": {},
     "output_type": "execute_result"
    }
   ],
   "source": [
    "# Copy\n",
    "historical_orders_date_splitted = historical_orders_crossed.copy()\n",
    "\n",
    "# Creating columns\n",
    "historical_orders_date_splitted['year'] = historical_orders_date_splitted['month_year'].dt.year\n",
    "historical_orders_date_splitted['month'] = historical_orders_date_splitted['month_year'].dt.month\n",
    "\n",
    "# Reordering\n",
    "historical_orders_date_splitted = historical_orders_date_splitted[['account_id', 'month_year', 'year', 'month', 'order_days', 'transaction_amount']]\n",
    "\n",
    "# Print\n",
    "historical_orders_date_splitted.head()"
   ]
  },
  {
   "cell_type": "markdown",
   "metadata": {},
   "source": [
    "#### 3.5 Cumulative Average\n"
   ]
  },
  {
   "cell_type": "markdown",
   "metadata": {},
   "source": [
    "In order to improve our model, we'll create a cumulative average for each user thourgh the months."
   ]
  },
  {
   "cell_type": "code",
   "execution_count": 17,
   "metadata": {},
   "outputs": [
    {
     "data": {
      "text/html": [
       "<div>\n",
       "<style scoped>\n",
       "    .dataframe tbody tr th:only-of-type {\n",
       "        vertical-align: middle;\n",
       "    }\n",
       "\n",
       "    .dataframe tbody tr th {\n",
       "        vertical-align: top;\n",
       "    }\n",
       "\n",
       "    .dataframe thead th {\n",
       "        text-align: right;\n",
       "    }\n",
       "</style>\n",
       "<table border=\"1\" class=\"dataframe\">\n",
       "  <thead>\n",
       "    <tr style=\"text-align: right;\">\n",
       "      <th></th>\n",
       "      <th>account_id</th>\n",
       "      <th>month_year</th>\n",
       "      <th>year</th>\n",
       "      <th>month</th>\n",
       "      <th>order_days</th>\n",
       "      <th>transaction_amount</th>\n",
       "      <th>cumulative_mean_per_transaction_amount</th>\n",
       "    </tr>\n",
       "  </thead>\n",
       "  <tbody>\n",
       "    <tr>\n",
       "      <th>0</th>\n",
       "      <td>BR_00000343803</td>\n",
       "      <td>2021-01</td>\n",
       "      <td>2021</td>\n",
       "      <td>1</td>\n",
       "      <td>4</td>\n",
       "      <td>814.92</td>\n",
       "      <td>814.920000</td>\n",
       "    </tr>\n",
       "    <tr>\n",
       "      <th>1</th>\n",
       "      <td>BR_00000343803</td>\n",
       "      <td>2021-02</td>\n",
       "      <td>2021</td>\n",
       "      <td>2</td>\n",
       "      <td>2</td>\n",
       "      <td>484.76</td>\n",
       "      <td>649.840000</td>\n",
       "    </tr>\n",
       "    <tr>\n",
       "      <th>2</th>\n",
       "      <td>BR_00000343803</td>\n",
       "      <td>2021-03</td>\n",
       "      <td>2021</td>\n",
       "      <td>3</td>\n",
       "      <td>3</td>\n",
       "      <td>661.68</td>\n",
       "      <td>653.786667</td>\n",
       "    </tr>\n",
       "    <tr>\n",
       "      <th>3</th>\n",
       "      <td>BR_00000343803</td>\n",
       "      <td>2021-04</td>\n",
       "      <td>2021</td>\n",
       "      <td>4</td>\n",
       "      <td>1</td>\n",
       "      <td>575.08</td>\n",
       "      <td>634.110000</td>\n",
       "    </tr>\n",
       "    <tr>\n",
       "      <th>4</th>\n",
       "      <td>BR_00000343803</td>\n",
       "      <td>2021-05</td>\n",
       "      <td>2021</td>\n",
       "      <td>5</td>\n",
       "      <td>3</td>\n",
       "      <td>859.12</td>\n",
       "      <td>679.112000</td>\n",
       "    </tr>\n",
       "  </tbody>\n",
       "</table>\n",
       "</div>"
      ],
      "text/plain": [
       "       account_id month_year  year  month  order_days  transaction_amount  \\\n",
       "0  BR_00000343803    2021-01  2021      1           4              814.92   \n",
       "1  BR_00000343803    2021-02  2021      2           2              484.76   \n",
       "2  BR_00000343803    2021-03  2021      3           3              661.68   \n",
       "3  BR_00000343803    2021-04  2021      4           1              575.08   \n",
       "4  BR_00000343803    2021-05  2021      5           3              859.12   \n",
       "\n",
       "   cumulative_mean_per_transaction_amount  \n",
       "0                              814.920000  \n",
       "1                              649.840000  \n",
       "2                              653.786667  \n",
       "3                              634.110000  \n",
       "4                              679.112000  "
      ]
     },
     "execution_count": 17,
     "metadata": {},
     "output_type": "execute_result"
    }
   ],
   "source": [
    "# Copy\n",
    "historical_oders_moving_average = historical_orders_date_splitted.copy()\n",
    "\n",
    "# Cumulative Average\n",
    "historical_oders_moving_average['cumulative_mean_per_transaction_amount'] = (\n",
    "    historical_oders_moving_average\n",
    "    .groupby('account_id')['transaction_amount']\n",
    "    .transform(lambda x: x.expanding(min_periods=1).mean())\n",
    ")\n",
    "\n",
    "# Print\n",
    "historical_oders_moving_average.head()"
   ]
  },
  {
   "cell_type": "markdown",
   "metadata": {},
   "source": [
    "#### 3.6 Months with no Order Days\n"
   ]
  },
  {
   "cell_type": "markdown",
   "metadata": {},
   "source": [
    "We'll create an extra attribue with the quantity of months without order days for each user per month, in order to understand the patterns of users (lag between \"buy\" months)."
   ]
  },
  {
   "cell_type": "code",
   "execution_count": 18,
   "metadata": {},
   "outputs": [
    {
     "data": {
      "text/html": [
       "<div>\n",
       "<style scoped>\n",
       "    .dataframe tbody tr th:only-of-type {\n",
       "        vertical-align: middle;\n",
       "    }\n",
       "\n",
       "    .dataframe tbody tr th {\n",
       "        vertical-align: top;\n",
       "    }\n",
       "\n",
       "    .dataframe thead th {\n",
       "        text-align: right;\n",
       "    }\n",
       "</style>\n",
       "<table border=\"1\" class=\"dataframe\">\n",
       "  <thead>\n",
       "    <tr style=\"text-align: right;\">\n",
       "      <th></th>\n",
       "      <th>account_id</th>\n",
       "      <th>month_year</th>\n",
       "      <th>year</th>\n",
       "      <th>month</th>\n",
       "      <th>order_days</th>\n",
       "      <th>transaction_amount</th>\n",
       "      <th>cumulative_mean_per_transaction_amount</th>\n",
       "      <th>months_without_purchase</th>\n",
       "    </tr>\n",
       "  </thead>\n",
       "  <tbody>\n",
       "    <tr>\n",
       "      <th>0</th>\n",
       "      <td>BR_00000343803</td>\n",
       "      <td>2021-01</td>\n",
       "      <td>2021</td>\n",
       "      <td>1</td>\n",
       "      <td>4</td>\n",
       "      <td>814.92</td>\n",
       "      <td>814.920000</td>\n",
       "      <td>0</td>\n",
       "    </tr>\n",
       "    <tr>\n",
       "      <th>1</th>\n",
       "      <td>BR_00000343803</td>\n",
       "      <td>2021-02</td>\n",
       "      <td>2021</td>\n",
       "      <td>2</td>\n",
       "      <td>2</td>\n",
       "      <td>484.76</td>\n",
       "      <td>649.840000</td>\n",
       "      <td>0</td>\n",
       "    </tr>\n",
       "    <tr>\n",
       "      <th>2</th>\n",
       "      <td>BR_00000343803</td>\n",
       "      <td>2021-03</td>\n",
       "      <td>2021</td>\n",
       "      <td>3</td>\n",
       "      <td>3</td>\n",
       "      <td>661.68</td>\n",
       "      <td>653.786667</td>\n",
       "      <td>0</td>\n",
       "    </tr>\n",
       "    <tr>\n",
       "      <th>3</th>\n",
       "      <td>BR_00000343803</td>\n",
       "      <td>2021-04</td>\n",
       "      <td>2021</td>\n",
       "      <td>4</td>\n",
       "      <td>1</td>\n",
       "      <td>575.08</td>\n",
       "      <td>634.110000</td>\n",
       "      <td>0</td>\n",
       "    </tr>\n",
       "    <tr>\n",
       "      <th>4</th>\n",
       "      <td>BR_00000343803</td>\n",
       "      <td>2021-05</td>\n",
       "      <td>2021</td>\n",
       "      <td>5</td>\n",
       "      <td>3</td>\n",
       "      <td>859.12</td>\n",
       "      <td>679.112000</td>\n",
       "      <td>0</td>\n",
       "    </tr>\n",
       "  </tbody>\n",
       "</table>\n",
       "</div>"
      ],
      "text/plain": [
       "       account_id month_year  year  month  order_days  transaction_amount  \\\n",
       "0  BR_00000343803    2021-01  2021      1           4              814.92   \n",
       "1  BR_00000343803    2021-02  2021      2           2              484.76   \n",
       "2  BR_00000343803    2021-03  2021      3           3              661.68   \n",
       "3  BR_00000343803    2021-04  2021      4           1              575.08   \n",
       "4  BR_00000343803    2021-05  2021      5           3              859.12   \n",
       "\n",
       "   cumulative_mean_per_transaction_amount  months_without_purchase  \n",
       "0                              814.920000                        0  \n",
       "1                              649.840000                        0  \n",
       "2                              653.786667                        0  \n",
       "3                              634.110000                        0  \n",
       "4                              679.112000                        0  "
      ]
     },
     "execution_count": 18,
     "metadata": {},
     "output_type": "execute_result"
    }
   ],
   "source": [
    "historical_orders_orders_lag = historical_oders_moving_average.copy()\n",
    "\n",
    "# Função para calcular os meses sem compras\n",
    "def count_months_without_purchases(transaction_amount_series):\n",
    "    count = 0\n",
    "    no_purchase_months = []\n",
    "    for transaction_amount in transaction_amount_series:\n",
    "        if transaction_amount == 0:\n",
    "            count += 1\n",
    "        else:\n",
    "            count = 0\n",
    "        no_purchase_months.append(count)\n",
    "    return no_purchase_months\n",
    "\n",
    "# Aplicando a função para cada `account_id`\n",
    "historical_orders_orders_lag['months_without_purchase'] = (\n",
    "    historical_orders_orders_lag\n",
    "    .groupby('account_id')['transaction_amount']\n",
    "    .transform(count_months_without_purchases)\n",
    ")\n",
    "\n",
    "historical_orders_orders_lag.head()\n"
   ]
  },
  {
   "cell_type": "markdown",
   "metadata": {},
   "source": [
    "#### 3.7 LAG Attributes\n",
    "Since we have dates, we should create LAGs in order to use the LAGs as features in our model (since usually there' a correlation between a value with the its previous).\n",
    "\n",
    "NOTE: It's really important to group by account_id and order_days since we need the LAG for each user. If we don't do this, we'll have wrong LAGs."
   ]
  },
  {
   "cell_type": "code",
   "execution_count": 19,
   "metadata": {},
   "outputs": [
    {
     "data": {
      "text/html": [
       "<div>\n",
       "<style scoped>\n",
       "    .dataframe tbody tr th:only-of-type {\n",
       "        vertical-align: middle;\n",
       "    }\n",
       "\n",
       "    .dataframe tbody tr th {\n",
       "        vertical-align: top;\n",
       "    }\n",
       "\n",
       "    .dataframe thead th {\n",
       "        text-align: right;\n",
       "    }\n",
       "</style>\n",
       "<table border=\"1\" class=\"dataframe\">\n",
       "  <thead>\n",
       "    <tr style=\"text-align: right;\">\n",
       "      <th></th>\n",
       "      <th>account_id</th>\n",
       "      <th>month_year</th>\n",
       "      <th>year</th>\n",
       "      <th>month</th>\n",
       "      <th>order_days</th>\n",
       "      <th>transaction_amount</th>\n",
       "      <th>cumulative_mean_per_transaction_amount</th>\n",
       "      <th>months_without_purchase</th>\n",
       "      <th>order_days_lag_1</th>\n",
       "      <th>order_days_lag_2</th>\n",
       "      <th>order_days_lag_3</th>\n",
       "      <th>order_days_lag_4</th>\n",
       "      <th>order_days_lag_5</th>\n",
       "      <th>order_days_lag_6</th>\n",
       "    </tr>\n",
       "  </thead>\n",
       "  <tbody>\n",
       "    <tr>\n",
       "      <th>6</th>\n",
       "      <td>BR_00000343803</td>\n",
       "      <td>2021-07</td>\n",
       "      <td>2021</td>\n",
       "      <td>7</td>\n",
       "      <td>2</td>\n",
       "      <td>431.90</td>\n",
       "      <td>614.614286</td>\n",
       "      <td>0</td>\n",
       "      <td>2.0</td>\n",
       "      <td>3.0</td>\n",
       "      <td>1.0</td>\n",
       "      <td>3.0</td>\n",
       "      <td>2.0</td>\n",
       "      <td>4.0</td>\n",
       "    </tr>\n",
       "    <tr>\n",
       "      <th>7</th>\n",
       "      <td>BR_00000343803</td>\n",
       "      <td>2021-08</td>\n",
       "      <td>2021</td>\n",
       "      <td>8</td>\n",
       "      <td>2</td>\n",
       "      <td>670.68</td>\n",
       "      <td>621.622500</td>\n",
       "      <td>0</td>\n",
       "      <td>2.0</td>\n",
       "      <td>2.0</td>\n",
       "      <td>3.0</td>\n",
       "      <td>1.0</td>\n",
       "      <td>3.0</td>\n",
       "      <td>2.0</td>\n",
       "    </tr>\n",
       "    <tr>\n",
       "      <th>8</th>\n",
       "      <td>BR_00000343803</td>\n",
       "      <td>2021-09</td>\n",
       "      <td>2021</td>\n",
       "      <td>9</td>\n",
       "      <td>3</td>\n",
       "      <td>458.68</td>\n",
       "      <td>603.517778</td>\n",
       "      <td>0</td>\n",
       "      <td>2.0</td>\n",
       "      <td>2.0</td>\n",
       "      <td>2.0</td>\n",
       "      <td>3.0</td>\n",
       "      <td>1.0</td>\n",
       "      <td>3.0</td>\n",
       "    </tr>\n",
       "    <tr>\n",
       "      <th>9</th>\n",
       "      <td>BR_00000343803</td>\n",
       "      <td>2021-10</td>\n",
       "      <td>2021</td>\n",
       "      <td>10</td>\n",
       "      <td>2</td>\n",
       "      <td>932.18</td>\n",
       "      <td>636.384000</td>\n",
       "      <td>0</td>\n",
       "      <td>3.0</td>\n",
       "      <td>2.0</td>\n",
       "      <td>2.0</td>\n",
       "      <td>2.0</td>\n",
       "      <td>3.0</td>\n",
       "      <td>1.0</td>\n",
       "    </tr>\n",
       "    <tr>\n",
       "      <th>10</th>\n",
       "      <td>BR_00000343803</td>\n",
       "      <td>2021-11</td>\n",
       "      <td>2021</td>\n",
       "      <td>11</td>\n",
       "      <td>3</td>\n",
       "      <td>1174.76</td>\n",
       "      <td>685.327273</td>\n",
       "      <td>0</td>\n",
       "      <td>2.0</td>\n",
       "      <td>3.0</td>\n",
       "      <td>2.0</td>\n",
       "      <td>2.0</td>\n",
       "      <td>2.0</td>\n",
       "      <td>3.0</td>\n",
       "    </tr>\n",
       "  </tbody>\n",
       "</table>\n",
       "</div>"
      ],
      "text/plain": [
       "        account_id month_year  year  month  order_days  transaction_amount  \\\n",
       "6   BR_00000343803    2021-07  2021      7           2              431.90   \n",
       "7   BR_00000343803    2021-08  2021      8           2              670.68   \n",
       "8   BR_00000343803    2021-09  2021      9           3              458.68   \n",
       "9   BR_00000343803    2021-10  2021     10           2              932.18   \n",
       "10  BR_00000343803    2021-11  2021     11           3             1174.76   \n",
       "\n",
       "    cumulative_mean_per_transaction_amount  months_without_purchase  \\\n",
       "6                               614.614286                        0   \n",
       "7                               621.622500                        0   \n",
       "8                               603.517778                        0   \n",
       "9                               636.384000                        0   \n",
       "10                              685.327273                        0   \n",
       "\n",
       "    order_days_lag_1  order_days_lag_2  order_days_lag_3  order_days_lag_4  \\\n",
       "6                2.0               3.0               1.0               3.0   \n",
       "7                2.0               2.0               3.0               1.0   \n",
       "8                2.0               2.0               2.0               3.0   \n",
       "9                3.0               2.0               2.0               2.0   \n",
       "10               2.0               3.0               2.0               2.0   \n",
       "\n",
       "    order_days_lag_5  order_days_lag_6  \n",
       "6                2.0               4.0  \n",
       "7                3.0               2.0  \n",
       "8                1.0               3.0  \n",
       "9                3.0               1.0  \n",
       "10               2.0               3.0  "
      ]
     },
     "execution_count": 19,
     "metadata": {},
     "output_type": "execute_result"
    }
   ],
   "source": [
    "# Copy\n",
    "historical_full_df = historical_orders_orders_lag.copy()\n",
    "\n",
    "# Creating LAGs\n",
    "historical_full_df['order_days_lag_1'] = (historical_full_df.groupby('account_id')['order_days'].shift(1))\n",
    "historical_full_df['order_days_lag_2'] = (historical_full_df.groupby('account_id')['order_days'].shift(2))\n",
    "historical_full_df['order_days_lag_3'] = (historical_full_df.groupby('account_id')['order_days'].shift(3))\n",
    "historical_full_df['order_days_lag_4'] = (historical_full_df.groupby('account_id')['order_days'].shift(4))\n",
    "historical_full_df['order_days_lag_5'] = (historical_full_df.groupby('account_id')['order_days'].shift(5))\n",
    "historical_full_df['order_days_lag_6'] = (historical_full_df.groupby('account_id')['order_days'].shift(6))\n",
    "\n",
    "# Dropping NaNs\n",
    "historical_full_df = historical_full_df.dropna()\n",
    "\n",
    "# Print\n",
    "historical_full_df.head()"
   ]
  },
  {
   "cell_type": "markdown",
   "metadata": {},
   "source": [
    "### 4. Exploratory Data Analysis (EDA) - *Part 2*"
   ]
  },
  {
   "cell_type": "markdown",
   "metadata": {},
   "source": [
    "Here, we'll perform a second EDA after the pre processing to understand our new data."
   ]
  },
  {
   "cell_type": "markdown",
   "metadata": {},
   "source": [
    "#### 4.1 General Statistics"
   ]
  },
  {
   "cell_type": "code",
   "execution_count": 248,
   "metadata": {},
   "outputs": [
    {
     "data": {
      "text/html": [
       "<div>\n",
       "<style scoped>\n",
       "    .dataframe tbody tr th:only-of-type {\n",
       "        vertical-align: middle;\n",
       "    }\n",
       "\n",
       "    .dataframe tbody tr th {\n",
       "        vertical-align: top;\n",
       "    }\n",
       "\n",
       "    .dataframe thead th {\n",
       "        text-align: right;\n",
       "    }\n",
       "</style>\n",
       "<table border=\"1\" class=\"dataframe\">\n",
       "  <thead>\n",
       "    <tr style=\"text-align: right;\">\n",
       "      <th></th>\n",
       "      <th>year</th>\n",
       "      <th>month</th>\n",
       "      <th>order_days</th>\n",
       "      <th>transaction_amount</th>\n",
       "      <th>cumulative_mean_per_transaction_amount</th>\n",
       "      <th>months_without_purchase</th>\n",
       "      <th>order_days_lag_1</th>\n",
       "      <th>order_days_lag_2</th>\n",
       "      <th>order_days_lag_3</th>\n",
       "      <th>order_days_lag_4</th>\n",
       "      <th>order_days_lag_5</th>\n",
       "      <th>order_days_lag_6</th>\n",
       "    </tr>\n",
       "  </thead>\n",
       "  <tbody>\n",
       "    <tr>\n",
       "      <th>count</th>\n",
       "      <td>622687.000000</td>\n",
       "      <td>622687.000000</td>\n",
       "      <td>622687.000000</td>\n",
       "      <td>6.226870e+05</td>\n",
       "      <td>6.226870e+05</td>\n",
       "      <td>622687.000000</td>\n",
       "      <td>622687.000000</td>\n",
       "      <td>622687.000000</td>\n",
       "      <td>622687.000000</td>\n",
       "      <td>622687.000000</td>\n",
       "      <td>622687.000000</td>\n",
       "      <td>622687.000000</td>\n",
       "    </tr>\n",
       "    <tr>\n",
       "      <th>mean</th>\n",
       "      <td>2021.538462</td>\n",
       "      <td>6.538462</td>\n",
       "      <td>1.747905</td>\n",
       "      <td>2.946061e+03</td>\n",
       "      <td>2.239022e+03</td>\n",
       "      <td>3.287308</td>\n",
       "      <td>1.681254</td>\n",
       "      <td>1.607947</td>\n",
       "      <td>1.524845</td>\n",
       "      <td>1.439407</td>\n",
       "      <td>1.337804</td>\n",
       "      <td>1.346614</td>\n",
       "    </tr>\n",
       "    <tr>\n",
       "      <th>std</th>\n",
       "      <td>0.498519</td>\n",
       "      <td>3.319303</td>\n",
       "      <td>2.326948</td>\n",
       "      <td>2.842965e+04</td>\n",
       "      <td>2.249714e+04</td>\n",
       "      <td>4.515816</td>\n",
       "      <td>2.317154</td>\n",
       "      <td>2.301575</td>\n",
       "      <td>2.283252</td>\n",
       "      <td>2.259257</td>\n",
       "      <td>2.198144</td>\n",
       "      <td>2.227750</td>\n",
       "    </tr>\n",
       "    <tr>\n",
       "      <th>min</th>\n",
       "      <td>2021.000000</td>\n",
       "      <td>1.000000</td>\n",
       "      <td>0.000000</td>\n",
       "      <td>-8.910000e+03</td>\n",
       "      <td>-7.659474e+02</td>\n",
       "      <td>0.000000</td>\n",
       "      <td>0.000000</td>\n",
       "      <td>0.000000</td>\n",
       "      <td>0.000000</td>\n",
       "      <td>0.000000</td>\n",
       "      <td>0.000000</td>\n",
       "      <td>0.000000</td>\n",
       "    </tr>\n",
       "    <tr>\n",
       "      <th>25%</th>\n",
       "      <td>2021.000000</td>\n",
       "      <td>4.000000</td>\n",
       "      <td>0.000000</td>\n",
       "      <td>0.000000e+00</td>\n",
       "      <td>1.424878e+01</td>\n",
       "      <td>0.000000</td>\n",
       "      <td>0.000000</td>\n",
       "      <td>0.000000</td>\n",
       "      <td>0.000000</td>\n",
       "      <td>0.000000</td>\n",
       "      <td>0.000000</td>\n",
       "      <td>0.000000</td>\n",
       "    </tr>\n",
       "    <tr>\n",
       "      <th>50%</th>\n",
       "      <td>2022.000000</td>\n",
       "      <td>7.000000</td>\n",
       "      <td>1.000000</td>\n",
       "      <td>5.580000e+01</td>\n",
       "      <td>2.074133e+02</td>\n",
       "      <td>0.000000</td>\n",
       "      <td>0.000000</td>\n",
       "      <td>0.000000</td>\n",
       "      <td>0.000000</td>\n",
       "      <td>0.000000</td>\n",
       "      <td>0.000000</td>\n",
       "      <td>0.000000</td>\n",
       "    </tr>\n",
       "    <tr>\n",
       "      <th>75%</th>\n",
       "      <td>2022.000000</td>\n",
       "      <td>9.000000</td>\n",
       "      <td>3.000000</td>\n",
       "      <td>1.490275e+03</td>\n",
       "      <td>1.085309e+03</td>\n",
       "      <td>7.000000</td>\n",
       "      <td>3.000000</td>\n",
       "      <td>3.000000</td>\n",
       "      <td>3.000000</td>\n",
       "      <td>3.000000</td>\n",
       "      <td>2.000000</td>\n",
       "      <td>2.000000</td>\n",
       "    </tr>\n",
       "    <tr>\n",
       "      <th>max</th>\n",
       "      <td>2022.000000</td>\n",
       "      <td>12.000000</td>\n",
       "      <td>26.000000</td>\n",
       "      <td>6.322759e+06</td>\n",
       "      <td>2.598620e+06</td>\n",
       "      <td>19.000000</td>\n",
       "      <td>26.000000</td>\n",
       "      <td>26.000000</td>\n",
       "      <td>26.000000</td>\n",
       "      <td>26.000000</td>\n",
       "      <td>26.000000</td>\n",
       "      <td>26.000000</td>\n",
       "    </tr>\n",
       "  </tbody>\n",
       "</table>\n",
       "</div>"
      ],
      "text/plain": [
       "                year          month     order_days  transaction_amount  \\\n",
       "count  622687.000000  622687.000000  622687.000000        6.226870e+05   \n",
       "mean     2021.538462       6.538462       1.747905        2.946061e+03   \n",
       "std         0.498519       3.319303       2.326948        2.842965e+04   \n",
       "min      2021.000000       1.000000       0.000000       -8.910000e+03   \n",
       "25%      2021.000000       4.000000       0.000000        0.000000e+00   \n",
       "50%      2022.000000       7.000000       1.000000        5.580000e+01   \n",
       "75%      2022.000000       9.000000       3.000000        1.490275e+03   \n",
       "max      2022.000000      12.000000      26.000000        6.322759e+06   \n",
       "\n",
       "       cumulative_mean_per_transaction_amount  months_without_purchase  \\\n",
       "count                            6.226870e+05            622687.000000   \n",
       "mean                             2.239022e+03                 3.287308   \n",
       "std                              2.249714e+04                 4.515816   \n",
       "min                             -7.659474e+02                 0.000000   \n",
       "25%                              1.424878e+01                 0.000000   \n",
       "50%                              2.074133e+02                 0.000000   \n",
       "75%                              1.085309e+03                 7.000000   \n",
       "max                              2.598620e+06                19.000000   \n",
       "\n",
       "       order_days_lag_1  order_days_lag_2  order_days_lag_3  order_days_lag_4  \\\n",
       "count     622687.000000     622687.000000     622687.000000     622687.000000   \n",
       "mean           1.681254          1.607947          1.524845          1.439407   \n",
       "std            2.317154          2.301575          2.283252          2.259257   \n",
       "min            0.000000          0.000000          0.000000          0.000000   \n",
       "25%            0.000000          0.000000          0.000000          0.000000   \n",
       "50%            0.000000          0.000000          0.000000          0.000000   \n",
       "75%            3.000000          3.000000          3.000000          3.000000   \n",
       "max           26.000000         26.000000         26.000000         26.000000   \n",
       "\n",
       "       order_days_lag_5  order_days_lag_6  \n",
       "count     622687.000000     622687.000000  \n",
       "mean           1.337804          1.346614  \n",
       "std            2.198144          2.227750  \n",
       "min            0.000000          0.000000  \n",
       "25%            0.000000          0.000000  \n",
       "50%            0.000000          0.000000  \n",
       "75%            2.000000          2.000000  \n",
       "max           26.000000         26.000000  "
      ]
     },
     "execution_count": 248,
     "metadata": {},
     "output_type": "execute_result"
    }
   ],
   "source": [
    "historical_full_df.describe()"
   ]
  },
  {
   "cell_type": "markdown",
   "metadata": {},
   "source": [
    "According to the general statitics, the mean is 1.57 and the median is 0... also, the max value is 26. This could mean outliers that might prejudice our model."
   ]
  },
  {
   "cell_type": "markdown",
   "metadata": {},
   "source": [
    "#### 4.2 Check Dates"
   ]
  },
  {
   "cell_type": "code",
   "execution_count": 249,
   "metadata": {},
   "outputs": [
    {
     "name": "stdout",
     "output_type": "stream",
     "text": [
      "Historical dataset:\n",
      "The minimum date: 2021-07\n",
      "The maximum date: 2022-07\n"
     ]
    }
   ],
   "source": [
    "# Obtaining the minimum and maximum dates from the order_date column\n",
    "# Historical orders\n",
    "min_date_historical = historical_full_df['month_year'].min()\n",
    "max_date_historical = historical_full_df['month_year'].max()\n",
    "\n",
    "# Displaying the results\n",
    "print(\"Historical dataset:\")\n",
    "print(f\"The minimum date: {min_date_historical}\")\n",
    "print(f\"The maximum date: {max_date_historical}\")"
   ]
  },
  {
   "cell_type": "markdown",
   "metadata": {},
   "source": [
    "The minimum date is now lower because of the dropped columns with NaNs from LAGs."
   ]
  },
  {
   "cell_type": "markdown",
   "metadata": {},
   "source": [
    "#### 4.3 Outlier\n",
    "Let's plot out `order_days` per month in a boxplot to check outliers and the median, mean, etc."
   ]
  },
  {
   "cell_type": "code",
   "execution_count": 250,
   "metadata": {},
   "outputs": [
    {
     "data": {
      "image/png": "[encoded data removed]",
      "text/plain": [
       "<Figure size 1200x600 with 1 Axes>"
      ]
     },
     "metadata": {},
     "output_type": "display_data"
    }
   ],
   "source": [
    "# Boxplot\n",
    "plt.figure(figsize=(12, 6))\n",
    "sns.boxplot(data=historical_full_df, x='month_year', y='order_days')\n",
    "plt.title('Distribution of Order Days per Month')\n",
    "plt.xticks(rotation=45) \n",
    "plt.show()"
   ]
  },
  {
   "cell_type": "markdown",
   "metadata": {},
   "source": [
    "**As we can see, the median is the same from 2022-03 until 2022-07!** Let's dive in the values, and also, check the mean."
   ]
  },
  {
   "cell_type": "code",
   "execution_count": 251,
   "metadata": {},
   "outputs": [
    {
     "data": {
      "text/html": [
       "<div>\n",
       "<style scoped>\n",
       "    .dataframe tbody tr th:only-of-type {\n",
       "        vertical-align: middle;\n",
       "    }\n",
       "\n",
       "    .dataframe tbody tr th {\n",
       "        vertical-align: top;\n",
       "    }\n",
       "\n",
       "    .dataframe thead th {\n",
       "        text-align: right;\n",
       "    }\n",
       "</style>\n",
       "<table border=\"1\" class=\"dataframe\">\n",
       "  <thead>\n",
       "    <tr style=\"text-align: right;\">\n",
       "      <th></th>\n",
       "      <th>mean_order_days</th>\n",
       "      <th>median_order_days</th>\n",
       "    </tr>\n",
       "    <tr>\n",
       "      <th>month_year</th>\n",
       "      <th></th>\n",
       "      <th></th>\n",
       "    </tr>\n",
       "  </thead>\n",
       "  <tbody>\n",
       "    <tr>\n",
       "      <th>2021-07</th>\n",
       "      <td>1.0</td>\n",
       "      <td>0.0</td>\n",
       "    </tr>\n",
       "    <tr>\n",
       "      <th>2021-08</th>\n",
       "      <td>1.0</td>\n",
       "      <td>0.0</td>\n",
       "    </tr>\n",
       "    <tr>\n",
       "      <th>2021-09</th>\n",
       "      <td>1.0</td>\n",
       "      <td>0.0</td>\n",
       "    </tr>\n",
       "    <tr>\n",
       "      <th>2021-10</th>\n",
       "      <td>2.0</td>\n",
       "      <td>2.0</td>\n",
       "    </tr>\n",
       "    <tr>\n",
       "      <th>2021-11</th>\n",
       "      <td>1.0</td>\n",
       "      <td>0.0</td>\n",
       "    </tr>\n",
       "    <tr>\n",
       "      <th>2021-12</th>\n",
       "      <td>1.0</td>\n",
       "      <td>0.0</td>\n",
       "    </tr>\n",
       "    <tr>\n",
       "      <th>2022-01</th>\n",
       "      <td>1.0</td>\n",
       "      <td>0.0</td>\n",
       "    </tr>\n",
       "    <tr>\n",
       "      <th>2022-02</th>\n",
       "      <td>1.0</td>\n",
       "      <td>0.0</td>\n",
       "    </tr>\n",
       "    <tr>\n",
       "      <th>2022-03</th>\n",
       "      <td>3.0</td>\n",
       "      <td>2.0</td>\n",
       "    </tr>\n",
       "    <tr>\n",
       "      <th>2022-04</th>\n",
       "      <td>2.0</td>\n",
       "      <td>2.0</td>\n",
       "    </tr>\n",
       "    <tr>\n",
       "      <th>2022-05</th>\n",
       "      <td>2.0</td>\n",
       "      <td>2.0</td>\n",
       "    </tr>\n",
       "    <tr>\n",
       "      <th>2022-06</th>\n",
       "      <td>2.0</td>\n",
       "      <td>2.0</td>\n",
       "    </tr>\n",
       "    <tr>\n",
       "      <th>2022-07</th>\n",
       "      <td>2.0</td>\n",
       "      <td>2.0</td>\n",
       "    </tr>\n",
       "  </tbody>\n",
       "</table>\n",
       "</div>"
      ],
      "text/plain": [
       "            mean_order_days  median_order_days\n",
       "month_year                                    \n",
       "2021-07                 1.0                0.0\n",
       "2021-08                 1.0                0.0\n",
       "2021-09                 1.0                0.0\n",
       "2021-10                 2.0                2.0\n",
       "2021-11                 1.0                0.0\n",
       "2021-12                 1.0                0.0\n",
       "2022-01                 1.0                0.0\n",
       "2022-02                 1.0                0.0\n",
       "2022-03                 3.0                2.0\n",
       "2022-04                 2.0                2.0\n",
       "2022-05                 2.0                2.0\n",
       "2022-06                 2.0                2.0\n",
       "2022-07                 2.0                2.0"
      ]
     },
     "metadata": {},
     "output_type": "display_data"
    }
   ],
   "source": [
    "# Calculating the mean and median per month\n",
    "order_days_stats = historical_full_df.groupby('month_year')['order_days'].agg(\n",
    "    mean_order_days='mean',\n",
    "    median_order_days='median'\n",
    ").round(0)  # Rounding the mean\n",
    "\n",
    "# Printing the resulting DataFrame\n",
    "display(order_days_stats)"
   ]
  },
  {
   "cell_type": "markdown",
   "metadata": {},
   "source": [
    "According to the data above, **we can see patterns in the past months regarding order days.**\n",
    "\n",
    "Let's have a look in our outliers."
   ]
  },
  {
   "cell_type": "code",
   "execution_count": 252,
   "metadata": {},
   "outputs": [
    {
     "name": "stdout",
     "output_type": "stream",
     "text": [
      "Outliers (IQR method):\n"
     ]
    },
    {
     "data": {
      "text/html": [
       "<div>\n",
       "<style scoped>\n",
       "    .dataframe tbody tr th:only-of-type {\n",
       "        vertical-align: middle;\n",
       "    }\n",
       "\n",
       "    .dataframe tbody tr th {\n",
       "        vertical-align: top;\n",
       "    }\n",
       "\n",
       "    .dataframe thead th {\n",
       "        text-align: right;\n",
       "    }\n",
       "</style>\n",
       "<table border=\"1\" class=\"dataframe\">\n",
       "  <thead>\n",
       "    <tr style=\"text-align: right;\">\n",
       "      <th></th>\n",
       "      <th>account_id</th>\n",
       "      <th>month_year</th>\n",
       "      <th>year</th>\n",
       "      <th>month</th>\n",
       "      <th>transaction_amount</th>\n",
       "      <th>cumulative_mean_per_transaction_amount</th>\n",
       "      <th>months_without_purchase</th>\n",
       "      <th>order_days_lag_1</th>\n",
       "      <th>order_days_lag_2</th>\n",
       "      <th>order_days_lag_3</th>\n",
       "      <th>order_days_lag_4</th>\n",
       "      <th>order_days_lag_5</th>\n",
       "      <th>order_days_lag_6</th>\n",
       "      <th>order_days_outliers</th>\n",
       "    </tr>\n",
       "  </thead>\n",
       "  <tbody>\n",
       "    <tr>\n",
       "      <th>162</th>\n",
       "      <td>BR_00005396352</td>\n",
       "      <td>2021-11</td>\n",
       "      <td>2021</td>\n",
       "      <td>11</td>\n",
       "      <td>11150.87</td>\n",
       "      <td>18871.075455</td>\n",
       "      <td>0</td>\n",
       "      <td>7.0</td>\n",
       "      <td>7.0</td>\n",
       "      <td>6.0</td>\n",
       "      <td>2.0</td>\n",
       "      <td>7.0</td>\n",
       "      <td>8.0</td>\n",
       "      <td>8</td>\n",
       "    </tr>\n",
       "    <tr>\n",
       "      <th>163</th>\n",
       "      <td>BR_00005396352</td>\n",
       "      <td>2021-12</td>\n",
       "      <td>2021</td>\n",
       "      <td>12</td>\n",
       "      <td>19194.54</td>\n",
       "      <td>18898.030833</td>\n",
       "      <td>0</td>\n",
       "      <td>8.0</td>\n",
       "      <td>7.0</td>\n",
       "      <td>7.0</td>\n",
       "      <td>6.0</td>\n",
       "      <td>2.0</td>\n",
       "      <td>7.0</td>\n",
       "      <td>8</td>\n",
       "    </tr>\n",
       "    <tr>\n",
       "      <th>348</th>\n",
       "      <td>BR_00014989670</td>\n",
       "      <td>2021-07</td>\n",
       "      <td>2021</td>\n",
       "      <td>7</td>\n",
       "      <td>23291.19</td>\n",
       "      <td>22363.671429</td>\n",
       "      <td>0</td>\n",
       "      <td>9.0</td>\n",
       "      <td>10.0</td>\n",
       "      <td>10.0</td>\n",
       "      <td>10.0</td>\n",
       "      <td>10.0</td>\n",
       "      <td>12.0</td>\n",
       "      <td>12</td>\n",
       "    </tr>\n",
       "    <tr>\n",
       "      <th>349</th>\n",
       "      <td>BR_00014989670</td>\n",
       "      <td>2021-08</td>\n",
       "      <td>2021</td>\n",
       "      <td>8</td>\n",
       "      <td>17854.80</td>\n",
       "      <td>21800.062500</td>\n",
       "      <td>0</td>\n",
       "      <td>12.0</td>\n",
       "      <td>9.0</td>\n",
       "      <td>10.0</td>\n",
       "      <td>10.0</td>\n",
       "      <td>10.0</td>\n",
       "      <td>10.0</td>\n",
       "      <td>8</td>\n",
       "    </tr>\n",
       "    <tr>\n",
       "      <th>350</th>\n",
       "      <td>BR_00014989670</td>\n",
       "      <td>2021-09</td>\n",
       "      <td>2021</td>\n",
       "      <td>9</td>\n",
       "      <td>21250.34</td>\n",
       "      <td>21738.982222</td>\n",
       "      <td>0</td>\n",
       "      <td>8.0</td>\n",
       "      <td>12.0</td>\n",
       "      <td>9.0</td>\n",
       "      <td>10.0</td>\n",
       "      <td>10.0</td>\n",
       "      <td>10.0</td>\n",
       "      <td>11</td>\n",
       "    </tr>\n",
       "    <tr>\n",
       "      <th>351</th>\n",
       "      <td>BR_00014989670</td>\n",
       "      <td>2021-10</td>\n",
       "      <td>2021</td>\n",
       "      <td>10</td>\n",
       "      <td>18962.67</td>\n",
       "      <td>21461.351000</td>\n",
       "      <td>0</td>\n",
       "      <td>11.0</td>\n",
       "      <td>8.0</td>\n",
       "      <td>12.0</td>\n",
       "      <td>9.0</td>\n",
       "      <td>10.0</td>\n",
       "      <td>10.0</td>\n",
       "      <td>10</td>\n",
       "    </tr>\n",
       "    <tr>\n",
       "      <th>352</th>\n",
       "      <td>BR_00014989670</td>\n",
       "      <td>2021-11</td>\n",
       "      <td>2021</td>\n",
       "      <td>11</td>\n",
       "      <td>14345.40</td>\n",
       "      <td>20814.446364</td>\n",
       "      <td>0</td>\n",
       "      <td>10.0</td>\n",
       "      <td>11.0</td>\n",
       "      <td>8.0</td>\n",
       "      <td>12.0</td>\n",
       "      <td>9.0</td>\n",
       "      <td>10.0</td>\n",
       "      <td>10</td>\n",
       "    </tr>\n",
       "    <tr>\n",
       "      <th>353</th>\n",
       "      <td>BR_00014989670</td>\n",
       "      <td>2021-12</td>\n",
       "      <td>2021</td>\n",
       "      <td>12</td>\n",
       "      <td>19228.46</td>\n",
       "      <td>20682.280833</td>\n",
       "      <td>0</td>\n",
       "      <td>10.0</td>\n",
       "      <td>10.0</td>\n",
       "      <td>11.0</td>\n",
       "      <td>8.0</td>\n",
       "      <td>12.0</td>\n",
       "      <td>9.0</td>\n",
       "      <td>8</td>\n",
       "    </tr>\n",
       "    <tr>\n",
       "      <th>354</th>\n",
       "      <td>BR_00014989670</td>\n",
       "      <td>2022-01</td>\n",
       "      <td>2022</td>\n",
       "      <td>1</td>\n",
       "      <td>20539.88</td>\n",
       "      <td>20671.326923</td>\n",
       "      <td>0</td>\n",
       "      <td>8.0</td>\n",
       "      <td>10.0</td>\n",
       "      <td>10.0</td>\n",
       "      <td>11.0</td>\n",
       "      <td>8.0</td>\n",
       "      <td>12.0</td>\n",
       "      <td>9</td>\n",
       "    </tr>\n",
       "    <tr>\n",
       "      <th>355</th>\n",
       "      <td>BR_00014989670</td>\n",
       "      <td>2022-02</td>\n",
       "      <td>2022</td>\n",
       "      <td>2</td>\n",
       "      <td>27800.03</td>\n",
       "      <td>21180.520000</td>\n",
       "      <td>0</td>\n",
       "      <td>9.0</td>\n",
       "      <td>8.0</td>\n",
       "      <td>10.0</td>\n",
       "      <td>10.0</td>\n",
       "      <td>11.0</td>\n",
       "      <td>8.0</td>\n",
       "      <td>9</td>\n",
       "    </tr>\n",
       "  </tbody>\n",
       "</table>\n",
       "</div>"
      ],
      "text/plain": [
       "         account_id month_year  year  month  transaction_amount  \\\n",
       "162  BR_00005396352    2021-11  2021     11            11150.87   \n",
       "163  BR_00005396352    2021-12  2021     12            19194.54   \n",
       "348  BR_00014989670    2021-07  2021      7            23291.19   \n",
       "349  BR_00014989670    2021-08  2021      8            17854.80   \n",
       "350  BR_00014989670    2021-09  2021      9            21250.34   \n",
       "351  BR_00014989670    2021-10  2021     10            18962.67   \n",
       "352  BR_00014989670    2021-11  2021     11            14345.40   \n",
       "353  BR_00014989670    2021-12  2021     12            19228.46   \n",
       "354  BR_00014989670    2022-01  2022      1            20539.88   \n",
       "355  BR_00014989670    2022-02  2022      2            27800.03   \n",
       "\n",
       "     cumulative_mean_per_transaction_amount  months_without_purchase  \\\n",
       "162                            18871.075455                        0   \n",
       "163                            18898.030833                        0   \n",
       "348                            22363.671429                        0   \n",
       "349                            21800.062500                        0   \n",
       "350                            21738.982222                        0   \n",
       "351                            21461.351000                        0   \n",
       "352                            20814.446364                        0   \n",
       "353                            20682.280833                        0   \n",
       "354                            20671.326923                        0   \n",
       "355                            21180.520000                        0   \n",
       "\n",
       "     order_days_lag_1  order_days_lag_2  order_days_lag_3  order_days_lag_4  \\\n",
       "162               7.0               7.0               6.0               2.0   \n",
       "163               8.0               7.0               7.0               6.0   \n",
       "348               9.0              10.0              10.0              10.0   \n",
       "349              12.0               9.0              10.0              10.0   \n",
       "350               8.0              12.0               9.0              10.0   \n",
       "351              11.0               8.0              12.0               9.0   \n",
       "352              10.0              11.0               8.0              12.0   \n",
       "353              10.0              10.0              11.0               8.0   \n",
       "354               8.0              10.0              10.0              11.0   \n",
       "355               9.0               8.0              10.0              10.0   \n",
       "\n",
       "     order_days_lag_5  order_days_lag_6  order_days_outliers  \n",
       "162               7.0               8.0                    8  \n",
       "163               2.0               7.0                    8  \n",
       "348              10.0              12.0                   12  \n",
       "349              10.0              10.0                    8  \n",
       "350              10.0              10.0                   11  \n",
       "351              10.0              10.0                   10  \n",
       "352               9.0              10.0                   10  \n",
       "353              12.0               9.0                    8  \n",
       "354               8.0              12.0                    9  \n",
       "355              11.0               8.0                    9  "
      ]
     },
     "execution_count": 252,
     "metadata": {},
     "output_type": "execute_result"
    }
   ],
   "source": [
    "# Calculating Q1 and Q3 for `order_days`\n",
    "Q1 = historical_full_df['order_days'].quantile(0.25)\n",
    "Q3 = historical_full_df['order_days'].quantile(0.75)\n",
    "IQR = Q3 - Q1\n",
    "\n",
    "# Defining the lower and upper bounds\n",
    "lower_bound = Q1 - 1.5 * IQR\n",
    "upper_bound = Q3 + 1.5 * IQR\n",
    "\n",
    "# Filtering the values that were considered outliers\n",
    "historical_outliers = historical_full_df[(historical_full_df['order_days'] < lower_bound) | \n",
    "                                      (historical_full_df['order_days'] > upper_bound)]\n",
    "\n",
    "# Renaming columns\n",
    "historical_outliers['order_days_outliers'] = historical_outliers['order_days']\n",
    "historical_outliers = historical_outliers.drop(columns = 'order_days')\n",
    "\n",
    "# Print\n",
    "print(\"Outliers (IQR method):\")\n",
    "historical_outliers.head(10)"
   ]
  },
  {
   "cell_type": "markdown",
   "metadata": {},
   "source": [
    "**Here's an important fact: the outliers that we found mostly continue beeing outliers in the past months.**\n",
    "\n",
    "Let's check the accounts that has outliers."
   ]
  },
  {
   "cell_type": "code",
   "execution_count": 253,
   "metadata": {},
   "outputs": [
    {
     "name": "stdout",
     "output_type": "stream",
     "text": [
      " The number of accounts in the outliers is 5290.\n"
     ]
    }
   ],
   "source": [
    "# Accounts from outliers\n",
    "outlier_account_ids = historical_outliers['account_id'].nunique()\n",
    "\n",
    "# Print\n",
    "print(f\" The number of accounts in the outliers is {outlier_account_ids}.\")"
   ]
  },
  {
   "cell_type": "markdown",
   "metadata": {},
   "source": [
    "The total accounts is 47899."
   ]
  },
  {
   "cell_type": "code",
   "execution_count": 254,
   "metadata": {},
   "outputs": [
    {
     "data": {
      "image/png": "[encoded data removed]",
      "text/plain": [
       "<Figure size 1200x600 with 1 Axes>"
      ]
     },
     "metadata": {},
     "output_type": "display_data"
    }
   ],
   "source": [
    "# Grouping and summing\n",
    "grouped_data = historical_outliers.groupby('month_year')['order_days_outliers'].sum().reset_index()\n",
    "\n",
    "# Bar chart\n",
    "plt.figure(figsize=(12, 6))\n",
    "plt.bar(grouped_data['month_year'].astype(str), grouped_data['order_days_outliers'], color='orange')\n",
    "plt.xlabel('Month')\n",
    "plt.ylabel('Total Historical Outliers')\n",
    "plt.title('Total Historical Outliers per Month')\n",
    "plt.xticks(rotation=45)\n",
    "plt.tight_layout()\n",
    "plt.show()"
   ]
  },
  {
   "cell_type": "markdown",
   "metadata": {},
   "source": [
    "According to our bar chart above of our outliers, 2022-03 has the biggest incident of outliers."
   ]
  },
  {
   "cell_type": "markdown",
   "metadata": {},
   "source": [
    "#### 4.4 Distribution"
   ]
  },
  {
   "cell_type": "markdown",
   "metadata": {},
   "source": [
    "Now, let's check the distribution of our target."
   ]
  },
  {
   "cell_type": "code",
   "execution_count": 421,
   "metadata": {},
   "outputs": [
    {
     "data": {
      "image/png": "[encoded data removed]",
      "text/plain": [
       "<Figure size 640x480 with 1 Axes>"
      ]
     },
     "metadata": {},
     "output_type": "display_data"
    }
   ],
   "source": [
    "# Histogram\n",
    "plt.hist(historical_full_df['order_days'], bins = [0, 1, 2, 3, 4, 5, 6, 7, 8, 9, 10], density = True, color = 'orange')\n",
    "plt.xlabel('Units Sold')\n",
    "plt.ylabel('Probability')\n",
    "plt.title('Probability Density')\n",
    "plt.show()"
   ]
  },
  {
   "cell_type": "markdown",
   "metadata": {},
   "source": [
    "According to what we have, the distribution looks like to a **POISSON DISTRIBUTION**. The reason for this is: the order_days is a discrete variable of couting, it's in a fixed interval of time. Here we are measuring the probability of an user buy \"x\" times in the next month."
   ]
  },
  {
   "cell_type": "markdown",
   "metadata": {},
   "source": [
    "#### 4.5 Time Series"
   ]
  },
  {
   "cell_type": "code",
   "execution_count": 256,
   "metadata": {},
   "outputs": [
    {
     "data": {
      "image/png": "[encoded data removed]",
      "text/plain": [
       "<Figure size 1200x600 with 1 Axes>"
      ]
     },
     "metadata": {},
     "output_type": "display_data"
    }
   ],
   "source": [
    "# Groupping data\n",
    "grouped_data = historical_full_df.groupby('month_year')['order_days'].sum().reset_index()\n",
    "\n",
    "# Bar chart\n",
    "plt.figure(figsize=(12, 6))\n",
    "plt.bar(grouped_data['month_year'].astype(str), grouped_data['order_days'], color='orange', label='Total Order Days')\n",
    "\n",
    "# Temporal series line\n",
    "plt.plot(grouped_data['month_year'].astype(str), grouped_data['order_days'], color='black', linewidth = 2.5, label='Trend Line')\n",
    "\n",
    "# General configurations\n",
    "plt.xlabel('Year-Month')\n",
    "plt.ylabel('Total Order Days')\n",
    "plt.title('Total Order Days with Trend Line')\n",
    "plt.xticks(rotation=45)\n",
    "plt.legend()\n",
    "plt.tight_layout()\n",
    "plt.show()"
   ]
  },
  {
   "cell_type": "markdown",
   "metadata": {},
   "source": [
    "#### 4.6 Correlation\n",
    "Let's check the correlation between order days and transaction amount."
   ]
  },
  {
   "cell_type": "code",
   "execution_count": 257,
   "metadata": {},
   "outputs": [
    {
     "data": {
      "image/png": "[encoded data removed]",
      "text/plain": [
       "<Figure size 1000x600 with 1 Axes>"
      ]
     },
     "metadata": {},
     "output_type": "display_data"
    }
   ],
   "source": [
    "plt.figure(figsize=(10, 6))\n",
    "plt.scatter(historical_full_df['transaction_amount'], historical_full_df['order_days'], alpha=0.6, color = 'orange')\n",
    "plt.title('Scatter Plot: Order Days vs Transaction Amount')\n",
    "plt.xlabel('Transaction Amount')\n",
    "plt.ylabel('Order Days')\n",
    "plt.grid()\n",
    "plt.show()"
   ]
  },
  {
   "cell_type": "markdown",
   "metadata": {},
   "source": [
    "There is no linear correlation."
   ]
  },
  {
   "cell_type": "markdown",
   "metadata": {},
   "source": [
    "#### 4.7 Business Applications\n",
    "Let's split the users according to some business rules. We'll divide the user type by: \n",
    "\n",
    "    1. Newcomer - Users that started to buy in the last 3 months (2022-07, 2022-06 and 2022-05)\n",
    "    2. Active Users - Users that bought every month in the past 6 months (2022-07, 2022-06, 2022-05, 2022-04, 2022-03 and 2022-02)\n",
    "    3. Inactive Users - Users that didn't buy every month in the past 6 months (2022-07, 2022-06, 2022-05, 2022-04, 2022-03 and 2022-02)\n",
    "    4. Inconsistent Users - Users that does not have a consistency in month-orders"
   ]
  },
  {
   "cell_type": "markdown",
   "metadata": {},
   "source": [
    "First let's create a list with newcomers."
   ]
  },
  {
   "cell_type": "code",
   "execution_count": 81,
   "metadata": {},
   "outputs": [],
   "source": [
    "# Copying newcomer\n",
    "newcomer_df = historical_orders_date_splitted.copy()\n",
    "\n",
    "# Creating auxiliary columns for order_days\n",
    "newcomer_df['order_days_before_may'] = np.where(\n",
    "    newcomer_df['month_year'] <= '2022-04',\n",
    "    newcomer_df['order_days'],\n",
    "    0\n",
    ")\n",
    "\n",
    "newcomer_df['order_days_after_may'] = np.where(\n",
    "    newcomer_df['month_year'] > '2022-04',\n",
    "    newcomer_df['order_days'],\n",
    "    0\n",
    ")\n",
    "\n",
    "# Aggregating the sums by account_id\n",
    "result = newcomer_df.groupby('account_id').agg(\n",
    "    order_days_before_may=('order_days_before_may', 'sum'),\n",
    "    order_days_after_may=('order_days_after_may', 'sum')\n",
    ").reset_index()\n",
    "\n",
    "# List\n",
    "newcomer_users = result[(result['order_days_before_may'] == 0) & (result['order_days_after_may'] != 0)]['account_id'].tolist()"
   ]
  },
  {
   "cell_type": "markdown",
   "metadata": {},
   "source": [
    "Now, the active users."
   ]
  },
  {
   "cell_type": "code",
   "execution_count": 82,
   "metadata": {},
   "outputs": [],
   "source": [
    "# Creating active users df\n",
    "active_users_df = historical_orders_date_splitted.copy()\n",
    "\n",
    "# Converting the 'month_year' column to string in the original DataFrame\n",
    "active_users_df['month_year'] = active_users_df['month_year'].astype(str)\n",
    "\n",
    "# Defining the months you want to filter\n",
    "filtered_months = ['2022-07', '2022-06', '2022-05', '2022-04', '2022-03', '2022-02']\n",
    "\n",
    "# Creating a new filtered DataFrame\n",
    "filtered_df = active_users_df[active_users_df['month_year'].isin(filtered_months)].copy()\n",
    "\n",
    "# Identifying the account_ids that have order_days = 0\n",
    "account_ids_to_drop = filtered_df[filtered_df['order_days'] == 0]['account_id'].unique()\n",
    "\n",
    "# Removing the account_ids from filtered_df\n",
    "filtered_df_final = filtered_df[~filtered_df['account_id'].isin(account_ids_to_drop)].copy()\n",
    "\n",
    "# List\n",
    "active_users = filtered_df_final['account_id'].unique().tolist()"
   ]
  },
  {
   "cell_type": "markdown",
   "metadata": {},
   "source": [
    "Inactive users."
   ]
  },
  {
   "cell_type": "code",
   "execution_count": 83,
   "metadata": {},
   "outputs": [],
   "source": [
    "# Copy\n",
    "inactive_users_df = historical_orders_date_splitted.copy()\n",
    "\n",
    "# Converting the 'month_year' column to string in the original DataFrame\n",
    "inactive_users_df['month_year'] = inactive_users_df['month_year'].astype(str)\n",
    "\n",
    "# Defining the months you want to filter\n",
    "filtered_months = ['2022-07', '2022-06', '2022-05', '2022-04', '2022-03', '2022-02']\n",
    "\n",
    "# Creating a new filtered DataFrame\n",
    "filtered_df = inactive_users_df[inactive_users_df['month_year'].isin(filtered_months)].copy()\n",
    "\n",
    "# Identifying the account_ids that have all rows with order_days = 0\n",
    "account_ids_no_purchases = filtered_df.groupby('account_id').filter(lambda x: (x['order_days'] != 0).sum() == 0)['account_id'].unique()\n",
    "\n",
    "# Removing all account_ids that had purchases\n",
    "filtered_df_final = filtered_df[filtered_df['account_id'].isin(account_ids_no_purchases)].copy()\n",
    "\n",
    "# Creating a list of account_ids from the final filtered DataFrame\n",
    "inactive_users = filtered_df_final['account_id'].unique().tolist()"
   ]
  },
  {
   "cell_type": "markdown",
   "metadata": {},
   "source": [
    "To complete, inconsistent users."
   ]
  },
  {
   "cell_type": "code",
   "execution_count": 84,
   "metadata": {},
   "outputs": [],
   "source": [
    "# Merging the three lists\n",
    "all_users = newcomer_users + active_users + inactive_users\n",
    "\n",
    "# Obtaining the unique IDs from historical_full_df\n",
    "historical_user_ids = historical_full_df['account_id'].unique()\n",
    "\n",
    "# Creating the list of inconsistent_users\n",
    "inconsistent_users = [user for user in historical_user_ids if user not in all_users]"
   ]
  },
  {
   "cell_type": "markdown",
   "metadata": {},
   "source": [
    "Checking if the values are correct."
   ]
  },
  {
   "cell_type": "code",
   "execution_count": 85,
   "metadata": {},
   "outputs": [
    {
     "name": "stdout",
     "output_type": "stream",
     "text": [
      "The lists are correct.\n"
     ]
    }
   ],
   "source": [
    "# Checking integrity of lists\n",
    "if len(inconsistent_users) + len(active_users) + len(inactive_users) + len(newcomer_users) == historical_orders_date_splitted['account_id'].nunique():\n",
    "    print(\"The lists are correct.\")\n",
    "else:\n",
    "    print(\"The lists are wrong\")"
   ]
  },
  {
   "cell_type": "markdown",
   "metadata": {},
   "source": [
    "Let's check how the account_id (users) are splitted."
   ]
  },
  {
   "cell_type": "code",
   "execution_count": 86,
   "metadata": {},
   "outputs": [
    {
     "data": {
      "image/png": "[encoded data removed]",
      "text/plain": [
       "<Figure size 800x600 with 1 Axes>"
      ]
     },
     "metadata": {},
     "output_type": "display_data"
    }
   ],
   "source": [
    "# Calculate the total number of users\n",
    "total_users = len(inconsistent_users) + len(active_users) + len(inactive_users) + len(newcomer_users)\n",
    "\n",
    "# Calculate percentages\n",
    "percentages = [\n",
    "    len(inconsistent_users) / total_users * 100,\n",
    "    len(active_users) / total_users * 100,\n",
    "    len(inactive_users) / total_users * 100,\n",
    "    len(newcomer_users) / total_users * 100,\n",
    "]\n",
    "\n",
    "# Group names\n",
    "labels = ['Inconsistent', 'Active', 'Inactive', 'Newcomer']\n",
    "\n",
    "# Plot the pie chart\n",
    "plt.figure(figsize=(8, 6))\n",
    "plt.pie(percentages, labels=labels, autopct='%1.1f%%', startangle=140)\n",
    "plt.title('Percentage of User Groups')\n",
    "plt.axis('equal')  # To ensure the pie chart is a circle\n",
    "plt.show()"
   ]
  },
  {
   "cell_type": "markdown",
   "metadata": {},
   "source": [
    "Now, understand what is the average order days per user group."
   ]
  },
  {
   "cell_type": "code",
   "execution_count": 97,
   "metadata": {},
   "outputs": [
    {
     "name": "stdout",
     "output_type": "stream",
     "text": [
      "Mean of order_days for active users: 3.64\n",
      "Mean of order_days for inactive users: 0.28\n",
      "Mean of order_days for newcomer users: 0.29\n",
      "Mean of order_days for inconsistent users: 1.33\n"
     ]
    }
   ],
   "source": [
    "# Filtering per group\n",
    "active_users_order_days = historical_full_df[historical_full_df['account_id'].isin(active_users)]\n",
    "inactive_users_order_days = historical_full_df[historical_full_df['account_id'].isin(inactive_users)]\n",
    "newcomer_users_order_days = historical_full_df[historical_full_df['account_id'].isin(newcomer_users)]\n",
    "inconsistent_users_order_days = historical_full_df[historical_full_df['account_id'].isin(inconsistent_users)]\n",
    "\n",
    "# Calculate and print the mean of 'order_days' for each user group\n",
    "active_users_mean = active_users_order_days['order_days'].mean().round(2)\n",
    "inactive_users_mean = inactive_users_order_days['order_days'].mean().round(2)\n",
    "newcomer_users_mean = newcomer_users_order_days['order_days'].mean().round(2)\n",
    "inconsistent_users_mean = inconsistent_users_order_days['order_days'].mean().round(2)\n",
    "\n",
    "# Print\n",
    "print(\"Mean of order_days for active users:\", active_users_mean)\n",
    "print(\"Mean of order_days for inactive users:\", inactive_users_mean)\n",
    "print(\"Mean of order_days for newcomer users:\", newcomer_users_mean)\n",
    "print(\"Mean of order_days for inconsistent users:\", inconsistent_users_mean)"
   ]
  },
  {
   "cell_type": "markdown",
   "metadata": {},
   "source": [
    "Let's run a hyphotesis test in order to understand if these differences are statistically different. Since our distribution is not normal, we'll use Kruskal-Wallis."
   ]
  },
  {
   "cell_type": "code",
   "execution_count": 117,
   "metadata": {},
   "outputs": [
    {
     "data": {
      "text/plain": [
       "(np.float64(224404.82043972035), np.float64(0.0))"
      ]
     },
     "execution_count": 117,
     "metadata": {},
     "output_type": "execute_result"
    }
   ],
   "source": [
    "# Extracting values\n",
    "active_users_order_days_values = active_users_order_days['order_days']\n",
    "inactive_users_order_days_values = inactive_users_order_days['order_days']\n",
    "newcomer_users_order_days_values = newcomer_users_order_days['order_days']\n",
    "inconsistent_users_order_days_values = inconsistent_users_order_days['order_days']\n",
    "\n",
    "# Kruskal-Wallis\n",
    "stat, p_value = kruskal(\n",
    "    active_users_order_days_values, \n",
    "    inactive_users_order_days_values, \n",
    "    newcomer_users_order_days_values, \n",
    "    inconsistent_users_order_days_values\n",
    ")\n",
    "\n",
    "# Print\n",
    "(stat, p_value)"
   ]
  },
  {
   "cell_type": "markdown",
   "metadata": {},
   "source": [
    "#### 4.8 Monthly New Users"
   ]
  },
  {
   "cell_type": "markdown",
   "metadata": {},
   "source": [
    "Here, we'll understand the incidence of new users through time. This analysis is really important to understand how our model is going to perform, **since the higher the quantity of new users (meaning, users with no historical data), the lower the probability of it predict the proper order days.**"
   ]
  },
  {
   "cell_type": "code",
   "execution_count": 264,
   "metadata": {},
   "outputs": [
    {
     "data": {
      "text/html": [
       "<div>\n",
       "<style scoped>\n",
       "    .dataframe tbody tr th:only-of-type {\n",
       "        vertical-align: middle;\n",
       "    }\n",
       "\n",
       "    .dataframe tbody tr th {\n",
       "        vertical-align: top;\n",
       "    }\n",
       "\n",
       "    .dataframe thead th {\n",
       "        text-align: right;\n",
       "    }\n",
       "</style>\n",
       "<table border=\"1\" class=\"dataframe\">\n",
       "  <thead>\n",
       "    <tr style=\"text-align: right;\">\n",
       "      <th></th>\n",
       "      <th>month_year</th>\n",
       "      <th>new_users</th>\n",
       "    </tr>\n",
       "  </thead>\n",
       "  <tbody>\n",
       "    <tr>\n",
       "      <th>1</th>\n",
       "      <td>2021-02</td>\n",
       "      <td>1348</td>\n",
       "    </tr>\n",
       "    <tr>\n",
       "      <th>2</th>\n",
       "      <td>2021-03</td>\n",
       "      <td>845</td>\n",
       "    </tr>\n",
       "    <tr>\n",
       "      <th>3</th>\n",
       "      <td>2021-04</td>\n",
       "      <td>705</td>\n",
       "    </tr>\n",
       "    <tr>\n",
       "      <th>4</th>\n",
       "      <td>2021-05</td>\n",
       "      <td>815</td>\n",
       "    </tr>\n",
       "    <tr>\n",
       "      <th>5</th>\n",
       "      <td>2021-06</td>\n",
       "      <td>771</td>\n",
       "    </tr>\n",
       "    <tr>\n",
       "      <th>6</th>\n",
       "      <td>2021-07</td>\n",
       "      <td>792</td>\n",
       "    </tr>\n",
       "    <tr>\n",
       "      <th>7</th>\n",
       "      <td>2021-08</td>\n",
       "      <td>751</td>\n",
       "    </tr>\n",
       "    <tr>\n",
       "      <th>8</th>\n",
       "      <td>2021-09</td>\n",
       "      <td>3575</td>\n",
       "    </tr>\n",
       "    <tr>\n",
       "      <th>9</th>\n",
       "      <td>2021-10</td>\n",
       "      <td>11707</td>\n",
       "    </tr>\n",
       "    <tr>\n",
       "      <th>10</th>\n",
       "      <td>2021-11</td>\n",
       "      <td>795</td>\n",
       "    </tr>\n",
       "    <tr>\n",
       "      <th>11</th>\n",
       "      <td>2021-12</td>\n",
       "      <td>733</td>\n",
       "    </tr>\n",
       "    <tr>\n",
       "      <th>12</th>\n",
       "      <td>2022-01</td>\n",
       "      <td>563</td>\n",
       "    </tr>\n",
       "    <tr>\n",
       "      <th>13</th>\n",
       "      <td>2022-02</td>\n",
       "      <td>732</td>\n",
       "    </tr>\n",
       "    <tr>\n",
       "      <th>14</th>\n",
       "      <td>2022-03</td>\n",
       "      <td>2605</td>\n",
       "    </tr>\n",
       "    <tr>\n",
       "      <th>15</th>\n",
       "      <td>2022-04</td>\n",
       "      <td>1013</td>\n",
       "    </tr>\n",
       "    <tr>\n",
       "      <th>16</th>\n",
       "      <td>2022-05</td>\n",
       "      <td>923</td>\n",
       "    </tr>\n",
       "    <tr>\n",
       "      <th>17</th>\n",
       "      <td>2022-06</td>\n",
       "      <td>1052</td>\n",
       "    </tr>\n",
       "    <tr>\n",
       "      <th>18</th>\n",
       "      <td>2022-07</td>\n",
       "      <td>820</td>\n",
       "    </tr>\n",
       "  </tbody>\n",
       "</table>\n",
       "</div>"
      ],
      "text/plain": [
       "   month_year  new_users\n",
       "1     2021-02       1348\n",
       "2     2021-03        845\n",
       "3     2021-04        705\n",
       "4     2021-05        815\n",
       "5     2021-06        771\n",
       "6     2021-07        792\n",
       "7     2021-08        751\n",
       "8     2021-09       3575\n",
       "9     2021-10      11707\n",
       "10    2021-11        795\n",
       "11    2021-12        733\n",
       "12    2022-01        563\n",
       "13    2022-02        732\n",
       "14    2022-03       2605\n",
       "15    2022-04       1013\n",
       "16    2022-05        923\n",
       "17    2022-06       1052\n",
       "18    2022-07        820"
      ]
     },
     "execution_count": 264,
     "metadata": {},
     "output_type": "execute_result"
    }
   ],
   "source": [
    "# Copy the original DataFrame\n",
    "historical_full_df_new_users = historical_orders_crossed.copy()\n",
    "\n",
    "# Calculate the cumulative sum of transactions up to the previous transaction\n",
    "historical_full_df_new_users['cumulative_transaction'] = (\n",
    "    historical_full_df_new_users.groupby('account_id')['transaction_amount'].cumsum()\n",
    "    - historical_full_df_new_users['transaction_amount']\n",
    ")\n",
    "\n",
    "#Identify new users\n",
    "historical_full_df_new_users['is_new_user'] = (\n",
    "    (historical_full_df_new_users['cumulative_transaction'] == 0)\n",
    "    & (historical_full_df_new_users['transaction_amount'] > 0)\n",
    ").astype(int)\n",
    "\n",
    "# Count the number of new users per month\n",
    "new_users_per_month = (\n",
    "    historical_full_df_new_users.groupby('month_year')['is_new_user'].sum().reset_index()\n",
    ")\n",
    "\n",
    "# Rename columns for clarity\n",
    "new_users_per_month.columns = ['month_year', 'new_users']\n",
    "\n",
    "# Removing January\n",
    "new_users_per_month = new_users_per_month[new_users_per_month['month_year'] != '2021-01']\n",
    "\n",
    "# Display the DataFrame\n",
    "new_users_per_month"
   ]
  },
  {
   "cell_type": "code",
   "execution_count": 265,
   "metadata": {},
   "outputs": [
    {
     "name": "stdout",
     "output_type": "stream",
     "text": [
      " Average new users per month: 1696.94\n"
     ]
    },
    {
     "data": {
      "image/png": "[encoded data removed]",
      "text/plain": [
       "<Figure size 1200x600 with 1 Axes>"
      ]
     },
     "metadata": {},
     "output_type": "display_data"
    }
   ],
   "source": [
    "# Sort the DataFrame by 'month_year'\n",
    "new_users_per_month = new_users_per_month.sort_values('month_year')\n",
    "new_users_per_month['month_year'] = new_users_per_month['month_year'].astype(str)\n",
    "\n",
    "# Mean\n",
    "print(f\" Average new users per month: {np.mean(new_users_per_month['new_users']).round(2)}\")\n",
    "\n",
    "# Plot the time series data\n",
    "plt.figure(figsize=(12,6))\n",
    "plt.plot(new_users_per_month['month_year'], new_users_per_month['new_users'], marker='o', linestyle='-', color = 'orange')\n",
    "plt.xticks(rotation=45)\n",
    "plt.tight_layout()\n",
    "plt.show()"
   ]
  },
  {
   "cell_type": "markdown",
   "metadata": {},
   "source": [
    "October, 2021 (2021-10 ) has the highest number of new users, which means that the prediction of next month (november) would not be precise."
   ]
  },
  {
   "cell_type": "markdown",
   "metadata": {},
   "source": [
    "#### 4.8 New Users in August\n",
    "Let's check if there are any new account_id in August (meaning, account_id is in the august_total_sales but is not in august_historical_data)."
   ]
  },
  {
   "cell_type": "code",
   "execution_count": 266,
   "metadata": {},
   "outputs": [
    {
     "name": "stdout",
     "output_type": "stream",
     "text": [
      "The quantity of new users in August is 1223\n"
     ]
    }
   ],
   "source": [
    "# Check for differences\n",
    "missing_account_ids = august_total_sales_df[~august_total_sales_df['account_id'].isin(historical_orders_df['account_id'])]\n",
    "\n",
    "# Print shape to find rows\n",
    "print(f\"The quantity of new users in August is {missing_account_ids.shape[0]}\")"
   ]
  },
  {
   "cell_type": "markdown",
   "metadata": {},
   "source": [
    "***There are 1223 completely unseen users in August. This information is really important in order to understand how precise our model is going to be. Since the average of new users is 1696.94, there are a significant quantity of less users entering in the month we'll predict, which improve the probability of our model to have a good performance.***"
   ]
  },
  {
   "cell_type": "markdown",
   "metadata": {},
   "source": [
    "### 5. Data Modeling\n"
   ]
  },
  {
   "cell_type": "markdown",
   "metadata": {},
   "source": [
    "For all data modelling, it's important to remember that **we must use a different approach while dividing our train and test set**, since the order matters due to the time series.\n",
    "\n",
    "Our first model we'll be the **mean per account_id / user** in order to have a baseline for our regression problem. After that, we'll test algorithms like:\n",
    "\n",
    "    * Generalized Linear Model\n",
    "    * Random Forest Regressor\n",
    "    * XGBRegressor\n",
    "\n",
    "NOTE: As written in the beginning of this notebook, the main metric we'll use is going to be MAE (Mean Absolute Error)**, the reason for this is MAE measures the mean error in real unities and, with this, we could check how many missing days we are making in a month, in addition it doesn't penalizes extreme errors (outliers) like RMSE. RMSE could also be used depending in our results of our historical dataset regarding outliers."
   ]
  },
  {
   "cell_type": "markdown",
   "metadata": {},
   "source": [
    "#### 5.1 Model 1 - Mean\n"
   ]
  },
  {
   "cell_type": "markdown",
   "metadata": {},
   "source": [
    "Since our data has the same mean and the same median in the past 4 months, let's consider only this sample to create our train and test. So, 3 months for our train set and 1 month to be predicted (test set). Using the information of median and mean from our boxplot, it make sense to start with the basics from data science. Let's try to fit our data using the mean and median as our first model.\n",
    "\n",
    "NOTE: Here, we'll not going to use our dataset with LAGs, because there we probably lost some users that, in this case, is relevant."
   ]
  },
  {
   "cell_type": "code",
   "execution_count": 20,
   "metadata": {},
   "outputs": [],
   "source": [
    "# Dividing into train and test\n",
    "train_mean_df = historical_full_df[(historical_full_df['month_year'] >= '2022-04') & (historical_full_df['month_year'] <= '2022-06')]\n",
    "test_mean_df = historical_full_df[historical_full_df['month_year'] == '2022-07']"
   ]
  },
  {
   "cell_type": "markdown",
   "metadata": {},
   "source": [
    "Calculating the mean and median from our train and test."
   ]
  },
  {
   "cell_type": "code",
   "execution_count": 21,
   "metadata": {},
   "outputs": [
    {
     "data": {
      "text/html": [
       "<div>\n",
       "<style scoped>\n",
       "    .dataframe tbody tr th:only-of-type {\n",
       "        vertical-align: middle;\n",
       "    }\n",
       "\n",
       "    .dataframe tbody tr th {\n",
       "        vertical-align: top;\n",
       "    }\n",
       "\n",
       "    .dataframe thead th {\n",
       "        text-align: right;\n",
       "    }\n",
       "</style>\n",
       "<table border=\"1\" class=\"dataframe\">\n",
       "  <thead>\n",
       "    <tr style=\"text-align: right;\">\n",
       "      <th></th>\n",
       "      <th>account_id</th>\n",
       "      <th>mean_y_pred</th>\n",
       "      <th>median_y_pred</th>\n",
       "    </tr>\n",
       "  </thead>\n",
       "  <tbody>\n",
       "    <tr>\n",
       "      <th>0</th>\n",
       "      <td>BR_00000343803</td>\n",
       "      <td>2</td>\n",
       "      <td>2</td>\n",
       "    </tr>\n",
       "    <tr>\n",
       "      <th>1</th>\n",
       "      <td>BR_00001415930</td>\n",
       "      <td>1</td>\n",
       "      <td>1</td>\n",
       "    </tr>\n",
       "    <tr>\n",
       "      <th>2</th>\n",
       "      <td>BR_00001545205</td>\n",
       "      <td>0</td>\n",
       "      <td>0</td>\n",
       "    </tr>\n",
       "    <tr>\n",
       "      <th>3</th>\n",
       "      <td>BR_00001760106</td>\n",
       "      <td>5</td>\n",
       "      <td>5</td>\n",
       "    </tr>\n",
       "    <tr>\n",
       "      <th>4</th>\n",
       "      <td>BR_00002485176</td>\n",
       "      <td>4</td>\n",
       "      <td>4</td>\n",
       "    </tr>\n",
       "  </tbody>\n",
       "</table>\n",
       "</div>"
      ],
      "text/plain": [
       "       account_id  mean_y_pred  median_y_pred\n",
       "0  BR_00000343803            2              2\n",
       "1  BR_00001415930            1              1\n",
       "2  BR_00001545205            0              0\n",
       "3  BR_00001760106            5              5\n",
       "4  BR_00002485176            4              4"
      ]
     },
     "execution_count": 21,
     "metadata": {},
     "output_type": "execute_result"
    }
   ],
   "source": [
    "# Calculating median and mean\n",
    "statistical_measures_user_results = train_mean_df.groupby('account_id')['order_days'].agg(\n",
    "    mean_y_pred='mean',\n",
    "    median_y_pred='median'\n",
    ").round(0).astype(int).reset_index()\n",
    "\n",
    "# Print\n",
    "statistical_measures_user_results.head()"
   ]
  },
  {
   "cell_type": "markdown",
   "metadata": {},
   "source": [
    "Consolidating all predictions in a single dataset."
   ]
  },
  {
   "cell_type": "code",
   "execution_count": 22,
   "metadata": {},
   "outputs": [
    {
     "data": {
      "text/html": [
       "<div>\n",
       "<style scoped>\n",
       "    .dataframe tbody tr th:only-of-type {\n",
       "        vertical-align: middle;\n",
       "    }\n",
       "\n",
       "    .dataframe tbody tr th {\n",
       "        vertical-align: top;\n",
       "    }\n",
       "\n",
       "    .dataframe thead th {\n",
       "        text-align: right;\n",
       "    }\n",
       "</style>\n",
       "<table border=\"1\" class=\"dataframe\">\n",
       "  <thead>\n",
       "    <tr style=\"text-align: right;\">\n",
       "      <th></th>\n",
       "      <th>account_id</th>\n",
       "      <th>order_days</th>\n",
       "      <th>mean_y_pred</th>\n",
       "      <th>median_y_pred</th>\n",
       "    </tr>\n",
       "  </thead>\n",
       "  <tbody>\n",
       "    <tr>\n",
       "      <th>0</th>\n",
       "      <td>BR_00000343803</td>\n",
       "      <td>4</td>\n",
       "      <td>2</td>\n",
       "      <td>2</td>\n",
       "    </tr>\n",
       "    <tr>\n",
       "      <th>1</th>\n",
       "      <td>BR_00001415930</td>\n",
       "      <td>4</td>\n",
       "      <td>1</td>\n",
       "      <td>1</td>\n",
       "    </tr>\n",
       "    <tr>\n",
       "      <th>2</th>\n",
       "      <td>BR_00001545205</td>\n",
       "      <td>0</td>\n",
       "      <td>0</td>\n",
       "      <td>0</td>\n",
       "    </tr>\n",
       "    <tr>\n",
       "      <th>3</th>\n",
       "      <td>BR_00001760106</td>\n",
       "      <td>4</td>\n",
       "      <td>5</td>\n",
       "      <td>5</td>\n",
       "    </tr>\n",
       "    <tr>\n",
       "      <th>4</th>\n",
       "      <td>BR_00002485176</td>\n",
       "      <td>1</td>\n",
       "      <td>4</td>\n",
       "      <td>4</td>\n",
       "    </tr>\n",
       "  </tbody>\n",
       "</table>\n",
       "</div>"
      ],
      "text/plain": [
       "       account_id  order_days  mean_y_pred  median_y_pred\n",
       "0  BR_00000343803           4            2              2\n",
       "1  BR_00001415930           4            1              1\n",
       "2  BR_00001545205           0            0              0\n",
       "3  BR_00001760106           4            5              5\n",
       "4  BR_00002485176           1            4              4"
      ]
     },
     "execution_count": 22,
     "metadata": {},
     "output_type": "execute_result"
    }
   ],
   "source": [
    "# Performing the join between mean_user_results and test_df\n",
    "test_df_with_mean = test_mean_df.merge(statistical_measures_user_results, on='account_id', how='left')\n",
    "\n",
    "# Selecting only the desired columns and renaming mean_order_days to pred_order_days\n",
    "test_df_final = test_df_with_mean[['account_id', 'order_days', 'mean_y_pred', 'median_y_pred']]\n",
    "\n",
    "# Displaying the first rows of the resulting DataFrame\n",
    "test_df_final.head()"
   ]
  },
  {
   "cell_type": "markdown",
   "metadata": {},
   "source": [
    "Calculating the RMSE, MAE and MSE."
   ]
  },
  {
   "cell_type": "code",
   "execution_count": 23,
   "metadata": {},
   "outputs": [
    {
     "name": "stdout",
     "output_type": "stream",
     "text": [
      "For the mean:\n",
      "RMSE: 1.39\n",
      "MSE: 1.95\n",
      "MAE: 0.89\n",
      "\n",
      "\n",
      "For the median:\n",
      "RMSE: 1.45\n",
      "MSE: 2.12\n",
      "MAE: 0.91\n"
     ]
    }
   ],
   "source": [
    "# Calculating metrics of evaluation\n",
    "mean_mae = mean_absolute_error(test_df_final['order_days'], test_df_final['mean_y_pred']).round(2)\n",
    "mean_rmse = np.sqrt(mean_squared_error(test_df_final['order_days'], test_df_final['mean_y_pred'])).round(2)\n",
    "mean_mse = mean_squared_error(test_df_final['order_days'], test_df_final['mean_y_pred']).round(2)\n",
    "\n",
    "median_mae = mean_absolute_error(test_df_final['order_days'], test_df_final['median_y_pred']).round(2)\n",
    "median_rmse = np.sqrt(mean_squared_error(test_df_final['order_days'], test_df_final['median_y_pred'])).round(2)\n",
    "median_mse = mean_squared_error(test_df_final['order_days'], test_df_final['median_y_pred']).round(2)\n",
    "\n",
    "# Print\n",
    "print(\"For the mean:\")\n",
    "print(f\"RMSE: {mean_rmse}\")\n",
    "print(f\"MSE: {mean_mse}\")\n",
    "print(f\"MAE: {mean_mae}\")\n",
    "print(\"\\n\")\n",
    "print(\"For the median:\")\n",
    "print(f\"RMSE: {median_rmse}\")\n",
    "print(f\"MSE: {median_mse}\")\n",
    "print(f\"MAE: {median_mae}\") "
   ]
  },
  {
   "cell_type": "markdown",
   "metadata": {},
   "source": [
    "The MAE was better for the mean.\n",
    "\n",
    "MAE of 0.89 means that, on average, this model is predicting 0.89 days more or less (so if an user has 4 order days, our model is predicting 3 or 5, since there is no half day)."
   ]
  },
  {
   "cell_type": "markdown",
   "metadata": {},
   "source": [
    "#### 5.2 Model 2 - Generalized Linear Model (GLM)"
   ]
  },
  {
   "cell_type": "markdown",
   "metadata": {},
   "source": [
    "Creating train and test sets. First, let's try using the train_df from the beginning of the dataset until 2022-06. "
   ]
  },
  {
   "cell_type": "code",
   "execution_count": 24,
   "metadata": {},
   "outputs": [],
   "source": [
    "# Dividing into train and test\n",
    "train_GLR_df = historical_full_df[historical_full_df['month_year'] <= '2022-05']\n",
    "test_GLR_df = historical_full_df[historical_full_df['month_year'] > '2022-05']"
   ]
  },
  {
   "cell_type": "code",
   "execution_count": 25,
   "metadata": {},
   "outputs": [],
   "source": [
    "X_train = train_GLR_df[['year', 'month', 'transaction_amount', 'cumulative_mean_per_transaction_amount', 'months_without_purchase', 'order_days_lag_1', 'order_days_lag_2', 'order_days_lag_3', 'order_days_lag_4', 'order_days_lag_5', 'order_days_lag_6']] \n",
    "y_train = train_GLR_df['order_days']     \n",
    "\n",
    "X_test = test_GLR_df[['year', 'month', 'transaction_amount', 'cumulative_mean_per_transaction_amount', 'months_without_purchase', 'order_days_lag_1', 'order_days_lag_2', 'order_days_lag_3', 'order_days_lag_4', 'order_days_lag_5', 'order_days_lag_6']] \n",
    "y_test = test_GLR_df['order_days']"
   ]
  },
  {
   "cell_type": "markdown",
   "metadata": {},
   "source": [
    "Fitting model."
   ]
  },
  {
   "cell_type": "code",
   "execution_count": 26,
   "metadata": {},
   "outputs": [
    {
     "name": "stdout",
     "output_type": "stream",
     "text": [
      "                 Generalized Linear Model Regression Results                  \n",
      "==============================================================================\n",
      "Dep. Variable:             order_days   No. Observations:               526889\n",
      "Model:                            GLM   Df Residuals:                   526878\n",
      "Model Family:                Gaussian   Df Model:                           10\n",
      "Link Function:               Identity   Scale:                          1.8690\n",
      "Method:                          IRLS   Log-Likelihood:            -9.1238e+05\n",
      "Date:                Tue, 05 Nov 2024   Deviance:                   9.8475e+05\n",
      "Time:                        07:58:41   Pearson chi2:                 9.85e+05\n",
      "No. Iterations:                     3   Pseudo R-squ. (CS):             0.8510\n",
      "Covariance Type:            nonrobust                                         \n",
      "==========================================================================================================\n",
      "                                             coef    std err          z      P>|z|      [0.025      0.975]\n",
      "----------------------------------------------------------------------------------------------------------\n",
      "year                                       0.0004   2.46e-06    181.070      0.000       0.000       0.000\n",
      "month                                     -0.0095      0.001    -17.948      0.000      -0.011      -0.008\n",
      "transaction_amount                      1.905e-05   1.42e-07    133.908      0.000    1.88e-05    1.93e-05\n",
      "cumulative_mean_per_transaction_amount -1.836e-05   1.85e-07    -99.104      0.000   -1.87e-05    -1.8e-05\n",
      "months_without_purchase                   -0.0959      0.001   -191.536      0.000      -0.097      -0.095\n",
      "order_days_lag_1                           0.4064      0.001    296.636      0.000       0.404       0.409\n",
      "order_days_lag_2                           0.1412      0.001     94.528      0.000       0.138       0.144\n",
      "order_days_lag_3                           0.0312      0.002     19.165      0.000       0.028       0.034\n",
      "order_days_lag_4                          -0.0418      0.002    -25.360      0.000      -0.045      -0.039\n",
      "order_days_lag_5                           0.1964      0.002    119.340      0.000       0.193       0.200\n",
      "order_days_lag_6                           0.0340      0.002     22.138      0.000       0.031       0.037\n",
      "==========================================================================================================\n"
     ]
    }
   ],
   "source": [
    "model_GLR_1 = sm.GLM(y_train, X_train).fit()\n",
    "print(model_GLR_1.summary())"
   ]
  },
  {
   "cell_type": "markdown",
   "metadata": {},
   "source": [
    "Prediction and calculation of metrics."
   ]
  },
  {
   "cell_type": "code",
   "execution_count": 27,
   "metadata": {},
   "outputs": [
    {
     "name": "stdout",
     "output_type": "stream",
     "text": [
      "MAE: 0.9827\n",
      "RMSE: 1.3814\n"
     ]
    }
   ],
   "source": [
    "# Calculating y_pred\n",
    "y_pred = model_GLR_1.predict(X_test)\n",
    "\n",
    "# Metrics\n",
    "mse = mean_squared_error(y_test, y_pred)\n",
    "rmse = np.sqrt(mse)\n",
    "mae = mean_absolute_error(y_test, y_pred)\n",
    "\n",
    "# Print\n",
    "print(f'MAE: {mae:.4f}')\n",
    "print(f'RMSE: {rmse:.4f}')"
   ]
  },
  {
   "cell_type": "code",
   "execution_count": 29,
   "metadata": {},
   "outputs": [
    {
     "data": {
      "image/png": "[encoded data removed]",
      "text/plain": [
       "<Figure size 800x600 with 1 Axes>"
      ]
     },
     "metadata": {},
     "output_type": "display_data"
    }
   ],
   "source": [
    "# scatter plot\n",
    "plt.figure(figsize=(8, 6))\n",
    "sns.scatterplot(x=y_test, y=y_pred, color = 'orange')\n",
    "\n",
    "# Adding line\n",
    "max_value = max(y_test.max(), y_pred.max())\n",
    "min_value = min(y_test.min(), y_pred.min())\n",
    "plt.plot([min_value, max_value], [min_value, max_value], color='red', linestyle='--')\n",
    "\n",
    "# General configurations\n",
    "plt.xlabel(\"Real (y_test)\")\n",
    "plt.ylabel(\"Predicted (y_pred)\")\n",
    "plt.show()"
   ]
  },
  {
   "cell_type": "markdown",
   "metadata": {},
   "source": [
    "The value we found above of MAE is higher than the mean of our model 1 (0.89).  \n",
    "\n",
    "Let's try using a different approach. Since we have a poisson distribution, let's change the family of our GLM. Since we have a Poisson distribution, let's go for it."
   ]
  },
  {
   "cell_type": "code",
   "execution_count": 30,
   "metadata": {},
   "outputs": [
    {
     "name": "stdout",
     "output_type": "stream",
     "text": [
      "                 Generalized Linear Model Regression Results                  \n",
      "==============================================================================\n",
      "Dep. Variable:             order_days   No. Observations:               526889\n",
      "Model:                            GLM   Df Residuals:                   526878\n",
      "Model Family:                 Poisson   Df Model:                           10\n",
      "Link Function:                    Log   Scale:                          1.0000\n",
      "Method:                         lbfgs   Log-Likelihood:            -5.6125e+05\n",
      "Date:                Tue, 05 Nov 2024   Deviance:                   3.6634e+05\n",
      "Time:                        07:58:59   Pearson chi2:                 4.45e+05\n",
      "No. Iterations:                     0   Pseudo R-squ. (CS):             0.9054\n",
      "Covariance Type:            nonrobust                                         \n",
      "==========================================================================================================\n",
      "                                             coef    std err          z      P>|z|      [0.025      0.975]\n",
      "----------------------------------------------------------------------------------------------------------\n",
      "year                                       0.0003   1.28e-06    245.526      0.000       0.000       0.000\n",
      "month                                     -0.0003      0.000     -0.951      0.342      -0.001       0.000\n",
      "transaction_amount                       1.95e-06   1.48e-08    131.671      0.000    1.92e-06    1.98e-06\n",
      "cumulative_mean_per_transaction_amount -3.094e-06   3.49e-08    -88.541      0.000   -3.16e-06   -3.03e-06\n",
      "months_without_purchase                   -0.5733      0.002   -352.403      0.000      -0.577      -0.570\n",
      "order_days_lag_1                           0.0858      0.001    159.298      0.000       0.085       0.087\n",
      "order_days_lag_2                           0.0304      0.001     48.870      0.000       0.029       0.032\n",
      "order_days_lag_3                           0.0111      0.001     15.396      0.000       0.010       0.013\n",
      "order_days_lag_4                          -0.0148      0.001    -20.372      0.000      -0.016      -0.013\n",
      "order_days_lag_5                           0.0433      0.001     65.290      0.000       0.042       0.045\n",
      "order_days_lag_6                           0.0101      0.001     17.020      0.000       0.009       0.011\n",
      "==========================================================================================================\n"
     ]
    }
   ],
   "source": [
    "model_GLR_2 = sm.GLM(y_train, X_train, family=sm.families.Poisson()).fit(method=\"lbfgs\")\n",
    "print(model_GLR_2.summary())"
   ]
  },
  {
   "cell_type": "code",
   "execution_count": 31,
   "metadata": {},
   "outputs": [
    {
     "name": "stdout",
     "output_type": "stream",
     "text": [
      "MAE: 0.8532\n",
      "RMSE: 1.5957\n"
     ]
    }
   ],
   "source": [
    "# Calculating y_pred\n",
    "y_pred = model_GLR_2.predict(X_test).round(0)\n",
    "\n",
    "# Metrics\n",
    "mse = mean_squared_error(y_test, y_pred)\n",
    "rmse = np.sqrt(mse)\n",
    "mae = mean_absolute_error(y_test, y_pred)\n",
    "\n",
    "# Print\n",
    "print(f'MAE: {mae:.4f}')\n",
    "print(f'RMSE: {rmse:.4f}')"
   ]
  },
  {
   "cell_type": "code",
   "execution_count": 32,
   "metadata": {},
   "outputs": [
    {
     "data": {
      "image/png": "[encoded data removed]",
      "text/plain": [
       "<Figure size 800x600 with 1 Axes>"
      ]
     },
     "metadata": {},
     "output_type": "display_data"
    }
   ],
   "source": [
    "# scatter plot\n",
    "plt.figure(figsize=(8, 6))\n",
    "sns.scatterplot(x=y_test, y=y_pred, color = 'orange')\n",
    "\n",
    "# Adding line\n",
    "max_value = max(y_test.max(), y_pred.max())\n",
    "plt.plot([min_value, max_value], [min_value, max_value], color='red', linestyle='--')\n",
    "\n",
    "# General configurations\n",
    "plt.xlabel(\"Real (y_test)\")\n",
    "plt.ylabel(\"Predicted (y_pred)\")\n",
    "plt.show()"
   ]
  },
  {
   "cell_type": "markdown",
   "metadata": {},
   "source": [
    "Our MAE increased and is lower than the GLM (using gaussian), but still not lower than the mean (our base line)."
   ]
  },
  {
   "cell_type": "markdown",
   "metadata": {},
   "source": [
    "#### 5.3 Model 3 - Random Forest Regressor"
   ]
  },
  {
   "cell_type": "code",
   "execution_count": 33,
   "metadata": {},
   "outputs": [],
   "source": [
    "# Dividing into train and test\n",
    "train_RFR_df = historical_full_df[historical_full_df['month_year'] <= '2022-06']\n",
    "test_RFR_df = historical_full_df[historical_full_df['month_year'] == '2022-07']"
   ]
  },
  {
   "cell_type": "code",
   "execution_count": 50,
   "metadata": {},
   "outputs": [],
   "source": [
    "X_train = train_RFR_df[['year', 'transaction_amount', 'cumulative_mean_per_transaction_amount', 'months_without_purchase', 'order_days_lag_1', 'order_days_lag_2', 'order_days_lag_3', 'order_days_lag_4', 'order_days_lag_6']]\n",
    "y_train = train_RFR_df['order_days']       \n",
    "\n",
    "X_test = test_RFR_df[['year', 'transaction_amount', 'cumulative_mean_per_transaction_amount', 'months_without_purchase', 'order_days_lag_1', 'order_days_lag_2', 'order_days_lag_3', 'order_days_lag_4', 'order_days_lag_6']]\n",
    "y_test = test_RFR_df['order_days']"
   ]
  },
  {
   "cell_type": "code",
   "execution_count": 51,
   "metadata": {},
   "outputs": [],
   "source": [
    "# Modeling\n",
    "model_rgr =  RandomForestRegressor().fit(X_train, y_train)"
   ]
  },
  {
   "cell_type": "code",
   "execution_count": 52,
   "metadata": {},
   "outputs": [
    {
     "name": "stdout",
     "output_type": "stream",
     "text": [
      "MAE: 0.67\n",
      "RMSE: 1.0976644932166095\n"
     ]
    }
   ],
   "source": [
    "# Calculating y_pred\n",
    "y_pred = model_rgr.predict(X_test)\n",
    "\n",
    "# Calculating evaluation metrics\n",
    "r2 = r2_score(y_test, y_pred)\n",
    "mae = mean_absolute_error(y_test, y_pred)\n",
    "mse = mean_squared_error(y_test, y_pred)\n",
    "\n",
    "# Calculating RMSE\n",
    "rmse = mean_squared_error(y_test, y_pred, squared=False)\n",
    "\n",
    "# Print\n",
    "print(f\"MAE: {mae.round(2)}\")\n",
    "print(f\"RMSE: {rmse}\")"
   ]
  },
  {
   "cell_type": "code",
   "execution_count": 53,
   "metadata": {},
   "outputs": [
    {
     "data": {
      "image/png": "[encoded data removed]",
      "text/plain": [
       "<Figure size 800x600 with 1 Axes>"
      ]
     },
     "metadata": {},
     "output_type": "display_data"
    }
   ],
   "source": [
    "# scatter plot\n",
    "plt.figure(figsize=(8, 6))\n",
    "sns.scatterplot(x=y_test, y=y_pred, color = 'orange')\n",
    "\n",
    "# Adding line\n",
    "max_value = max(y_test.max(), y_pred.max())\n",
    "min_value = min(y_test.min(), y_pred.min())\n",
    "plt.plot([min_value, max_value], [min_value, max_value], color='black', linestyle='--')\n",
    "\n",
    "# General configurations\n",
    "plt.xlabel(\"Real (y_test)\")\n",
    "plt.ylabel(\"Predicted (y_pred)\")\n",
    "plt.show()"
   ]
  },
  {
   "cell_type": "markdown",
   "metadata": {},
   "source": [
    "Now we've found a better MAE but with a bad performance. We could try to iterate using all features but since we're using a random forest, it will take hours and, for our proposal of delivery this project in a week, we'll not continue with this model."
   ]
  },
  {
   "cell_type": "markdown",
   "metadata": {},
   "source": [
    "#### 5.4 Model 4 - XGBRegressor"
   ]
  },
  {
   "cell_type": "markdown",
   "metadata": {},
   "source": [
    "##### 5.4.1 Transaction Amount"
   ]
  },
  {
   "cell_type": "markdown",
   "metadata": {},
   "source": [
    "First, let's start our model by only using the transaction amount."
   ]
  },
  {
   "cell_type": "code",
   "execution_count": 59,
   "metadata": {},
   "outputs": [],
   "source": [
    "# Dividing into train and test\n",
    "train_XGBR_df = historical_full_df[historical_full_df['month_year'] <= '2022-06']\n",
    "test_XGBR_df = historical_full_df[historical_full_df['month_year'] == '2022-07']"
   ]
  },
  {
   "cell_type": "code",
   "execution_count": 60,
   "metadata": {},
   "outputs": [],
   "source": [
    "X_train = train_XGBR_df[[ 'year', 'month', 'transaction_amount']]\n",
    "y_train = train_XGBR_df['order_days']       \n",
    "\n",
    "X_test = test_XGBR_df[[ 'year', 'month', 'transaction_amount']]\n",
    "y_test = test_XGBR_df['order_days']"
   ]
  },
  {
   "cell_type": "code",
   "execution_count": 61,
   "metadata": {},
   "outputs": [],
   "source": [
    "# Modeling\n",
    "model_xgb = XGBRegressor().fit(X_train, y_train)"
   ]
  },
  {
   "cell_type": "code",
   "execution_count": 62,
   "metadata": {},
   "outputs": [
    {
     "name": "stdout",
     "output_type": "stream",
     "text": [
      "MAE: 0.72\n",
      "RMSE: 1.3156257857640161\n"
     ]
    }
   ],
   "source": [
    "# Calculating y_pred\n",
    "y_pred = model_xgb.predict(X_test).round(0)\n",
    "\n",
    "# Calculating evaluation metrics\n",
    "r2 = r2_score(y_test, y_pred)\n",
    "mae = mean_absolute_error(y_test, y_pred)\n",
    "mse = mean_squared_error(y_test, y_pred)\n",
    "\n",
    "# Calculating RMSE\n",
    "rmse = mean_squared_error(y_test, y_pred, squared=False)\n",
    "\n",
    "# Print\n",
    "print(f\"MAE: {mae.round(2)}\")\n",
    "print(f\"RMSE: {rmse}\")"
   ]
  },
  {
   "cell_type": "code",
   "execution_count": 63,
   "metadata": {},
   "outputs": [
    {
     "data": {
      "image/png": "[encoded data removed]",
      "text/plain": [
       "<Figure size 800x600 with 1 Axes>"
      ]
     },
     "metadata": {},
     "output_type": "display_data"
    }
   ],
   "source": [
    "# scatter plot\n",
    "plt.figure(figsize=(8, 6))\n",
    "sns.scatterplot(x=y_test, y=y_pred, color = 'orange')\n",
    "\n",
    "# Adding line\n",
    "max_value = max(y_test.max(), y_pred.max())\n",
    "min_value = min(y_test.min(), y_pred.min())\n",
    "plt.plot([min_value, max_value], [min_value, max_value], color='black', linestyle='--')\n",
    "\n",
    "# General configurations\n",
    "plt.xlabel(\"Real (y_test)\")\n",
    "plt.ylabel(\"Predicted (y_pred)\")\n",
    "plt.show()"
   ]
  },
  {
   "cell_type": "markdown",
   "metadata": {},
   "source": [
    "For now, we could find a better model that is better when comparing with our baseline (using mean) of 0.89. Let's dive in by adding the LAGs"
   ]
  },
  {
   "cell_type": "markdown",
   "metadata": {},
   "source": [
    "##### 5.4.2 LAG"
   ]
  },
  {
   "cell_type": "code",
   "execution_count": 64,
   "metadata": {},
   "outputs": [],
   "source": [
    "# Dividing into train and test\n",
    "train_XGBR_df = historical_full_df[historical_full_df['month_year'] <= '2022-06']\n",
    "test_XGBR_df = historical_full_df[historical_full_df['month_year'] == '2022-07']"
   ]
  },
  {
   "cell_type": "code",
   "execution_count": 65,
   "metadata": {},
   "outputs": [],
   "source": [
    "X_train = train_XGBR_df[[ 'year', 'month', 'transaction_amount', 'order_days_lag_1', 'order_days_lag_2', 'order_days_lag_3', 'order_days_lag_4', 'order_days_lag_5', 'order_days_lag_6']]\n",
    "y_train = train_XGBR_df['order_days']       \n",
    "\n",
    "X_test = test_XGBR_df[[ 'year', 'month', 'transaction_amount', 'order_days_lag_1', 'order_days_lag_2', 'order_days_lag_3', 'order_days_lag_4', 'order_days_lag_5', 'order_days_lag_6']]\n",
    "y_test = test_XGBR_df['order_days']"
   ]
  },
  {
   "cell_type": "code",
   "execution_count": 66,
   "metadata": {},
   "outputs": [
    {
     "name": "stdout",
     "output_type": "stream",
     "text": [
      "MAE: 0.63\n",
      "RMSE: 1.1365744581801285\n"
     ]
    }
   ],
   "source": [
    "# Modeling\n",
    "model_xgb = XGBRegressor().fit(X_train, y_train)\n",
    "\n",
    "\n",
    "# Calculating y_pred\n",
    "y_pred = model_xgb.predict(X_test).round(0)\n",
    "\n",
    "# Calculating evaluation metrics\n",
    "r2 = r2_score(y_test, y_pred)\n",
    "mae = mean_absolute_error(y_test, y_pred)\n",
    "mse = mean_squared_error(y_test, y_pred)\n",
    "\n",
    "# Calculating RMSE\n",
    "rmse = mean_squared_error(y_test, y_pred, squared=False)\n",
    "\n",
    "# Print\n",
    "print(f\"MAE: {mae.round(2)}\")\n",
    "print(f\"RMSE: {rmse}\")"
   ]
  },
  {
   "cell_type": "code",
   "execution_count": 67,
   "metadata": {},
   "outputs": [
    {
     "data": {
      "image/png": "[encoded data removed]",
      "text/plain": [
       "<Figure size 800x600 with 1 Axes>"
      ]
     },
     "metadata": {},
     "output_type": "display_data"
    }
   ],
   "source": [
    "# Criando o scatter plot\n",
    "plt.figure(figsize=(8, 6))\n",
    "sns.scatterplot(x=y_test, y=y_pred, color = 'orange')\n",
    "\n",
    "# Adicionando uma linha de identidade para referência\n",
    "max_value = max(y_test.max(), y_pred.max())\n",
    "min_value = min(y_test.min(), y_pred.min())\n",
    "plt.plot([min_value, max_value], [min_value, max_value], color='black', linestyle='--')\n",
    "\n",
    "# Configurações adicionais do gráfico\n",
    "plt.xlabel(\"Valores Reais (y_test)\")\n",
    "plt.ylabel(\"Valores Previstos (y_pred)\")\n",
    "plt.title(\"Gráfico de Dispersão: Valores Reais vs. Valores Previstos\")\n",
    "plt.show()"
   ]
  },
  {
   "cell_type": "markdown",
   "metadata": {},
   "source": [
    "We had a small improvement comparing to the last try."
   ]
  },
  {
   "cell_type": "markdown",
   "metadata": {},
   "source": [
    "##### 5.4.4 Feature Selection"
   ]
  },
  {
   "cell_type": "markdown",
   "metadata": {},
   "source": [
    "Let's try to improve our MAE by iterating among our features to understand what is the best combination for MA"
   ]
  },
  {
   "cell_type": "code",
   "execution_count": null,
   "metadata": {},
   "outputs": [
    {
     "name": "stdout",
     "output_type": "stream",
     "text": [
      "Best combination: ('year', 'transaction_amount', 'cumulative_mean_per_transaction_amount', 'months_without_purchase', 'order_days_lag_2', 'order_days_lag_3', 'order_days_lag_5', 'order_days_lag_6')\n",
      "Best MAE: 0.5879501409797983\n"
     ]
    }
   ],
   "source": [
    "# Defining attributes\n",
    "feature_columns = ['year', 'month', 'transaction_amount', 'cumulative_mean_per_transaction_amount', 'months_without_purchase', 'order_days_lag_1', 'order_days_lag_2','order_days_lag_3', 'order_days_lag_4', 'order_days_lag_5','order_days_lag_6']\n",
    "\n",
    "# Generating varibles for combination\n",
    "best_mae = float('inf')\n",
    "best_combination = None\n",
    "\n",
    "# Iterating\n",
    "for r in range(1, len(feature_columns) + 1):\n",
    "  for combination in itertools.combinations(feature_columns, r):\n",
    "    # Selecing combination\n",
    "    X_train_comb = train_XGBR_df[list(combination)]\n",
    "    X_test_comb = test_XGBR_df[list(combination)]\n",
    "        \n",
    "    # Training\n",
    "    model_xgb = XGBRegressor().fit(X_train_comb, y_train)\n",
    "        \n",
    "    # Calculating y_pred\n",
    "    y_pred = model_xgb.predict(X_test_comb)\n",
    "        \n",
    "    # Calculating MAE\n",
    "    mae = mean_absolute_error(y_test, y_pred)\n",
    "\n",
    "    # Comparing combinations\n",
    "    if mae < best_mae:\n",
    "        best_mae = mae\n",
    "        best_combination = combination\n",
    "\n",
    "# Print\n",
    "print(f\"Best combination: {best_combination}\")\n",
    "print(f\"Best MAE: {best_mae}\")"
   ]
  },
  {
   "cell_type": "markdown",
   "metadata": {},
   "source": [
    "##### 5.4.5 Final Model"
   ]
  },
  {
   "cell_type": "markdown",
   "metadata": {},
   "source": [
    "So now we have our final combination for this model. "
   ]
  },
  {
   "cell_type": "code",
   "execution_count": 124,
   "metadata": {},
   "outputs": [],
   "source": [
    "# Dividing into train and test\n",
    "train_XGBR_df = historical_full_df[historical_full_df['month_year'] <= '2022-06']\n",
    "test_XGBR_df = historical_full_df[historical_full_df['month_year'] == '2022-07']"
   ]
  },
  {
   "cell_type": "code",
   "execution_count": 125,
   "metadata": {},
   "outputs": [],
   "source": [
    "X_train = train_XGBR_df[['year', 'transaction_amount', 'cumulative_mean_per_transaction_amount', 'months_without_purchase', 'order_days_lag_2', 'order_days_lag_3', 'order_days_lag_5', 'order_days_lag_6']]\n",
    "y_train = train_XGBR_df['order_days']       \n",
    "\n",
    "X_test = test_XGBR_df[['year', 'transaction_amount', 'cumulative_mean_per_transaction_amount', 'months_without_purchase', 'order_days_lag_2', 'order_days_lag_3', 'order_days_lag_5', 'order_days_lag_6']]\n",
    "y_test = test_XGBR_df['order_days']"
   ]
  },
  {
   "cell_type": "code",
   "execution_count": 126,
   "metadata": {},
   "outputs": [
    {
     "name": "stdout",
     "output_type": "stream",
     "text": [
      "MAE: 0.56\n",
      "RMSE: 1.037663152096848\n"
     ]
    }
   ],
   "source": [
    "# Modeling\n",
    "model_xgb = XGBRegressor().fit(X_train, y_train) \n",
    "\n",
    "# Calculating y_pred\n",
    "y_pred = model_xgb.predict(X_test).round(0)\n",
    "\n",
    "# Calculating evaluation metrics\n",
    "r2 = r2_score(y_test, y_pred)\n",
    "mae = mean_absolute_error(y_test, y_pred)\n",
    "mse = mean_squared_error(y_test, y_pred)\n",
    "\n",
    "# Calculating RMSE\n",
    "rmse = mean_squared_error(y_test, y_pred, squared=False)\n",
    "\n",
    "# Print\n",
    "print(f\"MAE: {mae.round(2)}\")\n",
    "print(f\"RMSE: {rmse}\")"
   ]
  },
  {
   "cell_type": "markdown",
   "metadata": {},
   "source": [
    "Let's deep dive into the residuals."
   ]
  },
  {
   "cell_type": "code",
   "execution_count": 121,
   "metadata": {},
   "outputs": [
    {
     "data": {
      "text/html": [
       "<div>\n",
       "<style scoped>\n",
       "    .dataframe tbody tr th:only-of-type {\n",
       "        vertical-align: middle;\n",
       "    }\n",
       "\n",
       "    .dataframe tbody tr th {\n",
       "        vertical-align: top;\n",
       "    }\n",
       "\n",
       "    .dataframe thead th {\n",
       "        text-align: right;\n",
       "    }\n",
       "</style>\n",
       "<table border=\"1\" class=\"dataframe\">\n",
       "  <thead>\n",
       "    <tr style=\"text-align: right;\">\n",
       "      <th></th>\n",
       "      <th>y_test</th>\n",
       "      <th>y_pred</th>\n",
       "      <th>residuals</th>\n",
       "    </tr>\n",
       "  </thead>\n",
       "  <tbody>\n",
       "    <tr>\n",
       "      <th>count</th>\n",
       "      <td>47899.000000</td>\n",
       "      <td>47899.000000</td>\n",
       "      <td>47899.000000</td>\n",
       "    </tr>\n",
       "    <tr>\n",
       "      <th>mean</th>\n",
       "      <td>2.079939</td>\n",
       "      <td>2.113990</td>\n",
       "      <td>0.560158</td>\n",
       "    </tr>\n",
       "    <tr>\n",
       "      <th>std</th>\n",
       "      <td>2.262913</td>\n",
       "      <td>2.051722</td>\n",
       "      <td>0.873490</td>\n",
       "    </tr>\n",
       "    <tr>\n",
       "      <th>min</th>\n",
       "      <td>0.000000</td>\n",
       "      <td>0.000000</td>\n",
       "      <td>0.000000</td>\n",
       "    </tr>\n",
       "    <tr>\n",
       "      <th>25%</th>\n",
       "      <td>0.000000</td>\n",
       "      <td>0.000000</td>\n",
       "      <td>0.000000</td>\n",
       "    </tr>\n",
       "    <tr>\n",
       "      <th>50%</th>\n",
       "      <td>2.000000</td>\n",
       "      <td>2.000000</td>\n",
       "      <td>0.000000</td>\n",
       "    </tr>\n",
       "    <tr>\n",
       "      <th>75%</th>\n",
       "      <td>3.000000</td>\n",
       "      <td>3.000000</td>\n",
       "      <td>1.000000</td>\n",
       "    </tr>\n",
       "    <tr>\n",
       "      <th>max</th>\n",
       "      <td>24.000000</td>\n",
       "      <td>22.000000</td>\n",
       "      <td>13.000000</td>\n",
       "    </tr>\n",
       "  </tbody>\n",
       "</table>\n",
       "</div>"
      ],
      "text/plain": [
       "             y_test        y_pred     residuals\n",
       "count  47899.000000  47899.000000  47899.000000\n",
       "mean       2.079939      2.113990      0.560158\n",
       "std        2.262913      2.051722      0.873490\n",
       "min        0.000000      0.000000      0.000000\n",
       "25%        0.000000      0.000000      0.000000\n",
       "50%        2.000000      2.000000      0.000000\n",
       "75%        3.000000      3.000000      1.000000\n",
       "max       24.000000     22.000000     13.000000"
      ]
     },
     "execution_count": 121,
     "metadata": {},
     "output_type": "execute_result"
    }
   ],
   "source": [
    "# Creating Dataframe with y_pred, y_test and residuals\n",
    "xgb_residuals = pd.DataFrame({\n",
    "    \"y_test\": y_test,\n",
    "    \"y_pred\": abs(y_pred).astype(int),\n",
    "    \"residuals\": abs(y_test - y_pred).astype(int)\n",
    "})\n",
    "\n",
    "# Statistics\n",
    "xgb_residuals.describe()"
   ]
  },
  {
   "cell_type": "markdown",
   "metadata": {},
   "source": [
    "Our max y_test is 24 order_days and our model predicted 22. The higher residuals value is 13. \n",
    "\n",
    "The mean of the y_test and y_pred is quite the same, which is good. \n",
    "\n",
    "The outliers are putting the MAE up."
   ]
  },
  {
   "cell_type": "code",
   "execution_count": 122,
   "metadata": {},
   "outputs": [
    {
     "data": {
      "image/png": "[encoded data removed]",
      "text/plain": [
       "<Figure size 800x600 with 1 Axes>"
      ]
     },
     "metadata": {},
     "output_type": "display_data"
    }
   ],
   "source": [
    "# scatter plot\n",
    "plt.figure(figsize=(8, 6))\n",
    "sns.scatterplot(x=y_test, y=y_pred, color = 'orange')\n",
    "\n",
    "# Adding line\n",
    "max_value = max(y_test.max(), y_pred.max())\n",
    "min_value = min(y_test.min(), y_pred.min())\n",
    "plt.plot([min_value, max_value], [min_value, max_value], color='black', linestyle='--')\n",
    "\n",
    "# General configurations\n",
    "plt.xlabel(\"Real (y_test)\")\n",
    "plt.ylabel(\"Predicted (y_pred)\")\n",
    "plt.show()"
   ]
  },
  {
   "cell_type": "code",
   "execution_count": 73,
   "metadata": {},
   "outputs": [
    {
     "data": {
      "text/plain": [
       "<Axes: xlabel='residuals', ylabel='Count'>"
      ]
     },
     "execution_count": 73,
     "metadata": {},
     "output_type": "execute_result"
    },
    {
     "data": {
      "image/png": "[encoded data removed]",
      "text/plain": [
       "<Figure size 640x480 with 1 Axes>"
      ]
     },
     "metadata": {},
     "output_type": "display_data"
    }
   ],
   "source": [
    "sns.histplot(xgb_residuals['residuals'], bins = 17, color = 'orange')"
   ]
  },
  {
   "cell_type": "code",
   "execution_count": 74,
   "metadata": {},
   "outputs": [
    {
     "data": {
      "image/png": "[encoded data removed]",
      "text/plain": [
       "<Figure size 800x600 with 1 Axes>"
      ]
     },
     "metadata": {},
     "output_type": "display_data"
    }
   ],
   "source": [
    "# Gráfico de Dispersão dos Resíduos em relação aos Valores Reais (y_test)\n",
    "plt.figure(figsize=(8, 6))\n",
    "plt.scatter(xgb_residuals['y_test'], xgb_residuals['residuals'], color='orange', alpha=0.7)\n",
    "plt.xlabel(\"Real (y_test)\")\n",
    "plt.ylabel(\"Residuals\")\n",
    "plt.title(\"Residuals vs Real Values\")\n",
    "plt.axhline(0, color='black', linestyle='--', linewidth=1)\n",
    "plt.show()"
   ]
  },
  {
   "cell_type": "code",
   "execution_count": 75,
   "metadata": {},
   "outputs": [
    {
     "data": {
      "image/png": "[encoded data removed]",
      "text/plain": [
       "<Figure size 800x600 with 1 Axes>"
      ]
     },
     "metadata": {},
     "output_type": "display_data"
    }
   ],
   "source": [
    "plt.figure(figsize=(8, 6))\n",
    "plt.boxplot(xgb_residuals['residuals'], vert=False, patch_artist=True, boxprops=dict(facecolor='orange'))\n",
    "plt.xlabel(\"Residuals\")\n",
    "plt.title(\"Boxplot of Residuals\")\n",
    "plt.show()"
   ]
  },
  {
   "cell_type": "markdown",
   "metadata": {},
   "source": [
    "Now, since this is our best model, let's go for the cross validation.\n",
    "\n",
    "**NOTE: we'll use time series split in order to keep the order of dates!**"
   ]
  },
  {
   "cell_type": "code",
   "execution_count": 76,
   "metadata": {},
   "outputs": [
    {
     "name": "stdout",
     "output_type": "stream",
     "text": [
      "Fold 1:\n",
      "Training Months: ['2021-07', '2021-08', '2021-09', '2021-10', '2021-11']\n",
      "Testing Month: ['2021-12']\n",
      "MAE: 0.39\n",
      "\n",
      "Fold 2:\n",
      "Training Months: ['2021-07', '2021-08', '2021-09', '2021-10', '2021-11', '2021-12']\n",
      "Testing Month: ['2022-01']\n",
      "MAE: 0.35\n",
      "\n",
      "Fold 3:\n",
      "Training Months: ['2021-07', '2021-08', '2021-09', '2021-10', '2021-11', '2021-12', '2022-01']\n",
      "Testing Month: ['2022-02']\n",
      "MAE: 0.36\n",
      "\n",
      "Fold 4:\n",
      "Training Months: ['2021-07', '2021-08', '2021-09', '2021-10', '2021-11', '2021-12', '2022-01', '2022-02']\n",
      "Testing Month: ['2022-03']\n",
      "MAE: 0.82\n",
      "\n",
      "Fold 5:\n",
      "Training Months: ['2021-07', '2021-08', '2021-09', '2021-10', '2021-11', '2021-12', '2022-01', '2022-02', '2022-03']\n",
      "Testing Month: ['2022-04']\n",
      "MAE: 0.64\n",
      "\n",
      "Fold 6:\n",
      "Training Months: ['2021-07', '2021-08', '2021-09', '2021-10', '2021-11', '2021-12', '2022-01', '2022-02', '2022-03', '2022-04']\n",
      "Testing Month: ['2022-05']\n",
      "MAE: 0.62\n",
      "\n",
      "Fold 7:\n",
      "Training Months: ['2021-07', '2021-08', '2021-09', '2021-10', '2021-11', '2021-12', '2022-01', '2022-02', '2022-03', '2022-04', '2022-05']\n",
      "Testing Month: ['2022-06']\n",
      "MAE: 0.61\n",
      "\n",
      "Fold 8:\n",
      "Training Months: ['2021-07', '2021-08', '2021-09', '2021-10', '2021-11', '2021-12', '2022-01', '2022-02', '2022-03', '2022-04', '2022-05', '2022-06']\n",
      "Testing Month: ['2022-07']\n",
      "MAE: 0.59\n",
      "\n",
      "Average MAE across all folds: 0.55\n"
     ]
    }
   ],
   "source": [
    "# Defining unique months to use in TimeSeriesSplit\n",
    "months = historical_full_df['month_year'].unique()\n",
    "\n",
    "# Configuring TimeSeriesSplit\n",
    "tscv = TimeSeriesSplit(n_splits=8)\n",
    "\n",
    "# Creating the model\n",
    "model = XGBRegressor()\n",
    "\n",
    "# List to store MAE results for each fold\n",
    "mae_scores = []\n",
    "\n",
    "# Iterating over each fold in TimeSeriesSplit\n",
    "for split_num, (train_months_index, test_months_index) in enumerate(tscv.split(months)):\n",
    "    # Selecting training and testing months for each split\n",
    "    train_months = months[train_months_index]\n",
    "    test_months = months[test_months_index]\n",
    "    \n",
    "    # Converting the arrays to lists of strings for cleaner display\n",
    "    train_months_list = train_months.astype(str).tolist()\n",
    "    test_months_list = test_months.astype(str).tolist()\n",
    "    \n",
    "    # Creating training and testing sets based on selected months\n",
    "    train_XGBR_df = historical_full_df[historical_full_df['month_year'].isin(train_months)]\n",
    "    test_XGBR_df = historical_full_df[historical_full_df['month_year'].isin(test_months)]\n",
    "    \n",
    "    # Selecting independent variables and the target variable for training and testing\n",
    "    X_train = train_XGBR_df[['year', 'transaction_amount', 'cumulative_mean_per_transaction_amount', 'months_without_purchase', 'order_days_lag_2', 'order_days_lag_3', 'order_days_lag_5', 'order_days_lag_6']]\n",
    "    y_train = train_XGBR_df['order_days']\n",
    "    \n",
    "    X_test = test_XGBR_df[['year', 'transaction_amount', 'cumulative_mean_per_transaction_amount', 'months_without_purchase', 'order_days_lag_2', 'order_days_lag_3', 'order_days_lag_5', 'order_days_lag_6']]\n",
    "    y_test = test_XGBR_df['order_days']\n",
    "    \n",
    "    # Training the model on the training set\n",
    "    model.fit(X_train, y_train)\n",
    "    \n",
    "    # Making predictions on the test set\n",
    "    predictions = model.predict(X_test)\n",
    "    \n",
    "    # Calculating MAE and storing the result\n",
    "    mae = mean_absolute_error(y_test, predictions)\n",
    "    mae_scores.append(mae)\n",
    "    \n",
    "    # Displaying the current split and MAE\n",
    "    print(f\"Fold {split_num + 1}:\")\n",
    "    print(\"Training Months:\", train_months_list)\n",
    "    print(\"Testing Month:\", test_months_list)\n",
    "    print(\"MAE:\", mae.round(2))\n",
    "    print()\n",
    "\n",
    "# Displaying the average MAE across folds\n",
    "average_mae = sum(mae_scores) / len(mae_scores)\n",
    "print(\"Average MAE across all folds:\", average_mae.round(2))\n"
   ]
  },
  {
   "cell_type": "markdown",
   "metadata": {},
   "source": [
    "**While predicting MARCH 2021 (2021-03), the MAE increased from 0.36 to 0.82. According to our EDA, this could be because of the quantity of new users on March, making the model not able to predict properly.**"
   ]
  },
  {
   "cell_type": "markdown",
   "metadata": {},
   "source": [
    "Now we'll try to improve our hyperparameters by using GridSearch.\n",
    "\n",
    "NOTE: the XBGRegressor paramethers were taken from: https://cloud.google.com/python/docs/reference/bigframes/latest/bigframes.ml.ensemble.XGBRegressor and https://xgboosting.com/"
   ]
  },
  {
   "cell_type": "code",
   "execution_count": 379,
   "metadata": {},
   "outputs": [
    {
     "name": "stdout",
     "output_type": "stream",
     "text": [
      "Fitting 5 folds for each of 288 candidates, totalling 1440 fits\n",
      "Best paramethers: {'colsample_bytree': 1.0, 'learning_rate': 0.1, 'max_depth': 6, 'min_child_weight': 5, 'n_estimators': 200, 'reg_alpha': 0, 'reg_lambda': 1, 'subsample': 1.0}\n",
      "Best negative MSE: -0.8158715559877219\n"
     ]
    }
   ],
   "source": [
    "# Param grid\n",
    "param_grid = {\n",
    "    'n_estimators': [200, 100],                \n",
    "    'learning_rate': [0.1, 0.3],        \n",
    "    'max_depth': [3, 4, 6],                       \n",
    "    'min_child_weight': [1, 3, 5],      \n",
    "    'subsample': [0.8, 1.0],                  \n",
    "    'colsample_bytree': [1.0, 1],           \n",
    "    'reg_alpha': [0.1, 0],                     \n",
    "    'reg_lambda': [1],                    \n",
    "}\n",
    "\n",
    "# Defining model\n",
    "model_xgb = XGBRegressor()\n",
    "\n",
    "# Grid Search\n",
    "grid_search = GridSearchCV(estimator=model_xgb, \n",
    "                           param_grid=param_grid, \n",
    "                           scoring='neg_mean_squared_error',\n",
    "                           verbose=1,\n",
    "                           n_jobs=-1)\n",
    "\n",
    "# Checking model\n",
    "grid_search.fit(X_train, y_train)\n",
    "\n",
    "# Results\n",
    "print(\"Best paramethers:\", grid_search.best_params_)\n",
    "print(\"Best negative MSE:\", grid_search.best_score_)"
   ]
  },
  {
   "cell_type": "code",
   "execution_count": 123,
   "metadata": {},
   "outputs": [
    {
     "name": "stdout",
     "output_type": "stream",
     "text": [
      "MAE: 0.56\n",
      "RMSE: 1.037663152096848\n"
     ]
    }
   ],
   "source": [
    "params = {\n",
    "    'colsample_bytree': 1.0,\n",
    "    'learning_rate': 0.1,\n",
    "    'max_depth': 6,\n",
    "    'min_child_weight': 5,\n",
    "    'n_estimators': 200,\n",
    "    'reg_alpha': 0,\n",
    "    'reg_lambda': 1,\n",
    "    'subsample': 1.0\n",
    "}\n",
    "\n",
    "# Modeling\n",
    "model_xgb = XGBRegressor().fit(X_train, y_train) \n",
    "\n",
    "# Calculating y_pred\n",
    "y_pred = model_xgb.predict(X_test).round(0)\n",
    "\n",
    "# Calculating evaluation metrics\n",
    "r2 = r2_score(y_test, y_pred)\n",
    "mae = mean_absolute_error(y_test, y_pred)\n",
    "mse = mean_squared_error(y_test, y_pred)\n",
    "\n",
    "# Calculating RMSE\n",
    "rmse = mean_squared_error(y_test, y_pred, squared=False)\n",
    "\n",
    "# Print\n",
    "print(f\"MAE: {mae.round(2)}\")\n",
    "print(f\"RMSE: {rmse}\")"
   ]
  },
  {
   "cell_type": "markdown",
   "metadata": {},
   "source": [
    "Let's run a statistical test (Wilcoxon) in order to understand the significance of the difference of our final model to the base line (mean). We'll use this test since it's a non parametric distribution and we're comparing before and after for each user (before = mean, after = model)."
   ]
  },
  {
   "cell_type": "code",
   "execution_count": 133,
   "metadata": {},
   "outputs": [
    {
     "name": "stdout",
     "output_type": "stream",
     "text": [
      "Statistics: 62095059.0, p-valor: 0.0\n"
     ]
    }
   ],
   "source": [
    "# Calculating the errors\n",
    "mean_errors = abs(test_df_final['order_days'] - test_df_final['mean_y_pred'])\n",
    "model_errors = abs(y_test - y_pred )\n",
    "\n",
    "# Wilcox\n",
    "stat, p_value = wilcoxon(model_errors, mean_errors)\n",
    "\n",
    "# Print\n",
    "print(f'Statistics: {stat}, p-valor: {p_value}')"
   ]
  },
  {
   "cell_type": "markdown",
   "metadata": {},
   "source": [
    "Since our p-value is lower than 0.05, we could inference, **with 95% of confidence**, that our errors are different between both samples. In our case, the errors of our model are lower when comparing to our baseline."
   ]
  },
  {
   "cell_type": "markdown",
   "metadata": {},
   "source": [
    "### 6. Prediction"
   ]
  },
  {
   "cell_type": "markdown",
   "metadata": {},
   "source": [
    "For the prediction, **we are going to use the august total sales as our input. But, we'll subtract the august missing orders to predict only the remainning days of August.**"
   ]
  },
  {
   "cell_type": "markdown",
   "metadata": {},
   "source": [
    "#### 6.1 Input Preparation (August Missing Orders)"
   ]
  },
  {
   "cell_type": "markdown",
   "metadata": {},
   "source": [
    "Adjusting the column type."
   ]
  },
  {
   "cell_type": "code",
   "execution_count": 393,
   "metadata": {},
   "outputs": [
    {
     "data": {
      "text/html": [
       "<div>\n",
       "<style scoped>\n",
       "    .dataframe tbody tr th:only-of-type {\n",
       "        vertical-align: middle;\n",
       "    }\n",
       "\n",
       "    .dataframe tbody tr th {\n",
       "        vertical-align: top;\n",
       "    }\n",
       "\n",
       "    .dataframe thead th {\n",
       "        text-align: right;\n",
       "    }\n",
       "</style>\n",
       "<table border=\"1\" class=\"dataframe\">\n",
       "  <thead>\n",
       "    <tr style=\"text-align: right;\">\n",
       "      <th></th>\n",
       "      <th>account_id</th>\n",
       "      <th>order_date</th>\n",
       "      <th>transaction_amount</th>\n",
       "    </tr>\n",
       "  </thead>\n",
       "  <tbody>\n",
       "    <tr>\n",
       "      <th>0</th>\n",
       "      <td>BR_09532176632</td>\n",
       "      <td>2022-08-03</td>\n",
       "      <td>11.16</td>\n",
       "    </tr>\n",
       "    <tr>\n",
       "      <th>1</th>\n",
       "      <td>BR_09532176632</td>\n",
       "      <td>2022-08-03</td>\n",
       "      <td>32.52</td>\n",
       "    </tr>\n",
       "    <tr>\n",
       "      <th>2</th>\n",
       "      <td>BR_09532176632</td>\n",
       "      <td>2022-08-03</td>\n",
       "      <td>24.90</td>\n",
       "    </tr>\n",
       "    <tr>\n",
       "      <th>3</th>\n",
       "      <td>BR_09532176632</td>\n",
       "      <td>2022-08-03</td>\n",
       "      <td>28.50</td>\n",
       "    </tr>\n",
       "    <tr>\n",
       "      <th>4</th>\n",
       "      <td>BR_09532176632</td>\n",
       "      <td>2022-08-03</td>\n",
       "      <td>11.16</td>\n",
       "    </tr>\n",
       "  </tbody>\n",
       "</table>\n",
       "</div>"
      ],
      "text/plain": [
       "       account_id order_date  transaction_amount\n",
       "0  BR_09532176632 2022-08-03               11.16\n",
       "1  BR_09532176632 2022-08-03               32.52\n",
       "2  BR_09532176632 2022-08-03               24.90\n",
       "3  BR_09532176632 2022-08-03               28.50\n",
       "4  BR_09532176632 2022-08-03               11.16"
      ]
     },
     "execution_count": 393,
     "metadata": {},
     "output_type": "execute_result"
    }
   ],
   "source": [
    "# Copy\n",
    "august_missing_order_dated_df = august_missing_order_days_df.copy()\n",
    "\n",
    "# Converting the data attributes\n",
    "august_missing_order_dated_df['order_date'] = pd.to_datetime(august_missing_order_dated_df['order_date'])\n",
    "\n",
    "# Print\n",
    "august_missing_order_dated_df.head()"
   ]
  },
  {
   "cell_type": "markdown",
   "metadata": {},
   "source": [
    "Grouping per order_days.\n",
    "\n",
    "For a businses perspective, **WE'LL CONSIDER DAYS WITH TRANSACTION = 0 AS A DAY WITH NO ORDER, SO LET'S DROP IT**.\n",
    "\n",
    "NOTE: This is only done because we don't have access to the business department, if so, we would understand what this NaN and None represents. "
   ]
  },
  {
   "cell_type": "code",
   "execution_count": 394,
   "metadata": {},
   "outputs": [
    {
     "data": {
      "text/html": [
       "<div>\n",
       "<style scoped>\n",
       "    .dataframe tbody tr th:only-of-type {\n",
       "        vertical-align: middle;\n",
       "    }\n",
       "\n",
       "    .dataframe tbody tr th {\n",
       "        vertical-align: top;\n",
       "    }\n",
       "\n",
       "    .dataframe thead th {\n",
       "        text-align: right;\n",
       "    }\n",
       "</style>\n",
       "<table border=\"1\" class=\"dataframe\">\n",
       "  <thead>\n",
       "    <tr style=\"text-align: right;\">\n",
       "      <th></th>\n",
       "      <th>account_id</th>\n",
       "      <th>month_year</th>\n",
       "      <th>transaction_amount</th>\n",
       "      <th>order_days</th>\n",
       "    </tr>\n",
       "  </thead>\n",
       "  <tbody>\n",
       "    <tr>\n",
       "      <th>0</th>\n",
       "      <td>BR_00002485176</td>\n",
       "      <td>2022-08</td>\n",
       "      <td>327.98</td>\n",
       "      <td>2</td>\n",
       "    </tr>\n",
       "    <tr>\n",
       "      <th>1</th>\n",
       "      <td>BR_00002536340</td>\n",
       "      <td>2022-08</td>\n",
       "      <td>2338.76</td>\n",
       "      <td>1</td>\n",
       "    </tr>\n",
       "    <tr>\n",
       "      <th>2</th>\n",
       "      <td>BR_00009144366</td>\n",
       "      <td>2022-08</td>\n",
       "      <td>114.90</td>\n",
       "      <td>1</td>\n",
       "    </tr>\n",
       "    <tr>\n",
       "      <th>3</th>\n",
       "      <td>BR_00014989670</td>\n",
       "      <td>2022-08</td>\n",
       "      <td>13274.25</td>\n",
       "      <td>4</td>\n",
       "    </tr>\n",
       "    <tr>\n",
       "      <th>4</th>\n",
       "      <td>BR_00015964540</td>\n",
       "      <td>2022-08</td>\n",
       "      <td>349.98</td>\n",
       "      <td>3</td>\n",
       "    </tr>\n",
       "  </tbody>\n",
       "</table>\n",
       "</div>"
      ],
      "text/plain": [
       "       account_id month_year  transaction_amount  order_days\n",
       "0  BR_00002485176    2022-08              327.98           2\n",
       "1  BR_00002536340    2022-08             2338.76           1\n",
       "2  BR_00009144366    2022-08              114.90           1\n",
       "3  BR_00014989670    2022-08            13274.25           4\n",
       "4  BR_00015964540    2022-08              349.98           3"
      ]
     },
     "execution_count": 394,
     "metadata": {},
     "output_type": "execute_result"
    }
   ],
   "source": [
    "# Copy\n",
    "august_grouped_df = august_missing_order_dated_df.copy()\n",
    "\n",
    "# Grouping by account_id and order_date\n",
    "august_grouped_df = august_grouped_df.groupby(['account_id', 'order_date']).agg(transaction_amount = ('transaction_amount', 'sum')).reset_index()\n",
    "august_grouped_df['month_year'] = august_grouped_df['order_date'].dt.to_period('M')\n",
    "august_grouped_df = august_grouped_df.groupby(['account_id', 'month_year']).agg(transaction_amount=('transaction_amount', 'sum'), order_days=('transaction_amount', 'count')).reset_index()\n",
    "\n",
    "# Dropping rows when transaction_amount is zero\n",
    "august_grouped_df = august_grouped_df[august_grouped_df['transaction_amount'] != 0]\n",
    "\n",
    "# Print\n",
    "august_grouped_df.head()"
   ]
  },
  {
   "cell_type": "markdown",
   "metadata": {},
   "source": [
    "#### 6.2 Input Preparation (August Total Sales)"
   ]
  },
  {
   "cell_type": "markdown",
   "metadata": {},
   "source": [
    "Since our august total sales will be our input data in order to predict, let's check if our august total sales has any duplicated."
   ]
  },
  {
   "cell_type": "code",
   "execution_count": 395,
   "metadata": {},
   "outputs": [
    {
     "name": "stdout",
     "output_type": "stream",
     "text": [
      "Total duplicated users: 0\n"
     ]
    }
   ],
   "source": [
    "# Count duplicated\n",
    "duplicate_count = august_total_sales_df.duplicated().sum()\n",
    "print(f\"Total duplicated users: {duplicate_count}\")\n"
   ]
  },
  {
   "cell_type": "markdown",
   "metadata": {},
   "source": [
    "Now, let's store the account_ids to add in the final predition."
   ]
  },
  {
   "cell_type": "code",
   "execution_count": 396,
   "metadata": {},
   "outputs": [],
   "source": [
    "# Creating list\n",
    "account_ids = august_total_sales_df['account_id']"
   ]
  },
  {
   "cell_type": "markdown",
   "metadata": {},
   "source": [
    "The next step it to left join all_accounts with august_total_sales_df and replacing NaNs for 0 (because if an user is not in august_total_sales, there is no order days there)"
   ]
  },
  {
   "cell_type": "markdown",
   "metadata": {},
   "source": [
    "Before continuing, let's check if there is any account_id in `total_transaction_amount_august` with 0 that has a transaction in `august_missing_order_days_df`."
   ]
  },
  {
   "cell_type": "code",
   "execution_count": 397,
   "metadata": {},
   "outputs": [
    {
     "name": "stdout",
     "output_type": "stream",
     "text": [
      "No account_id meets the specified criteria.\n"
     ]
    }
   ],
   "source": [
    "# Creating copy of input data\n",
    "input_august_sales = august_total_sales_df.copy()\n",
    "\n",
    "# Filtering account_ids in august_sales_full with total_transaction_amount_august equal to 0\n",
    "zero_transactions = input_august_sales[input_august_sales['total_transaction_amount_august'] == 0]\n",
    "\n",
    "# Collecting the corresponding account_ids\n",
    "zero_account_ids = zero_transactions['account_id'].unique()\n",
    "\n",
    "# Filtering august_missing_order_days_df to check if transaction_amount is different from 0 or NaN\n",
    "filtered_missing_orders = august_missing_order_days_df[\n",
    "    (august_missing_order_days_df['account_id'].isin(zero_account_ids)) & \n",
    "    (august_missing_order_days_df['transaction_amount'].notna()) & \n",
    "    (august_missing_order_days_df['transaction_amount'] != 0)\n",
    "]\n",
    "\n",
    "# Checking if there are any records that meet the criteria\n",
    "if not filtered_missing_orders.empty:\n",
    "    print(\"There are account_ids with total_transaction_amount_august equal to 0 and transaction_amount different from 0 or NaN:\")\n",
    "    print(filtered_missing_orders[['account_id', 'transaction_amount']])\n",
    "else:\n",
    "    print(\"No account_id meets the specified criteria.\")"
   ]
  },
  {
   "cell_type": "markdown",
   "metadata": {},
   "source": [
    "Now let's remove the value we have in august missing orders."
   ]
  },
  {
   "cell_type": "code",
   "execution_count": 398,
   "metadata": {},
   "outputs": [
    {
     "data": {
      "text/html": [
       "<div>\n",
       "<style scoped>\n",
       "    .dataframe tbody tr th:only-of-type {\n",
       "        vertical-align: middle;\n",
       "    }\n",
       "\n",
       "    .dataframe tbody tr th {\n",
       "        vertical-align: top;\n",
       "    }\n",
       "\n",
       "    .dataframe thead th {\n",
       "        text-align: right;\n",
       "    }\n",
       "</style>\n",
       "<table border=\"1\" class=\"dataframe\">\n",
       "  <thead>\n",
       "    <tr style=\"text-align: right;\">\n",
       "      <th></th>\n",
       "      <th>account_id</th>\n",
       "      <th>new_transaction_amount</th>\n",
       "    </tr>\n",
       "  </thead>\n",
       "  <tbody>\n",
       "    <tr>\n",
       "      <th>0</th>\n",
       "      <td>BR_00000343803</td>\n",
       "      <td>309.99</td>\n",
       "    </tr>\n",
       "    <tr>\n",
       "      <th>1</th>\n",
       "      <td>BR_00001415930</td>\n",
       "      <td>874.98</td>\n",
       "    </tr>\n",
       "    <tr>\n",
       "      <th>2</th>\n",
       "      <td>BR_00001760106</td>\n",
       "      <td>11976.70</td>\n",
       "    </tr>\n",
       "    <tr>\n",
       "      <th>3</th>\n",
       "      <td>BR_00002485176</td>\n",
       "      <td>183.50</td>\n",
       "    </tr>\n",
       "    <tr>\n",
       "      <th>4</th>\n",
       "      <td>BR_00002536340</td>\n",
       "      <td>4742.38</td>\n",
       "    </tr>\n",
       "  </tbody>\n",
       "</table>\n",
       "</div>"
      ],
      "text/plain": [
       "       account_id  new_transaction_amount\n",
       "0  BR_00000343803                  309.99\n",
       "1  BR_00001415930                  874.98\n",
       "2  BR_00001760106                11976.70\n",
       "3  BR_00002485176                  183.50\n",
       "4  BR_00002536340                 4742.38"
      ]
     },
     "execution_count": 398,
     "metadata": {},
     "output_type": "execute_result"
    }
   ],
   "source": [
    "# Realiza a junção com base na coluna 'account_id' usando left join\n",
    "merged_df = pd.merge(input_august_sales, august_grouped_df, on='account_id', how='left')\n",
    "\n",
    "# Filling with 0\n",
    "merged_df = merged_df.fillna(0)\n",
    "\n",
    "# Subtracting\n",
    "merged_df['new_transaction_amount'] = merged_df['total_transaction_amount_august'] - merged_df['transaction_amount']\n",
    "\n",
    "# Removing unnused columns\n",
    "merged_df = merged_df.drop(columns=['total_transaction_amount_august', 'month_year', 'transaction_amount', 'order_days'])\n",
    "\n",
    "# Copy\n",
    "input_august_sales = merged_df.copy()\n",
    "\n",
    "# Print\n",
    "input_august_sales.head()"
   ]
  },
  {
   "cell_type": "markdown",
   "metadata": {},
   "source": [
    "Adding the year and month columns."
   ]
  },
  {
   "cell_type": "code",
   "execution_count": 399,
   "metadata": {},
   "outputs": [
    {
     "data": {
      "text/html": [
       "<div>\n",
       "<style scoped>\n",
       "    .dataframe tbody tr th:only-of-type {\n",
       "        vertical-align: middle;\n",
       "    }\n",
       "\n",
       "    .dataframe tbody tr th {\n",
       "        vertical-align: top;\n",
       "    }\n",
       "\n",
       "    .dataframe thead th {\n",
       "        text-align: right;\n",
       "    }\n",
       "</style>\n",
       "<table border=\"1\" class=\"dataframe\">\n",
       "  <thead>\n",
       "    <tr style=\"text-align: right;\">\n",
       "      <th></th>\n",
       "      <th>account_id</th>\n",
       "      <th>transaction_amount</th>\n",
       "      <th>month_year</th>\n",
       "      <th>year</th>\n",
       "      <th>month</th>\n",
       "    </tr>\n",
       "  </thead>\n",
       "  <tbody>\n",
       "    <tr>\n",
       "      <th>0</th>\n",
       "      <td>BR_00000343803</td>\n",
       "      <td>309.99</td>\n",
       "      <td>2022-08</td>\n",
       "      <td>2022</td>\n",
       "      <td>8</td>\n",
       "    </tr>\n",
       "    <tr>\n",
       "      <th>1</th>\n",
       "      <td>BR_00001415930</td>\n",
       "      <td>874.98</td>\n",
       "      <td>2022-08</td>\n",
       "      <td>2022</td>\n",
       "      <td>8</td>\n",
       "    </tr>\n",
       "    <tr>\n",
       "      <th>2</th>\n",
       "      <td>BR_00001760106</td>\n",
       "      <td>11976.70</td>\n",
       "      <td>2022-08</td>\n",
       "      <td>2022</td>\n",
       "      <td>8</td>\n",
       "    </tr>\n",
       "    <tr>\n",
       "      <th>3</th>\n",
       "      <td>BR_00002485176</td>\n",
       "      <td>183.50</td>\n",
       "      <td>2022-08</td>\n",
       "      <td>2022</td>\n",
       "      <td>8</td>\n",
       "    </tr>\n",
       "    <tr>\n",
       "      <th>4</th>\n",
       "      <td>BR_00002536340</td>\n",
       "      <td>4742.38</td>\n",
       "      <td>2022-08</td>\n",
       "      <td>2022</td>\n",
       "      <td>8</td>\n",
       "    </tr>\n",
       "  </tbody>\n",
       "</table>\n",
       "</div>"
      ],
      "text/plain": [
       "       account_id  transaction_amount month_year  year  month\n",
       "0  BR_00000343803              309.99    2022-08  2022      8\n",
       "1  BR_00001415930              874.98    2022-08  2022      8\n",
       "2  BR_00001760106            11976.70    2022-08  2022      8\n",
       "3  BR_00002485176              183.50    2022-08  2022      8\n",
       "4  BR_00002536340             4742.38    2022-08  2022      8"
      ]
     },
     "execution_count": 399,
     "metadata": {},
     "output_type": "execute_result"
    }
   ],
   "source": [
    "# Adding a column with year and month\n",
    "input_august_sales['month_year'] = '2022-08'\n",
    "\n",
    "# Transforming to date\n",
    "input_august_sales['month_year'] = pd.Period('2022-08', freq='M')\n",
    "\n",
    "# Creating year and month attributes\n",
    "input_august_sales['year'] = input_august_sales['month_year'].dt.year\n",
    "input_august_sales['month'] = input_august_sales['month_year'].dt.month\n",
    "\n",
    "# Renaming transaction attribue\n",
    "input_august_sales.rename(columns={'new_transaction_amount': 'transaction_amount'}, inplace=True)\n",
    "\n",
    "# Print\n",
    "input_august_sales.head()"
   ]
  },
  {
   "cell_type": "markdown",
   "metadata": {},
   "source": [
    "Adding the cumulative average."
   ]
  },
  {
   "cell_type": "code",
   "execution_count": 405,
   "metadata": {},
   "outputs": [
    {
     "data": {
      "text/html": [
       "<div>\n",
       "<style scoped>\n",
       "    .dataframe tbody tr th:only-of-type {\n",
       "        vertical-align: middle;\n",
       "    }\n",
       "\n",
       "    .dataframe tbody tr th {\n",
       "        vertical-align: top;\n",
       "    }\n",
       "\n",
       "    .dataframe thead th {\n",
       "        text-align: right;\n",
       "    }\n",
       "</style>\n",
       "<table border=\"1\" class=\"dataframe\">\n",
       "  <thead>\n",
       "    <tr style=\"text-align: right;\">\n",
       "      <th></th>\n",
       "      <th>account_id</th>\n",
       "      <th>month</th>\n",
       "      <th>month_year</th>\n",
       "      <th>year</th>\n",
       "      <th>transaction_amount</th>\n",
       "      <th>cumulative_mean_per_transaction_amount</th>\n",
       "      <th>months_without_purchase</th>\n",
       "    </tr>\n",
       "  </thead>\n",
       "  <tbody>\n",
       "    <tr>\n",
       "      <th>0</th>\n",
       "      <td>BR_00000343803</td>\n",
       "      <td>8</td>\n",
       "      <td>2022-08</td>\n",
       "      <td>2022</td>\n",
       "      <td>309.99</td>\n",
       "      <td>1062.987143</td>\n",
       "      <td>0</td>\n",
       "    </tr>\n",
       "    <tr>\n",
       "      <th>1</th>\n",
       "      <td>BR_00001415930</td>\n",
       "      <td>8</td>\n",
       "      <td>2022-08</td>\n",
       "      <td>2022</td>\n",
       "      <td>874.98</td>\n",
       "      <td>220.921429</td>\n",
       "      <td>0</td>\n",
       "    </tr>\n",
       "    <tr>\n",
       "      <th>2</th>\n",
       "      <td>BR_00001760106</td>\n",
       "      <td>8</td>\n",
       "      <td>2022-08</td>\n",
       "      <td>2022</td>\n",
       "      <td>11976.70</td>\n",
       "      <td>3444.811429</td>\n",
       "      <td>0</td>\n",
       "    </tr>\n",
       "    <tr>\n",
       "      <th>3</th>\n",
       "      <td>BR_00002485176</td>\n",
       "      <td>8</td>\n",
       "      <td>2022-08</td>\n",
       "      <td>2022</td>\n",
       "      <td>183.50</td>\n",
       "      <td>168.721429</td>\n",
       "      <td>0</td>\n",
       "    </tr>\n",
       "    <tr>\n",
       "      <th>4</th>\n",
       "      <td>BR_00002536340</td>\n",
       "      <td>8</td>\n",
       "      <td>2022-08</td>\n",
       "      <td>2022</td>\n",
       "      <td>4742.38</td>\n",
       "      <td>3713.872857</td>\n",
       "      <td>0</td>\n",
       "    </tr>\n",
       "  </tbody>\n",
       "</table>\n",
       "</div>"
      ],
      "text/plain": [
       "       account_id  month month_year  year  transaction_amount  \\\n",
       "0  BR_00000343803      8    2022-08  2022              309.99   \n",
       "1  BR_00001415930      8    2022-08  2022              874.98   \n",
       "2  BR_00001760106      8    2022-08  2022            11976.70   \n",
       "3  BR_00002485176      8    2022-08  2022              183.50   \n",
       "4  BR_00002536340      8    2022-08  2022             4742.38   \n",
       "\n",
       "   cumulative_mean_per_transaction_amount  months_without_purchase  \n",
       "0                             1062.987143                        0  \n",
       "1                              220.921429                        0  \n",
       "2                             3444.811429                        0  \n",
       "3                              168.721429                        0  \n",
       "4                             3713.872857                        0  "
      ]
     },
     "execution_count": 405,
     "metadata": {},
     "output_type": "execute_result"
    }
   ],
   "source": [
    "# Make a copy of `historical_full_df`\n",
    "historical_full_df_updated = historical_full_df.copy()\n",
    "\n",
    "# Make a copy of `input_august_sales`\n",
    "august_cumulative_average = input_august_sales.copy()\n",
    "\n",
    "# Select only relevant columns from `historical_full_df_updated`\n",
    "historical_full_df_updated = historical_full_df_updated[['account_id', 'month', 'month_year', 'year', 'transaction_amount']]\n",
    "\n",
    "# Concatenate the `input_august_sales` data to `historical_full_df_updated`\n",
    "historical_full_df_updated = pd.concat([historical_full_df_updated, august_cumulative_average], ignore_index=True)\n",
    "\n",
    "# Sort the DataFrame by `account_id` and `month_year`, then reset the index\n",
    "historical_full_df_updated = historical_full_df_updated.sort_values(by=['account_id', 'month_year']).reset_index(drop=True)\n",
    "\n",
    "# Cumulative Average\n",
    "historical_full_df_updated['cumulative_mean_per_transaction_amount'] = (historical_full_df_updated.groupby('account_id')['transaction_amount'].transform(lambda x: x.expanding(min_periods=1).mean()))\n",
    "\n",
    "# Function for months with no purschases\n",
    "def count_months_without_purchases(transaction_amount_series):\n",
    "    count = 0\n",
    "    no_purchase_months = []\n",
    "    for transaction_amount in transaction_amount_series:\n",
    "        if transaction_amount == 0:\n",
    "            count += 1\n",
    "        else:\n",
    "            count = 0\n",
    "        no_purchase_months.append(count)\n",
    "    return no_purchase_months\n",
    "\n",
    "# Aplying for each account_id\n",
    "historical_full_df_updated['months_without_purchase'] = (historical_full_df_updated.groupby('account_id')['transaction_amount'].transform(count_months_without_purchases))\n",
    "\n",
    "# Keep only rows where `month_year` is equal to 2022-08\n",
    "historical_full_df_updated = historical_full_df_updated[historical_full_df_updated['month_year'] == '2022-08'].reset_index(drop=True)\n",
    "\n",
    "# Display the first 40 rows for verification\n",
    "historical_full_df_updated.head()"
   ]
  },
  {
   "cell_type": "markdown",
   "metadata": {},
   "source": [
    "Now we'll add LAGs."
   ]
  },
  {
   "cell_type": "code",
   "execution_count": 406,
   "metadata": {},
   "outputs": [
    {
     "data": {
      "text/html": [
       "<div>\n",
       "<style scoped>\n",
       "    .dataframe tbody tr th:only-of-type {\n",
       "        vertical-align: middle;\n",
       "    }\n",
       "\n",
       "    .dataframe tbody tr th {\n",
       "        vertical-align: top;\n",
       "    }\n",
       "\n",
       "    .dataframe thead th {\n",
       "        text-align: right;\n",
       "    }\n",
       "</style>\n",
       "<table border=\"1\" class=\"dataframe\">\n",
       "  <thead>\n",
       "    <tr style=\"text-align: right;\">\n",
       "      <th></th>\n",
       "      <th>year</th>\n",
       "      <th>transaction_amount</th>\n",
       "      <th>cumulative_mean_per_transaction_amount</th>\n",
       "      <th>months_without_purchase</th>\n",
       "      <th>order_days_lag_2</th>\n",
       "      <th>order_days_lag_3</th>\n",
       "      <th>order_days_lag_5</th>\n",
       "      <th>order_days_lag_6</th>\n",
       "    </tr>\n",
       "  </thead>\n",
       "  <tbody>\n",
       "    <tr>\n",
       "      <th>0</th>\n",
       "      <td>2022</td>\n",
       "      <td>309.99</td>\n",
       "      <td>1062.987143</td>\n",
       "      <td>0</td>\n",
       "      <td>2.0</td>\n",
       "      <td>3.0</td>\n",
       "      <td>4.0</td>\n",
       "      <td>4.0</td>\n",
       "    </tr>\n",
       "    <tr>\n",
       "      <th>1</th>\n",
       "      <td>2022</td>\n",
       "      <td>874.98</td>\n",
       "      <td>220.921429</td>\n",
       "      <td>0</td>\n",
       "      <td>1.0</td>\n",
       "      <td>2.0</td>\n",
       "      <td>0.0</td>\n",
       "      <td>0.0</td>\n",
       "    </tr>\n",
       "    <tr>\n",
       "      <th>2</th>\n",
       "      <td>2022</td>\n",
       "      <td>11976.70</td>\n",
       "      <td>3444.811429</td>\n",
       "      <td>0</td>\n",
       "      <td>5.0</td>\n",
       "      <td>5.0</td>\n",
       "      <td>5.0</td>\n",
       "      <td>0.0</td>\n",
       "    </tr>\n",
       "    <tr>\n",
       "      <th>3</th>\n",
       "      <td>2022</td>\n",
       "      <td>183.50</td>\n",
       "      <td>168.721429</td>\n",
       "      <td>0</td>\n",
       "      <td>5.0</td>\n",
       "      <td>4.0</td>\n",
       "      <td>3.0</td>\n",
       "      <td>0.0</td>\n",
       "    </tr>\n",
       "    <tr>\n",
       "      <th>4</th>\n",
       "      <td>2022</td>\n",
       "      <td>4742.38</td>\n",
       "      <td>3713.872857</td>\n",
       "      <td>0</td>\n",
       "      <td>4.0</td>\n",
       "      <td>4.0</td>\n",
       "      <td>4.0</td>\n",
       "      <td>1.0</td>\n",
       "    </tr>\n",
       "  </tbody>\n",
       "</table>\n",
       "</div>"
      ],
      "text/plain": [
       "   year  transaction_amount  cumulative_mean_per_transaction_amount  \\\n",
       "0  2022              309.99                             1062.987143   \n",
       "1  2022              874.98                              220.921429   \n",
       "2  2022            11976.70                             3444.811429   \n",
       "3  2022              183.50                              168.721429   \n",
       "4  2022             4742.38                             3713.872857   \n",
       "\n",
       "   months_without_purchase  order_days_lag_2  order_days_lag_3  \\\n",
       "0                        0               2.0               3.0   \n",
       "1                        0               1.0               2.0   \n",
       "2                        0               5.0               5.0   \n",
       "3                        0               5.0               4.0   \n",
       "4                        0               4.0               4.0   \n",
       "\n",
       "   order_days_lag_5  order_days_lag_6  \n",
       "0               4.0               4.0  \n",
       "1               0.0               0.0  \n",
       "2               5.0               0.0  \n",
       "3               3.0               0.0  \n",
       "4               4.0               1.0  "
      ]
     },
     "execution_count": 406,
     "metadata": {},
     "output_type": "execute_result"
    }
   ],
   "source": [
    "# Copy\n",
    "input_august_sales_lag = historical_full_df_updated.copy()\n",
    "\n",
    "# Adding order_days_lag_2\n",
    "historical_june = historical_full_df[historical_full_df['month_year'] == '2022-06']\n",
    "historical_june = historical_june[['account_id', 'order_days']].rename(columns={'order_days': 'order_days_lag_2'})\n",
    "input_august_sales_lag = pd.merge(input_august_sales_lag, historical_june, on='account_id', how='left')\n",
    "\n",
    "# Adding order_days_lag_3 \n",
    "historical_may = historical_full_df[historical_full_df['month_year'] == '2022-05']\n",
    "historical_may = historical_may[['account_id', 'order_days']].rename(columns={'order_days': 'order_days_lag_3'})\n",
    "input_august_sales_lag = pd.merge(input_august_sales_lag, historical_may, on='account_id', how='left')\n",
    "\n",
    "# Adding order_days_lag_5\n",
    "historical_april = historical_full_df[historical_full_df['month_year'] == '2022-03']\n",
    "historical_april = historical_april[['account_id', 'order_days']].rename(columns={'order_days': 'order_days_lag_5'})\n",
    "input_august_sales_lag = pd.merge(input_august_sales_lag, historical_april, on='account_id', how='left')\n",
    "\n",
    "# Adding order_days_lag_6\n",
    "historical_feb = historical_full_df[historical_full_df['month_year'] == '2022-02']\n",
    "historical_feb = historical_feb[['account_id', 'order_days']].rename(columns={'order_days': 'order_days_lag_6'})\n",
    "input_august_sales_lag = pd.merge(input_august_sales_lag, historical_feb, on='account_id', how='left')\n",
    "\n",
    "# Reorder columns and removing the ones that are not features\n",
    "new_order = ['year', 'transaction_amount', 'cumulative_mean_per_transaction_amount', 'months_without_purchase', 'order_days_lag_2', 'order_days_lag_3', 'order_days_lag_5', 'order_days_lag_6']\n",
    "input_august_sales_lag = input_august_sales_lag[new_order]\n",
    "\n",
    "# Replacing NaNs for Zeros for the users with no data\n",
    "input_august_sales_lag.fillna(0, inplace=True)\n",
    "\n",
    "# Display\n",
    "input_august_sales_lag.head()"
   ]
  },
  {
   "cell_type": "code",
   "execution_count": 407,
   "metadata": {},
   "outputs": [],
   "source": [
    "# Renaming the dataset\n",
    "input_august_data = input_august_sales_lag.copy()"
   ]
  },
  {
   "cell_type": "markdown",
   "metadata": {},
   "source": [
    "#### 6.3 Train All Dataset"
   ]
  },
  {
   "cell_type": "code",
   "execution_count": 409,
   "metadata": {},
   "outputs": [
    {
     "data": {
      "text/html": [
       "<style>#sk-container-id-4 {\n",
       "  /* Definition of color scheme common for light and dark mode */\n",
       "  --sklearn-color-text: black;\n",
       "  --sklearn-color-line: gray;\n",
       "  /* Definition of color scheme for unfitted estimators */\n",
       "  --sklearn-color-unfitted-level-0: #fff5e6;\n",
       "  --sklearn-color-unfitted-level-1: #f6e4d2;\n",
       "  --sklearn-color-unfitted-level-2: #ffe0b3;\n",
       "  --sklearn-color-unfitted-level-3: chocolate;\n",
       "  /* Definition of color scheme for fitted estimators */\n",
       "  --sklearn-color-fitted-level-0: #f0f8ff;\n",
       "  --sklearn-color-fitted-level-1: #d4ebff;\n",
       "  --sklearn-color-fitted-level-2: #b3dbfd;\n",
       "  --sklearn-color-fitted-level-3: cornflowerblue;\n",
       "\n",
       "  /* Specific color for light theme */\n",
       "  --sklearn-color-text-on-default-background: var(--sg-text-color, var(--theme-code-foreground, var(--jp-content-font-color1, black)));\n",
       "  --sklearn-color-background: var(--sg-background-color, var(--theme-background, var(--jp-layout-color0, white)));\n",
       "  --sklearn-color-border-box: var(--sg-text-color, var(--theme-code-foreground, var(--jp-content-font-color1, black)));\n",
       "  --sklearn-color-icon: #696969;\n",
       "\n",
       "  @media (prefers-color-scheme: dark) {\n",
       "    /* Redefinition of color scheme for dark theme */\n",
       "    --sklearn-color-text-on-default-background: var(--sg-text-color, var(--theme-code-foreground, var(--jp-content-font-color1, white)));\n",
       "    --sklearn-color-background: var(--sg-background-color, var(--theme-background, var(--jp-layout-color0, #111)));\n",
       "    --sklearn-color-border-box: var(--sg-text-color, var(--theme-code-foreground, var(--jp-content-font-color1, white)));\n",
       "    --sklearn-color-icon: #878787;\n",
       "  }\n",
       "}\n",
       "\n",
       "#sk-container-id-4 {\n",
       "  color: var(--sklearn-color-text);\n",
       "}\n",
       "\n",
       "#sk-container-id-4 pre {\n",
       "  padding: 0;\n",
       "}\n",
       "\n",
       "#sk-container-id-4 input.sk-hidden--visually {\n",
       "  border: 0;\n",
       "  clip: rect(1px 1px 1px 1px);\n",
       "  clip: rect(1px, 1px, 1px, 1px);\n",
       "  height: 1px;\n",
       "  margin: -1px;\n",
       "  overflow: hidden;\n",
       "  padding: 0;\n",
       "  position: absolute;\n",
       "  width: 1px;\n",
       "}\n",
       "\n",
       "#sk-container-id-4 div.sk-dashed-wrapped {\n",
       "  border: 1px dashed var(--sklearn-color-line);\n",
       "  margin: 0 0.4em 0.5em 0.4em;\n",
       "  box-sizing: border-box;\n",
       "  padding-bottom: 0.4em;\n",
       "  background-color: var(--sklearn-color-background);\n",
       "}\n",
       "\n",
       "#sk-container-id-4 div.sk-container {\n",
       "  /* jupyter's `normalize.less` sets `[hidden] { display: none; }`\n",
       "     but bootstrap.min.css set `[hidden] { display: none !important; }`\n",
       "     so we also need the `!important` here to be able to override the\n",
       "     default hidden behavior on the sphinx rendered scikit-learn.org.\n",
       "     See: https://github.com/scikit-learn/scikit-learn/issues/21755 */\n",
       "  display: inline-block !important;\n",
       "  position: relative;\n",
       "}\n",
       "\n",
       "#sk-container-id-4 div.sk-text-repr-fallback {\n",
       "  display: none;\n",
       "}\n",
       "\n",
       "div.sk-parallel-item,\n",
       "div.sk-serial,\n",
       "div.sk-item {\n",
       "  /* draw centered vertical line to link estimators */\n",
       "  background-image: linear-gradient(var(--sklearn-color-text-on-default-background), var(--sklearn-color-text-on-default-background));\n",
       "  background-size: 2px 100%;\n",
       "  background-repeat: no-repeat;\n",
       "  background-position: center center;\n",
       "}\n",
       "\n",
       "/* Parallel-specific style estimator block */\n",
       "\n",
       "#sk-container-id-4 div.sk-parallel-item::after {\n",
       "  content: \"\";\n",
       "  width: 100%;\n",
       "  border-bottom: 2px solid var(--sklearn-color-text-on-default-background);\n",
       "  flex-grow: 1;\n",
       "}\n",
       "\n",
       "#sk-container-id-4 div.sk-parallel {\n",
       "  display: flex;\n",
       "  align-items: stretch;\n",
       "  justify-content: center;\n",
       "  background-color: var(--sklearn-color-background);\n",
       "  position: relative;\n",
       "}\n",
       "\n",
       "#sk-container-id-4 div.sk-parallel-item {\n",
       "  display: flex;\n",
       "  flex-direction: column;\n",
       "}\n",
       "\n",
       "#sk-container-id-4 div.sk-parallel-item:first-child::after {\n",
       "  align-self: flex-end;\n",
       "  width: 50%;\n",
       "}\n",
       "\n",
       "#sk-container-id-4 div.sk-parallel-item:last-child::after {\n",
       "  align-self: flex-start;\n",
       "  width: 50%;\n",
       "}\n",
       "\n",
       "#sk-container-id-4 div.sk-parallel-item:only-child::after {\n",
       "  width: 0;\n",
       "}\n",
       "\n",
       "/* Serial-specific style estimator block */\n",
       "\n",
       "#sk-container-id-4 div.sk-serial {\n",
       "  display: flex;\n",
       "  flex-direction: column;\n",
       "  align-items: center;\n",
       "  background-color: var(--sklearn-color-background);\n",
       "  padding-right: 1em;\n",
       "  padding-left: 1em;\n",
       "}\n",
       "\n",
       "\n",
       "/* Toggleable style: style used for estimator/Pipeline/ColumnTransformer box that is\n",
       "clickable and can be expanded/collapsed.\n",
       "- Pipeline and ColumnTransformer use this feature and define the default style\n",
       "- Estimators will overwrite some part of the style using the `sk-estimator` class\n",
       "*/\n",
       "\n",
       "/* Pipeline and ColumnTransformer style (default) */\n",
       "\n",
       "#sk-container-id-4 div.sk-toggleable {\n",
       "  /* Default theme specific background. It is overwritten whether we have a\n",
       "  specific estimator or a Pipeline/ColumnTransformer */\n",
       "  background-color: var(--sklearn-color-background);\n",
       "}\n",
       "\n",
       "/* Toggleable label */\n",
       "#sk-container-id-4 label.sk-toggleable__label {\n",
       "  cursor: pointer;\n",
       "  display: block;\n",
       "  width: 100%;\n",
       "  margin-bottom: 0;\n",
       "  padding: 0.5em;\n",
       "  box-sizing: border-box;\n",
       "  text-align: center;\n",
       "}\n",
       "\n",
       "#sk-container-id-4 label.sk-toggleable__label-arrow:before {\n",
       "  /* Arrow on the left of the label */\n",
       "  content: \"▸\";\n",
       "  float: left;\n",
       "  margin-right: 0.25em;\n",
       "  color: var(--sklearn-color-icon);\n",
       "}\n",
       "\n",
       "#sk-container-id-4 label.sk-toggleable__label-arrow:hover:before {\n",
       "  color: var(--sklearn-color-text);\n",
       "}\n",
       "\n",
       "/* Toggleable content - dropdown */\n",
       "\n",
       "#sk-container-id-4 div.sk-toggleable__content {\n",
       "  max-height: 0;\n",
       "  max-width: 0;\n",
       "  overflow: hidden;\n",
       "  text-align: left;\n",
       "  /* unfitted */\n",
       "  background-color: var(--sklearn-color-unfitted-level-0);\n",
       "}\n",
       "\n",
       "#sk-container-id-4 div.sk-toggleable__content.fitted {\n",
       "  /* fitted */\n",
       "  background-color: var(--sklearn-color-fitted-level-0);\n",
       "}\n",
       "\n",
       "#sk-container-id-4 div.sk-toggleable__content pre {\n",
       "  margin: 0.2em;\n",
       "  border-radius: 0.25em;\n",
       "  color: var(--sklearn-color-text);\n",
       "  /* unfitted */\n",
       "  background-color: var(--sklearn-color-unfitted-level-0);\n",
       "}\n",
       "\n",
       "#sk-container-id-4 div.sk-toggleable__content.fitted pre {\n",
       "  /* unfitted */\n",
       "  background-color: var(--sklearn-color-fitted-level-0);\n",
       "}\n",
       "\n",
       "#sk-container-id-4 input.sk-toggleable__control:checked~div.sk-toggleable__content {\n",
       "  /* Expand drop-down */\n",
       "  max-height: 200px;\n",
       "  max-width: 100%;\n",
       "  overflow: auto;\n",
       "}\n",
       "\n",
       "#sk-container-id-4 input.sk-toggleable__control:checked~label.sk-toggleable__label-arrow:before {\n",
       "  content: \"▾\";\n",
       "}\n",
       "\n",
       "/* Pipeline/ColumnTransformer-specific style */\n",
       "\n",
       "#sk-container-id-4 div.sk-label input.sk-toggleable__control:checked~label.sk-toggleable__label {\n",
       "  color: var(--sklearn-color-text);\n",
       "  background-color: var(--sklearn-color-unfitted-level-2);\n",
       "}\n",
       "\n",
       "#sk-container-id-4 div.sk-label.fitted input.sk-toggleable__control:checked~label.sk-toggleable__label {\n",
       "  background-color: var(--sklearn-color-fitted-level-2);\n",
       "}\n",
       "\n",
       "/* Estimator-specific style */\n",
       "\n",
       "/* Colorize estimator box */\n",
       "#sk-container-id-4 div.sk-estimator input.sk-toggleable__control:checked~label.sk-toggleable__label {\n",
       "  /* unfitted */\n",
       "  background-color: var(--sklearn-color-unfitted-level-2);\n",
       "}\n",
       "\n",
       "#sk-container-id-4 div.sk-estimator.fitted input.sk-toggleable__control:checked~label.sk-toggleable__label {\n",
       "  /* fitted */\n",
       "  background-color: var(--sklearn-color-fitted-level-2);\n",
       "}\n",
       "\n",
       "#sk-container-id-4 div.sk-label label.sk-toggleable__label,\n",
       "#sk-container-id-4 div.sk-label label {\n",
       "  /* The background is the default theme color */\n",
       "  color: var(--sklearn-color-text-on-default-background);\n",
       "}\n",
       "\n",
       "/* On hover, darken the color of the background */\n",
       "#sk-container-id-4 div.sk-label:hover label.sk-toggleable__label {\n",
       "  color: var(--sklearn-color-text);\n",
       "  background-color: var(--sklearn-color-unfitted-level-2);\n",
       "}\n",
       "\n",
       "/* Label box, darken color on hover, fitted */\n",
       "#sk-container-id-4 div.sk-label.fitted:hover label.sk-toggleable__label.fitted {\n",
       "  color: var(--sklearn-color-text);\n",
       "  background-color: var(--sklearn-color-fitted-level-2);\n",
       "}\n",
       "\n",
       "/* Estimator label */\n",
       "\n",
       "#sk-container-id-4 div.sk-label label {\n",
       "  font-family: monospace;\n",
       "  font-weight: bold;\n",
       "  display: inline-block;\n",
       "  line-height: 1.2em;\n",
       "}\n",
       "\n",
       "#sk-container-id-4 div.sk-label-container {\n",
       "  text-align: center;\n",
       "}\n",
       "\n",
       "/* Estimator-specific */\n",
       "#sk-container-id-4 div.sk-estimator {\n",
       "  font-family: monospace;\n",
       "  border: 1px dotted var(--sklearn-color-border-box);\n",
       "  border-radius: 0.25em;\n",
       "  box-sizing: border-box;\n",
       "  margin-bottom: 0.5em;\n",
       "  /* unfitted */\n",
       "  background-color: var(--sklearn-color-unfitted-level-0);\n",
       "}\n",
       "\n",
       "#sk-container-id-4 div.sk-estimator.fitted {\n",
       "  /* fitted */\n",
       "  background-color: var(--sklearn-color-fitted-level-0);\n",
       "}\n",
       "\n",
       "/* on hover */\n",
       "#sk-container-id-4 div.sk-estimator:hover {\n",
       "  /* unfitted */\n",
       "  background-color: var(--sklearn-color-unfitted-level-2);\n",
       "}\n",
       "\n",
       "#sk-container-id-4 div.sk-estimator.fitted:hover {\n",
       "  /* fitted */\n",
       "  background-color: var(--sklearn-color-fitted-level-2);\n",
       "}\n",
       "\n",
       "/* Specification for estimator info (e.g. \"i\" and \"?\") */\n",
       "\n",
       "/* Common style for \"i\" and \"?\" */\n",
       "\n",
       ".sk-estimator-doc-link,\n",
       "a:link.sk-estimator-doc-link,\n",
       "a:visited.sk-estimator-doc-link {\n",
       "  float: right;\n",
       "  font-size: smaller;\n",
       "  line-height: 1em;\n",
       "  font-family: monospace;\n",
       "  background-color: var(--sklearn-color-background);\n",
       "  border-radius: 1em;\n",
       "  height: 1em;\n",
       "  width: 1em;\n",
       "  text-decoration: none !important;\n",
       "  margin-left: 1ex;\n",
       "  /* unfitted */\n",
       "  border: var(--sklearn-color-unfitted-level-1) 1pt solid;\n",
       "  color: var(--sklearn-color-unfitted-level-1);\n",
       "}\n",
       "\n",
       ".sk-estimator-doc-link.fitted,\n",
       "a:link.sk-estimator-doc-link.fitted,\n",
       "a:visited.sk-estimator-doc-link.fitted {\n",
       "  /* fitted */\n",
       "  border: var(--sklearn-color-fitted-level-1) 1pt solid;\n",
       "  color: var(--sklearn-color-fitted-level-1);\n",
       "}\n",
       "\n",
       "/* On hover */\n",
       "div.sk-estimator:hover .sk-estimator-doc-link:hover,\n",
       ".sk-estimator-doc-link:hover,\n",
       "div.sk-label-container:hover .sk-estimator-doc-link:hover,\n",
       ".sk-estimator-doc-link:hover {\n",
       "  /* unfitted */\n",
       "  background-color: var(--sklearn-color-unfitted-level-3);\n",
       "  color: var(--sklearn-color-background);\n",
       "  text-decoration: none;\n",
       "}\n",
       "\n",
       "div.sk-estimator.fitted:hover .sk-estimator-doc-link.fitted:hover,\n",
       ".sk-estimator-doc-link.fitted:hover,\n",
       "div.sk-label-container:hover .sk-estimator-doc-link.fitted:hover,\n",
       ".sk-estimator-doc-link.fitted:hover {\n",
       "  /* fitted */\n",
       "  background-color: var(--sklearn-color-fitted-level-3);\n",
       "  color: var(--sklearn-color-background);\n",
       "  text-decoration: none;\n",
       "}\n",
       "\n",
       "/* Span, style for the box shown on hovering the info icon */\n",
       ".sk-estimator-doc-link span {\n",
       "  display: none;\n",
       "  z-index: 9999;\n",
       "  position: relative;\n",
       "  font-weight: normal;\n",
       "  right: .2ex;\n",
       "  padding: .5ex;\n",
       "  margin: .5ex;\n",
       "  width: min-content;\n",
       "  min-width: 20ex;\n",
       "  max-width: 50ex;\n",
       "  color: var(--sklearn-color-text);\n",
       "  box-shadow: 2pt 2pt 4pt #999;\n",
       "  /* unfitted */\n",
       "  background: var(--sklearn-color-unfitted-level-0);\n",
       "  border: .5pt solid var(--sklearn-color-unfitted-level-3);\n",
       "}\n",
       "\n",
       ".sk-estimator-doc-link.fitted span {\n",
       "  /* fitted */\n",
       "  background: var(--sklearn-color-fitted-level-0);\n",
       "  border: var(--sklearn-color-fitted-level-3);\n",
       "}\n",
       "\n",
       ".sk-estimator-doc-link:hover span {\n",
       "  display: block;\n",
       "}\n",
       "\n",
       "/* \"?\"-specific style due to the `<a>` HTML tag */\n",
       "\n",
       "#sk-container-id-4 a.estimator_doc_link {\n",
       "  float: right;\n",
       "  font-size: 1rem;\n",
       "  line-height: 1em;\n",
       "  font-family: monospace;\n",
       "  background-color: var(--sklearn-color-background);\n",
       "  border-radius: 1rem;\n",
       "  height: 1rem;\n",
       "  width: 1rem;\n",
       "  text-decoration: none;\n",
       "  /* unfitted */\n",
       "  color: var(--sklearn-color-unfitted-level-1);\n",
       "  border: var(--sklearn-color-unfitted-level-1) 1pt solid;\n",
       "}\n",
       "\n",
       "#sk-container-id-4 a.estimator_doc_link.fitted {\n",
       "  /* fitted */\n",
       "  border: var(--sklearn-color-fitted-level-1) 1pt solid;\n",
       "  color: var(--sklearn-color-fitted-level-1);\n",
       "}\n",
       "\n",
       "/* On hover */\n",
       "#sk-container-id-4 a.estimator_doc_link:hover {\n",
       "  /* unfitted */\n",
       "  background-color: var(--sklearn-color-unfitted-level-3);\n",
       "  color: var(--sklearn-color-background);\n",
       "  text-decoration: none;\n",
       "}\n",
       "\n",
       "#sk-container-id-4 a.estimator_doc_link.fitted:hover {\n",
       "  /* fitted */\n",
       "  background-color: var(--sklearn-color-fitted-level-3);\n",
       "}\n",
       "</style><div id=\"sk-container-id-4\" class=\"sk-top-container\"><div class=\"sk-text-repr-fallback\"><pre>XGBRegressor(base_score=None, booster=None, callbacks=None,\n",
       "             colsample_bylevel=None, colsample_bynode=None,\n",
       "             colsample_bytree=1.0, device=None, early_stopping_rounds=None,\n",
       "             enable_categorical=False, eval_metric=None, feature_types=None,\n",
       "             gamma=None, grow_policy=None, importance_type=None,\n",
       "             interaction_constraints=None, learning_rate=0.1, max_bin=None,\n",
       "             max_cat_threshold=None, max_cat_to_onehot=None,\n",
       "             max_delta_step=None, max_depth=6, max_leaves=None,\n",
       "             min_child_weight=5, missing=nan, monotone_constraints=None,\n",
       "             multi_strategy=None, n_estimators=200, n_jobs=None,\n",
       "             num_parallel_tree=None, random_state=None, ...)</pre><b>In a Jupyter environment, please rerun this cell to show the HTML representation or trust the notebook. <br />On GitHub, the HTML representation is unable to render, please try loading this page with nbviewer.org.</b></div><div class=\"sk-container\" hidden><div class=\"sk-item\"><div class=\"sk-estimator fitted sk-toggleable\"><input class=\"sk-toggleable__control sk-hidden--visually\" id=\"sk-estimator-id-4\" type=\"checkbox\" checked><label for=\"sk-estimator-id-4\" class=\"sk-toggleable__label fitted sk-toggleable__label-arrow fitted\">&nbsp;XGBRegressor<span class=\"sk-estimator-doc-link fitted\">i<span>Fitted</span></span></label><div class=\"sk-toggleable__content fitted\"><pre>XGBRegressor(base_score=None, booster=None, callbacks=None,\n",
       "             colsample_bylevel=None, colsample_bynode=None,\n",
       "             colsample_bytree=1.0, device=None, early_stopping_rounds=None,\n",
       "             enable_categorical=False, eval_metric=None, feature_types=None,\n",
       "             gamma=None, grow_policy=None, importance_type=None,\n",
       "             interaction_constraints=None, learning_rate=0.1, max_bin=None,\n",
       "             max_cat_threshold=None, max_cat_to_onehot=None,\n",
       "             max_delta_step=None, max_depth=6, max_leaves=None,\n",
       "             min_child_weight=5, missing=nan, monotone_constraints=None,\n",
       "             multi_strategy=None, n_estimators=200, n_jobs=None,\n",
       "             num_parallel_tree=None, random_state=None, ...)</pre></div> </div></div></div></div>"
      ],
      "text/plain": [
       "XGBRegressor(base_score=None, booster=None, callbacks=None,\n",
       "             colsample_bylevel=None, colsample_bynode=None,\n",
       "             colsample_bytree=1.0, device=None, early_stopping_rounds=None,\n",
       "             enable_categorical=False, eval_metric=None, feature_types=None,\n",
       "             gamma=None, grow_policy=None, importance_type=None,\n",
       "             interaction_constraints=None, learning_rate=0.1, max_bin=None,\n",
       "             max_cat_threshold=None, max_cat_to_onehot=None,\n",
       "             max_delta_step=None, max_depth=6, max_leaves=None,\n",
       "             min_child_weight=5, missing=nan, monotone_constraints=None,\n",
       "             multi_strategy=None, n_estimators=200, n_jobs=None,\n",
       "             num_parallel_tree=None, random_state=None, ...)"
      ]
     },
     "execution_count": 409,
     "metadata": {},
     "output_type": "execute_result"
    }
   ],
   "source": [
    "# Defining features and target\n",
    "X = historical_full_df[['year', 'transaction_amount', 'cumulative_mean_per_transaction_amount', 'months_without_purchase', 'order_days_lag_2', 'order_days_lag_3', 'order_days_lag_5', 'order_days_lag_6']]\n",
    "y = historical_full_df['order_days']\n",
    "\n",
    "# Trainning model with all our historical data\n",
    "final_model = XGBRegressor(\n",
    "    colsample_bytree=1.0,\n",
    "    learning_rate=0.1,\n",
    "    max_depth=6,\n",
    "    min_child_weight=5,\n",
    "    n_estimators=200,\n",
    "    reg_alpha=0,\n",
    "    reg_lambda=1,\n",
    "    subsample=1.0\n",
    ")\n",
    "\n",
    "# Fit\n",
    "final_model.fit(X, y)"
   ]
  },
  {
   "cell_type": "code",
   "execution_count": 410,
   "metadata": {},
   "outputs": [],
   "source": [
    "# Predictions\n",
    "y_pred = final_model.predict(input_august_data)\n",
    "\n",
    "# Rounding\n",
    "y_pred = abs(y_pred.round(0))"
   ]
  },
  {
   "cell_type": "code",
   "execution_count": 411,
   "metadata": {},
   "outputs": [
    {
     "data": {
      "text/html": [
       "<div>\n",
       "<style scoped>\n",
       "    .dataframe tbody tr th:only-of-type {\n",
       "        vertical-align: middle;\n",
       "    }\n",
       "\n",
       "    .dataframe tbody tr th {\n",
       "        vertical-align: top;\n",
       "    }\n",
       "\n",
       "    .dataframe thead th {\n",
       "        text-align: right;\n",
       "    }\n",
       "</style>\n",
       "<table border=\"1\" class=\"dataframe\">\n",
       "  <thead>\n",
       "    <tr style=\"text-align: right;\">\n",
       "      <th></th>\n",
       "      <th>account_id</th>\n",
       "      <th>prediction</th>\n",
       "    </tr>\n",
       "  </thead>\n",
       "  <tbody>\n",
       "    <tr>\n",
       "      <th>0</th>\n",
       "      <td>BR_00000343803</td>\n",
       "      <td>2</td>\n",
       "    </tr>\n",
       "    <tr>\n",
       "      <th>1</th>\n",
       "      <td>BR_00001415930</td>\n",
       "      <td>2</td>\n",
       "    </tr>\n",
       "    <tr>\n",
       "      <th>2</th>\n",
       "      <td>BR_00001760106</td>\n",
       "      <td>5</td>\n",
       "    </tr>\n",
       "    <tr>\n",
       "      <th>3</th>\n",
       "      <td>BR_00002485176</td>\n",
       "      <td>2</td>\n",
       "    </tr>\n",
       "    <tr>\n",
       "      <th>4</th>\n",
       "      <td>BR_00002536340</td>\n",
       "      <td>4</td>\n",
       "    </tr>\n",
       "  </tbody>\n",
       "</table>\n",
       "</div>"
      ],
      "text/plain": [
       "       account_id  prediction\n",
       "0  BR_00000343803           2\n",
       "1  BR_00001415930           2\n",
       "2  BR_00001760106           5\n",
       "3  BR_00002485176           2\n",
       "4  BR_00002536340           4"
      ]
     },
     "execution_count": 411,
     "metadata": {},
     "output_type": "execute_result"
    }
   ],
   "source": [
    "# Creating new dataframe\n",
    "predicted_order_days = pd.DataFrame({'prediction': y_pred})\n",
    "\n",
    "# Adding account_ids\n",
    "predicted_order_days['account_id'] = account_ids\n",
    "\n",
    "# Reorder\n",
    "predicted_order_days = predicted_order_days[['account_id', 'prediction']]\n",
    "\n",
    "# To integer\n",
    "predicted_order_days['prediction'] = predicted_order_days['prediction'].astype(int)\n",
    "\n",
    "# Display\n",
    "predicted_order_days.head()"
   ]
  },
  {
   "cell_type": "markdown",
   "metadata": {},
   "source": [
    "Checking shape to match the criteria of the exercise (it must be 32944 x 2)"
   ]
  },
  {
   "cell_type": "code",
   "execution_count": 419,
   "metadata": {},
   "outputs": [
    {
     "name": "stdout",
     "output_type": "stream",
     "text": [
      "The archieve shape is corret.\n"
     ]
    }
   ],
   "source": [
    "if predicted_order_days.shape == (32944, 2):\n",
    "    print(f\"The archieve shape is corret.\")\n",
    "else:\n",
    "    print(f\"The archieve shape is incorret.\")"
   ]
  },
  {
   "cell_type": "markdown",
   "metadata": {},
   "source": [
    "Now let's save as CSV."
   ]
  },
  {
   "cell_type": "code",
   "execution_count": 415,
   "metadata": {},
   "outputs": [],
   "source": [
    "# Path\n",
    "path = r\"D:\\Bruno Serra PC\\Documents\\Bruno\\Visual Studio\\AB Inbev - Data Test\\order_days_prediction.csv\"\n",
    "\n",
    "# Saving\n",
    "predicted_order_days.to_csv(path, index=False)"
   ]
  },
  {
   "cell_type": "markdown",
   "metadata": {},
   "source": [
    "## STATISTICS"
   ]
  },
  {
   "cell_type": "markdown",
   "metadata": {},
   "source": [
    "### 2a. Describe the Distribution"
   ]
  },
  {
   "cell_type": "markdown",
   "metadata": {},
   "source": [
    "**Describe the distribution of the number of order days for a user (or group of users) using a known probability distribution? Propose a formula or density function and provide an explanation for your solution.**\n",
    "\n",
    "The distribution of the order days from a user or group of users is a POISSON DISTRIBUTION, which is a discrete distribution, since this distribution models the probability of a given number of independent events occur within a fixed time (or space) that has the same variance and mean. In our case, it's the probability of a user buy *X* days in each month.  The PMF (probability mass function) is given by:\n",
    "\n",
    "$P(X = k) = \\frac{\\lambda^k e^{-\\lambda}}{k!}$\n",
    "\n",
    "Where: \n",
    "\n",
    "    * k is the number of occurences (in our case, the number of orders)\n",
    "    * Lambda is the mean number of events in a fixed interval\n",
    "    * e is the Euler's number (fixed / constant)\n",
    "\n",
    "Below we can check the distribution of a user considered as active, which means that he / she bought all months in the past 6 months of our dataset (from 2022-02 until 2022-07)."
   ]
  },
  {
   "cell_type": "code",
   "execution_count": null,
   "metadata": {},
   "outputs": [],
   "source": [
    "# Setting user\n",
    "user = 'BR_07901723807'"
   ]
  },
  {
   "cell_type": "code",
   "execution_count": null,
   "metadata": {},
   "outputs": [
    {
     "name": "stdout",
     "output_type": "stream",
     "text": [
      "The mean of this user is: 4.0\n",
      "The variance of this user is: 4.0\n"
     ]
    },
    {
     "data": {
      "image/png": "[encoded data removed]",
      "text/plain": [
       "<Figure size 640x480 with 1 Axes>"
      ]
     },
     "metadata": {},
     "output_type": "display_data"
    }
   ],
   "source": [
    "# Creating a series\n",
    "order_days = historical_full_df[(historical_full_df['account_id'] == user) & (historical_full_df['month_year'] >= '2022-02') & (historical_full_df['month_year'] <= '2022-07')]['order_days']\n",
    "\n",
    "# Calculating the mean and variance\n",
    "mean = np.mean(order_days)\n",
    "variance = np.var(order_days, ddof=1) #ddof for sample!!!!!\n",
    "\n",
    "# Plot\n",
    "print(f\"The mean of this user is: {mean}\")\n",
    "print(f\"The variance of this user is: {variance}\")\n",
    "plt.hist(order_days, bins = 3, density = True, color = 'orange')\n",
    "plt.xlabel('Units Sold')\n",
    "plt.ylabel('Probability')\n",
    "plt.title('Probability Density')\n",
    "plt.show()"
   ]
  },
  {
   "cell_type": "markdown",
   "metadata": {},
   "source": [
    "### 2b. Paramethers Estimation\n"
   ]
  },
  {
   "cell_type": "markdown",
   "metadata": {},
   "source": [
    "**Estimation of the parameter/s of this function**\n",
    "\n",
    "In order to estimate the parameters of this function (the **lambda**), and, since there is only on calculable paramether for this function, we could calculate the mean of order_days in a fixed period of time (e.g. past 6 months).\n",
    "\n",
    "Let's calculate the lambda using Python."
   ]
  },
  {
   "cell_type": "code",
   "execution_count": null,
   "metadata": {},
   "outputs": [
    {
     "name": "stdout",
     "output_type": "stream",
     "text": [
      " The lambda for the user BR_07901723807 is 3.85.\n"
     ]
    }
   ],
   "source": [
    "# Selecting the group of active users\n",
    "active_users_df = historical_full_df[historical_full_df['account_id'] == user]\n",
    "\n",
    "# Summing and grouping per month\n",
    "active_monthly_order_days = active_users_df.groupby('month_year')['order_days'].sum()\n",
    "\n",
    "# Lambda \n",
    "value_lambda = active_monthly_order_days.mean()\n",
    "\n",
    "# Print\n",
    "print(f\" The lambda for the user {user} is {value_lambda.round(2)}.\")"
   ]
  },
  {
   "cell_type": "markdown",
   "metadata": {},
   "source": [
    "The final equation would be:\n",
    "\n",
    "$P(X = k) = \\frac{3.85^k e^{-3.85}}{k!}$"
   ]
  },
  {
   "cell_type": "markdown",
   "metadata": {},
   "source": [
    "### 2c. Probability Calculation of 4 Days of Order\n",
    "\n"
   ]
  },
  {
   "cell_type": "markdown",
   "metadata": {},
   "source": [
    "The formula/density function, propose a simple way to calculate the probability of having more than 4 days of orders.\n",
    "\n",
    "To calculate the probability of having more than 4 days of order, we need to use P(X > 4) (cumulative), so, we need to perform the summation of 0, 1, 2, 3 and 4 in order to find the probability NOT having orders we want. So, the remainning probability is what we want. In other words, we could:\n",
    "\n",
    "$P(X > 4) = 1 - \\sum_{k=0}^{4} \\frac{\\lambda^k e^{-\\lambda}}{k!}$\n",
    "\n",
    "NOTE: We need to subtract from 1 in order to find the rest of the probability. We're going to calculate the cumulative probability of having X from 0 to 4 and then subtract from 1 to find the result.\n",
    "\n",
    "Let's check it in Python:"
   ]
  },
  {
   "cell_type": "code",
   "execution_count": null,
   "metadata": {},
   "outputs": [
    {
     "name": "stdout",
     "output_type": "stream",
     "text": [
      "The probability of having more than 4 order days in a month is 0.3411, or 34.11% for the user BR_07901723807.\n"
     ]
    }
   ],
   "source": [
    "# Lists\n",
    "poisson_values = np.arange(0, 5)\n",
    "results = []\n",
    "\n",
    "# Loop\n",
    "for k in poisson_values:\n",
    "    pmf_value = (value_lambda ** k * np.exp(-value_lambda)) / math.factorial(k)\n",
    "    results.append(pmf_value)\n",
    "\n",
    "# Calculating the final probability\n",
    "final_pmf = 1 - np.sum(results)\n",
    "\n",
    "# Print\n",
    "print(f\"The probability of having more than 4 order days in a month is {final_pmf.round(4)}, or {final_pmf.round(4)*100}% for the user {user}.\")"
   ]
  },
  {
   "cell_type": "markdown",
   "metadata": {},
   "source": [
    "We could also do it directly using the statsmodels library."
   ]
  },
  {
   "cell_type": "code",
   "execution_count": 426,
   "metadata": {},
   "outputs": [
    {
     "name": "stdout",
     "output_type": "stream",
     "text": [
      "The probability of having more than 4 order days in a month is 0.3411, or 34.11% for the user BR_07901723807.\n"
     ]
    }
   ],
   "source": [
    "# List\n",
    "poisson_values = np.arange(0, 5)\n",
    "\n",
    "# PMF\n",
    "pmf_values = poisson.pmf(poisson_values, value_lambda)\n",
    "\n",
    "# Final\n",
    "final_pmf = 1 - np.sum(pmf_values)\n",
    "\n",
    "# Print\n",
    "print(f\"The probability of having more than 4 order days in a month is {final_pmf.round(4)}, or {final_pmf.round(4)*100}% for the user {user}.\")"
   ]
  },
  {
   "cell_type": "markdown",
   "metadata": {},
   "source": [
    "### Time Between Days of Orders"
   ]
  },
  {
   "cell_type": "markdown",
   "metadata": {},
   "source": [
    "**Estimation the time between days of orders by using formula that can estimate this time.**\n",
    "\n",
    "In order to estimate the time between orders, we should use the exponential distribution that, for Poisson, is given by:\n",
    "\n",
    "$\\frac{1}{\\lambda}$\n",
    "\n",
    "Let's do it in Python:"
   ]
  },
  {
   "cell_type": "code",
   "execution_count": null,
   "metadata": {},
   "outputs": [
    {
     "name": "stdout",
     "output_type": "stream",
     "text": [
      " The mean time between order days if 0.26 for the user BR_07901723807.\n"
     ]
    }
   ],
   "source": [
    "# Formula\n",
    "exp_distribution = 1 / value_lambda\n",
    "\n",
    "# Print\n",
    "print(f\" The mean time between order days if {exp_distribution} for the user {user}.\")"
   ]
  },
  {
   "cell_type": "markdown",
   "metadata": {},
   "source": [
    "According to the result above, the mean time between order days is 0.26 days **for this user.**"
   ]
  }
 ],
 "metadata": {
  "kernelspec": {
   "display_name": "base",
   "language": "python",
   "name": "python3"
  },
  "language_info": {
   "codemirror_mode": {
    "name": "ipython",
    "version": 3
   },
   "file_extension": ".py",
   "mimetype": "text/x-python",
   "name": "python",
   "nbconvert_exporter": "python",
   "pygments_lexer": "ipython3",
   "version": "3.12.7"
  }
 },
 "nbformat": 4,
 "nbformat_minor": 2
}
